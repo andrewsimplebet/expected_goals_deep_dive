{
 "cells": [
  {
   "cell_type": "code",
   "execution_count": 1,
   "metadata": {},
   "outputs": [],
   "source": [
    "import pandas as pd\n",
    "import json\n",
    "import matplotlib.pyplot as plt\n",
    "import matplotlib.lines as mlines\n",
    "import matplotlib.transforms as mtransforms\n",
    "import numpy as np\n",
    "from sklearn.ensemble import RandomForestClassifier\n",
    "from sklearn.linear_model import LogisticRegression\n",
    "\n",
    "from sklearn.model_selection import train_test_split, KFold, cross_val_score, RandomizedSearchCV\n",
    "from sklearn.metrics import log_loss\n",
    "from sklearn.calibration import calibration_curve, CalibratedClassifierCV\n"
   ]
  },
  {
   "cell_type": "code",
   "execution_count": 2,
   "metadata": {},
   "outputs": [],
   "source": [
    "datasets=['England', 'European_Championship', 'France', 'Germany', 'Spain', 'Italy', 'World_Cup']"
   ]
  },
  {
   "cell_type": "code",
   "execution_count": 3,
   "metadata": {},
   "outputs": [],
   "source": [
    "event_dataframes = []\n",
    "for dataset in datasets:\n",
    "    with open('events_'+dataset+'.json') as f:\n",
    "        json_data = json.load(f)\n",
    "        pandas_data = pd.DataFrame(json_data)\n",
    "        event_dataframes.append(pandas_data)\n",
    "all_events_df = pd.concat(event_dataframes, axis=0)\n"
   ]
  },
  {
   "cell_type": "code",
   "execution_count": 4,
   "metadata": {},
   "outputs": [],
   "source": [
    "with open('players.json') as f:\n",
    "    player_json=json.load(f)\n",
    "    player_data = pd.DataFrame(player_json)"
   ]
  },
  {
   "cell_type": "code",
   "execution_count": 5,
   "metadata": {},
   "outputs": [],
   "source": [
    "all_events_df=pd.merge(all_events_df, player_data[['wyId', 'foot']], left_on='playerId', right_on='wyId')"
   ]
  },
  {
   "cell_type": "code",
   "execution_count": 6,
   "metadata": {},
   "outputs": [],
   "source": [
    "all_events_df['previous_event'] = all_events_df['subEventName'].shift(1)"
   ]
  },
  {
   "cell_type": "code",
   "execution_count": 7,
   "metadata": {},
   "outputs": [],
   "source": [
    "all_shots = all_events_df[(all_events_df['subEventName'] == 'Shot') \n",
    "                          |(all_events_df['subEventName'] =='Free kick shot')].copy()\n",
    "\n",
    "all_shots['free_kick'] = 1*(all_shots['subEventName'] == 'Free kick shot')"
   ]
  },
  {
   "cell_type": "code",
   "execution_count": 8,
   "metadata": {},
   "outputs": [],
   "source": [
    "all_shots['rebound']= 1*(all_shots['previous_event'] == 'Penalty') + 1*(all_shots['previous_event'] == 'Free kick shot') + 1*(all_shots['previous_event'] == 'Shot')++ 1*(all_shots['previous_event'] == 'Save attempt')\n",
    "\n",
    "all_shots['prev_cross'] = 1*(all_shots['previous_event'] == 'Corner')+1*(all_shots['previous_event'] == 'Free kick cross') + 1*(all_shots['previous_event'] == 'Cross')\n",
    "\n",
    "all_shots['prev_touch'] = 1*(all_shots['previous_event'] == 'Touch')\n",
    "\n",
    "all_shots['prev_pass'] = 1*(all_shots['previous_event'] == 'Simple pass')+1*(all_shots['previous_event'] == 'Head pass')+1*(all_shots['previous_event'] == 'Goal kick')\n",
    "\n",
    "all_shots['prev_smart_pass'] = 1*(all_shots['previous_event'] == 'Smart pass')\n",
    "\n",
    "all_shots['prev_duel'] = 1*(all_shots['previous_event'] == 'Air duel') + 1*(all_shots['previous_event'] == 'Ground defending duel') +  1*(all_shots['previous_event'] == 'Ground attacking duel') + + 1*(all_shots['previous_event'] == 'Ground defending duel') +  1*(all_shots['previous_event'] == 'Ground loose ball duel duel') \n",
    "\n",
    "\n",
    "\n"
   ]
  },
  {
   "cell_type": "code",
   "execution_count": 9,
   "metadata": {},
   "outputs": [],
   "source": [
    "shots_model=pd.DataFrame(columns=['Goal','X','Y', 'side_of_field', 'left_foot', 'right_foot', 'header', 'counter_attack', 'strong_foot'])"
   ]
  },
  {
   "cell_type": "code",
   "execution_count": 10,
   "metadata": {},
   "outputs": [],
   "source": [
    "for i,shot in all_shots.iterrows():\n",
    "    shots_model.at[i,'X']=100-shot['positions'][0]['x']\n",
    "    shots_model.at[i,'Y']=shot['positions'][0]['y']\n",
    "    shots_model.at[i,'side_of_field']= 1*(shot['positions'][0]['y'] <  50)\n",
    "    shots_model.at[i,'C']=abs(shot['positions'][0]['y']-50)\n",
    "    \n",
    "    #Distance in metres and shot angle in radians.\n",
    "    x=shots_model.at[i,'X']*105/100\n",
    "    y=shots_model.at[i,'C']*65/100\n",
    "    shots_model.at[i,'Distance']=np.sqrt(x**2 + y**2)\n",
    "    a = np.arctan(7.32 *x /(x**2 + y**2 - (7.32/2)**2))\n",
    "    if a<0:\n",
    "        a=np.pi+a\n",
    "    shots_model.at[i,'Angle'] =a\n",
    "    shottags=[tag['id'] for tag in shot['tags']]\n",
    "    if 101 in shottags:\n",
    "        shots_model.at[i,'Goal']=1\n",
    "    if 401 in shottags:\n",
    "        shots_model.at[i, 'left_foot']=1\n",
    "        if shot.loc['foot']=='left':\n",
    "            shots_model.at[i, 'strong_foot'] = 1\n",
    "    if 402 in shottags:\n",
    "        shots_model.at[i, 'right_foot']=1\n",
    "        if shot.loc['foot']=='right':\n",
    "            shots_model.at[i, 'strong_foot'] = 1\n",
    "    if 403 in shottags:\n",
    "        shots_model.at[i, 'header']=1\n",
    "    if 1901 in shottags:\n",
    "        shots_model.at[i, 'counter_attack'] = 1\n",
    "shots_model = shots_model.fillna(0)\n"
   ]
  },
  {
   "cell_type": "code",
   "execution_count": 11,
   "metadata": {},
   "outputs": [
    {
     "ename": "NameError",
     "evalue": "name 'shots' is not defined",
     "output_type": "error",
     "traceback": [
      "\u001b[0;31m---------------------------------------------------------------------------\u001b[0m",
      "\u001b[0;31mNameError\u001b[0m                                 Traceback (most recent call last)",
      "\u001b[0;32m<ipython-input-11-37ce9cf4bf49>\u001b[0m in \u001b[0;36m<module>\u001b[0;34m\u001b[0m\n\u001b[0;32m----> 1\u001b[0;31m \u001b[0mshots_model\u001b[0m\u001b[0;34m[\u001b[0m\u001b[0;34m'in_swinging'\u001b[0m\u001b[0;34m]\u001b[0m \u001b[0;34m=\u001b[0m \u001b[0;36m1\u001b[0m\u001b[0;34m*\u001b[0m\u001b[0;34m(\u001b[0m\u001b[0mshots\u001b[0m\u001b[0;34m[\u001b[0m\u001b[0;34m'side_of_field'\u001b[0m\u001b[0;34m]\u001b[0m \u001b[0;34m==\u001b[0m\u001b[0;36m1\u001b[0m\u001b[0;34m)\u001b[0m\u001b[0;34m*\u001b[0m\u001b[0;34m(\u001b[0m\u001b[0mshots\u001b[0m\u001b[0;34m[\u001b[0m\u001b[0;34m'right_foot'\u001b[0m\u001b[0;34m]\u001b[0m\u001b[0;34m==\u001b[0m\u001b[0;36m1\u001b[0m\u001b[0;34m)\u001b[0m\u001b[0;34m+\u001b[0m\u001b[0;36m1\u001b[0m\u001b[0;34m*\u001b[0m\u001b[0;34m(\u001b[0m\u001b[0mshots\u001b[0m\u001b[0;34m[\u001b[0m\u001b[0;34m'side_of_field'\u001b[0m\u001b[0;34m]\u001b[0m \u001b[0;34m==\u001b[0m\u001b[0;36m0\u001b[0m\u001b[0;34m)\u001b[0m\u001b[0;34m*\u001b[0m\u001b[0;34m(\u001b[0m\u001b[0mshots\u001b[0m\u001b[0;34m[\u001b[0m\u001b[0;34m'left_foot'\u001b[0m\u001b[0;34m]\u001b[0m\u001b[0;34m==\u001b[0m\u001b[0;36m1\u001b[0m\u001b[0;34m)\u001b[0m\u001b[0;34m\u001b[0m\u001b[0;34m\u001b[0m\u001b[0m\n\u001b[0m\u001b[1;32m      2\u001b[0m \u001b[0mshots_model\u001b[0m\u001b[0;34m[\u001b[0m\u001b[0;34m'out_swinging'\u001b[0m\u001b[0;34m]\u001b[0m \u001b[0;34m=\u001b[0m \u001b[0;36m1\u001b[0m\u001b[0;34m*\u001b[0m\u001b[0;34m(\u001b[0m\u001b[0mshots\u001b[0m\u001b[0;34m[\u001b[0m\u001b[0;34m'side_of_field'\u001b[0m\u001b[0;34m]\u001b[0m \u001b[0;34m==\u001b[0m\u001b[0;36m1\u001b[0m\u001b[0;34m)\u001b[0m\u001b[0;34m*\u001b[0m\u001b[0;34m(\u001b[0m\u001b[0mshots\u001b[0m\u001b[0;34m[\u001b[0m\u001b[0;34m'left_foot'\u001b[0m\u001b[0;34m]\u001b[0m\u001b[0;34m==\u001b[0m\u001b[0;36m1\u001b[0m\u001b[0;34m)\u001b[0m\u001b[0;34m+\u001b[0m\u001b[0;36m1\u001b[0m\u001b[0;34m*\u001b[0m\u001b[0;34m(\u001b[0m\u001b[0mshots\u001b[0m\u001b[0;34m[\u001b[0m\u001b[0;34m'side_of_field'\u001b[0m\u001b[0;34m]\u001b[0m \u001b[0;34m==\u001b[0m\u001b[0;36m0\u001b[0m\u001b[0;34m)\u001b[0m\u001b[0;34m*\u001b[0m\u001b[0;34m(\u001b[0m\u001b[0mshots\u001b[0m\u001b[0;34m[\u001b[0m\u001b[0;34m'right_foot'\u001b[0m\u001b[0;34m]\u001b[0m\u001b[0;34m==\u001b[0m\u001b[0;36m1\u001b[0m\u001b[0;34m)\u001b[0m\u001b[0;34m\u001b[0m\u001b[0;34m\u001b[0m\u001b[0m\n",
      "\u001b[0;31mNameError\u001b[0m: name 'shots' is not defined"
     ]
    }
   ],
   "source": [
    "shots_model['in_swinging'] = 1*(shots_model['side_of_field'] ==1)*(shots_model['right_foot']==1)+1*(shots_model['side_of_field'] ==0)*(shots_model['left_foot']==1)\n",
    "shots_model['out_swinging'] = 1*(shots_model['side_of_field'] ==1)*(shots_model['left_foot']==1)+1*(shots_model['side_of_field'] ==0)*(shots_model['right_foot']==1)\n"
   ]
  },
  {
   "cell_type": "code",
   "execution_count": null,
   "metadata": {},
   "outputs": [],
   "source": [
    "shots_model = pd.merge(shots_model, all_shots[['rebound', 'prev_cross', 'prev_touch',  'prev_pass','prev_smart_pass', 'free_kick', 'prev_duel']], left_index=True, right_index=True, how='left')\n",
    "shots_model = shots_model.reset_index(drop=True)\n"
   ]
  },
  {
   "cell_type": "code",
   "execution_count": null,
   "metadata": {},
   "outputs": [],
   "source": [
    "shots_model"
   ]
  },
  {
   "cell_type": "code",
   "execution_count": 13,
   "metadata": {},
   "outputs": [],
   "source": [
    "shots_model.to_csv('shots_design_matrix.csv')"
   ]
  }
 ],
 "metadata": {
  "kernelspec": {
   "display_name": "Python 3",
   "language": "python",
   "name": "python3"
  },
  "language_info": {
   "codemirror_mode": {
    "name": "ipython",
    "version": 3
   },
   "file_extension": ".py",
   "mimetype": "text/x-python",
   "name": "python",
   "nbconvert_exporter": "python",
   "pygments_lexer": "ipython3",
   "version": "3.7.6"
  }
 },
 "nbformat": 4,
 "nbformat_minor": 1
}
