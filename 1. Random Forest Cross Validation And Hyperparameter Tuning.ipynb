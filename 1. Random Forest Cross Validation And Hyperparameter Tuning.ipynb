{
 "cells": [
  {
   "cell_type": "markdown",
   "metadata": {},
   "source": [
    "# Notebook 1: Building an Expected  Goals Model Using Random Forest"
   ]
  },
  {
   "cell_type": "markdown",
   "metadata": {},
   "source": [
    "## Introduction:"
   ]
  },
  {
   "cell_type": "markdown",
   "metadata": {},
   "source": [
    "<font color='black'> Welcome to my first notebook on expected goals models. In these notebooks, we will build on the excellent work already done by David Sumpter on the Friends of Tracking Series and @clekraus on his soccer_analytics Github repo, and take a deeper dive into the concepts, compare the pros and cons of simpler and more complex models, examine how we would calibrate our models, and generate plots that could be helpful for a coaching staff <font>"
   ]
  },
  {
   "cell_type": "markdown",
   "metadata": {},
   "source": [
    "<font color='black'> In our first notebook on building expected goals models, we will look at building an Expected Goals Model using a Random Forest model. Random Forest models are generally the most widely known and simples model class in Machine Learning, and the concepts learned from building a Random Forest model translate when building other machine learning and deep learning models, such as a  LightGBM (which @clekraus uses in his notebook) or an xGBoost (which @DevinPleuler intends to release soon on his analytics-handbook Github repo). Random Forests are also notorious for not being well calibrated, which will come in handy during the notebook where we focus on calibrating our machine learning models. </font>"
   ]
  },
  {
   "cell_type": "markdown",
   "metadata": {},
   "source": [
    "#### <font color='black'> In this notebook, we will place an emphasis on the following points:  <br>\n",
    "\n",
    " 1.) The dangers of using the default sklearn parameters when training a Random Forest, particularly with regards to overfitting.<br> <br>\n",
    "2.) Hyperparameter tuning and cross validation, comparing Grid Search and Random Search <br> <br>\n",
    "3.) Feature importance for Random Forest Models. </font>"
   ]
  },
  {
   "cell_type": "markdown",
   "metadata": {},
   "source": [
    "<font color='black'> First, let's import all of the packages that we will use in this notebook </font> "
   ]
  },
  {
   "cell_type": "code",
   "execution_count": 1,
   "metadata": {},
   "outputs": [],
   "source": [
    "import numpy as np\n",
    "import pandas as pd\n",
    "import matplotlib.pyplot as plt\n",
    "from sklearn.ensemble import RandomForestClassifier\n",
    "from sklearn.inspection import permutation_importance\n",
    "\n",
    "from sklearn.model_selection import train_test_split, KFold, cross_val_score, GridSearchCV, RandomizedSearchCV\n",
    "\n",
    "from sklearn.metrics import log_loss, roc_auc_score, roc_curve"
   ]
  },
  {
   "cell_type": "markdown",
   "metadata": {},
   "source": [
    "<font color='black'> Now, let's load in the data  from the CSV. To generate this code and to get an understanding of  how this dataset was generated, please download all the Wyscout data, and run all the code in notebook 0.</font> "
   ]
  },
  {
   "cell_type": "markdown",
   "metadata": {},
   "source": [
    "### Introduction To Our Data"
   ]
  },
  {
   "cell_type": "markdown",
   "metadata": {},
   "source": [
    "Before we start, let's drop all rows with distance greater than 60 meters (as many of those datapoints are inaccurate, see: https://twitter.com/andrew_puopolo/status/1261412288856285192)  as well as the columns that are informational (those will come in handy later in the  series)"
   ]
  },
  {
   "cell_type": "code",
   "execution_count": 2,
   "metadata": {},
   "outputs": [],
   "source": [
    "shots_model = pd.read_csv('shots_design_matrix.csv')\n",
    "shots_model=shots_model[shots_model['Distance'] < 75]\n",
    "shots_model=shots_model.drop(columns=['Unnamed: 0',  'firstName',  'lastName',  'label', 'venue', 'date', 'eventSec', 'matchPeriod'])"
   ]
  },
  {
   "cell_type": "markdown",
   "metadata": {},
   "source": [
    "<font color='black'> Let's separate our data into our target variables (goals),  and our design matrix used to predict  goals (everything else).</font> "
   ]
  },
  {
   "cell_type": "code",
   "execution_count": 3,
   "metadata": {},
   "outputs": [],
   "source": [
    "y=shots_model['Goal']\n",
    "x=shots_model.drop(['Goal'], axis=1)"
   ]
  },
  {
   "cell_type": "markdown",
   "metadata": {},
   "source": [
    "<font color='black'> Let's take a look at the data we have to predict the number of goals</font> "
   ]
  },
  {
   "cell_type": "code",
   "execution_count": 4,
   "metadata": {},
   "outputs": [
    {
     "data": {
      "text/html": [
       "<div>\n",
       "<style scoped>\n",
       "    .dataframe tbody tr th:only-of-type {\n",
       "        vertical-align: middle;\n",
       "    }\n",
       "\n",
       "    .dataframe tbody tr th {\n",
       "        vertical-align: top;\n",
       "    }\n",
       "\n",
       "    .dataframe thead th {\n",
       "        text-align: right;\n",
       "    }\n",
       "</style>\n",
       "<table border=\"1\" class=\"dataframe\">\n",
       "  <thead>\n",
       "    <tr style=\"text-align: right;\">\n",
       "      <th></th>\n",
       "      <th>X</th>\n",
       "      <th>Y</th>\n",
       "      <th>side_of_field</th>\n",
       "      <th>left_foot</th>\n",
       "      <th>right_foot</th>\n",
       "      <th>header</th>\n",
       "      <th>counter_attack</th>\n",
       "      <th>strong_foot</th>\n",
       "      <th>C</th>\n",
       "      <th>Distance</th>\n",
       "      <th>Angle</th>\n",
       "      <th>out_swinging</th>\n",
       "      <th>in_swinging</th>\n",
       "      <th>rebound</th>\n",
       "      <th>prev_cross</th>\n",
       "      <th>prev_touch</th>\n",
       "      <th>prev_pass</th>\n",
       "      <th>prev_smart_pass</th>\n",
       "      <th>free_kick</th>\n",
       "      <th>prev_duel</th>\n",
       "    </tr>\n",
       "  </thead>\n",
       "  <tbody>\n",
       "    <tr>\n",
       "      <th>0</th>\n",
       "      <td>9</td>\n",
       "      <td>29</td>\n",
       "      <td>1</td>\n",
       "      <td>0</td>\n",
       "      <td>1</td>\n",
       "      <td>0</td>\n",
       "      <td>0</td>\n",
       "      <td>0</td>\n",
       "      <td>21.0</td>\n",
       "      <td>16.601958</td>\n",
       "      <td>0.257917</td>\n",
       "      <td>0</td>\n",
       "      <td>1</td>\n",
       "      <td>0</td>\n",
       "      <td>0</td>\n",
       "      <td>0</td>\n",
       "      <td>1</td>\n",
       "      <td>0</td>\n",
       "      <td>0</td>\n",
       "      <td>0</td>\n",
       "    </tr>\n",
       "    <tr>\n",
       "      <th>1</th>\n",
       "      <td>29</td>\n",
       "      <td>29</td>\n",
       "      <td>1</td>\n",
       "      <td>0</td>\n",
       "      <td>1</td>\n",
       "      <td>0</td>\n",
       "      <td>0</td>\n",
       "      <td>1</td>\n",
       "      <td>21.0</td>\n",
       "      <td>33.369522</td>\n",
       "      <td>0.199901</td>\n",
       "      <td>0</td>\n",
       "      <td>1</td>\n",
       "      <td>0</td>\n",
       "      <td>0</td>\n",
       "      <td>0</td>\n",
       "      <td>1</td>\n",
       "      <td>0</td>\n",
       "      <td>0</td>\n",
       "      <td>0</td>\n",
       "    </tr>\n",
       "    <tr>\n",
       "      <th>2</th>\n",
       "      <td>4</td>\n",
       "      <td>57</td>\n",
       "      <td>0</td>\n",
       "      <td>0</td>\n",
       "      <td>1</td>\n",
       "      <td>0</td>\n",
       "      <td>0</td>\n",
       "      <td>1</td>\n",
       "      <td>7.0</td>\n",
       "      <td>6.192132</td>\n",
       "      <td>0.889119</td>\n",
       "      <td>1</td>\n",
       "      <td>0</td>\n",
       "      <td>0</td>\n",
       "      <td>0</td>\n",
       "      <td>0</td>\n",
       "      <td>0</td>\n",
       "      <td>0</td>\n",
       "      <td>0</td>\n",
       "      <td>1</td>\n",
       "    </tr>\n",
       "    <tr>\n",
       "      <th>3</th>\n",
       "      <td>4</td>\n",
       "      <td>61</td>\n",
       "      <td>0</td>\n",
       "      <td>0</td>\n",
       "      <td>0</td>\n",
       "      <td>1</td>\n",
       "      <td>0</td>\n",
       "      <td>0</td>\n",
       "      <td>11.0</td>\n",
       "      <td>8.292316</td>\n",
       "      <td>0.506886</td>\n",
       "      <td>0</td>\n",
       "      <td>0</td>\n",
       "      <td>0</td>\n",
       "      <td>0</td>\n",
       "      <td>0</td>\n",
       "      <td>0</td>\n",
       "      <td>0</td>\n",
       "      <td>0</td>\n",
       "      <td>1</td>\n",
       "    </tr>\n",
       "    <tr>\n",
       "      <th>4</th>\n",
       "      <td>25</td>\n",
       "      <td>33</td>\n",
       "      <td>1</td>\n",
       "      <td>1</td>\n",
       "      <td>0</td>\n",
       "      <td>0</td>\n",
       "      <td>0</td>\n",
       "      <td>1</td>\n",
       "      <td>17.0</td>\n",
       "      <td>28.480959</td>\n",
       "      <td>0.236357</td>\n",
       "      <td>1</td>\n",
       "      <td>0</td>\n",
       "      <td>0</td>\n",
       "      <td>0</td>\n",
       "      <td>0</td>\n",
       "      <td>1</td>\n",
       "      <td>0</td>\n",
       "      <td>0</td>\n",
       "      <td>0</td>\n",
       "    </tr>\n",
       "  </tbody>\n",
       "</table>\n",
       "</div>"
      ],
      "text/plain": [
       "    X   Y  side_of_field  left_foot  right_foot  header  counter_attack  \\\n",
       "0   9  29              1          0           1       0               0   \n",
       "1  29  29              1          0           1       0               0   \n",
       "2   4  57              0          0           1       0               0   \n",
       "3   4  61              0          0           0       1               0   \n",
       "4  25  33              1          1           0       0               0   \n",
       "\n",
       "   strong_foot     C   Distance     Angle  out_swinging  in_swinging  rebound  \\\n",
       "0            0  21.0  16.601958  0.257917             0            1        0   \n",
       "1            1  21.0  33.369522  0.199901             0            1        0   \n",
       "2            1   7.0   6.192132  0.889119             1            0        0   \n",
       "3            0  11.0   8.292316  0.506886             0            0        0   \n",
       "4            1  17.0  28.480959  0.236357             1            0        0   \n",
       "\n",
       "   prev_cross  prev_touch  prev_pass  prev_smart_pass  free_kick  prev_duel  \n",
       "0           0           0          1                0          0          0  \n",
       "1           0           0          1                0          0          0  \n",
       "2           0           0          0                0          0          1  \n",
       "3           0           0          0                0          0          1  \n",
       "4           0           0          1                0          0          0  "
      ]
     },
     "execution_count": 4,
     "metadata": {},
     "output_type": "execute_result"
    }
   ],
   "source": [
    "x.head()"
   ]
  },
  {
   "cell_type": "markdown",
   "metadata": {},
   "source": [
    "<font color='black'> For those that are unclear of what each of these 20 variables represent, here's a brief description of each: <br> <br>\n",
    "<b> X </b> (per wyscout): The percentage of X position in percentage from the left corner of the attacking team<br>\n",
    "<b>Y </b>: (per wyscout, and after a transformation) Y position in percentage from the rightcorner of the attacking team <br> \n",
    "<b>side_of_field </b>: 0 if the shot came from the right side of the field, from the perspective of the attacking team, 1 otherwise<br> \n",
    "<b> left_foot </b>: 1 if the shot was taken with the left foot, 0 otherwise. <br>\n",
    "<b> right_foot </b>: 1 if the shot was taken with the right foot, 0 otherwise. <br>\n",
    "<b> right_foot </b>: 1 if the shot was taken with the head or body, 0 otherwise. <br>\n",
    "<b> counter_attack </b>: 1 if the shot was taken with the head or body, 0 otherwise. <br>\n",
    "<b> strong_foot </b>: 1 if the shot was taken with the player's stronger foot, 0 otherwise. This feature was an inspiration from @clekraus. <br>\n",
    "<b> C </b> The number of meters from the center of the pitch, as calculated in David Sumpter's first Friends of Tracking Video on expected goals. <br>\n",
    "<b> Distance </b> The number of meters from the goal, also courtesy of David Sumpter. <br>\n",
    "<b> in-swinging </b> 1 if the shot was taken as an \"in-swinger\", 0 otherwise. An \"in-swinger\" is right footed shot from the left side of the field (relative to the attacking team), and vice versa for a left footed shot. <br>\n",
    "<b> out-swinging </b> The opposite of in-swinging. <br>\n",
    "<b> prev_rebound </b> 1 if the previous event was a shot, 0 otherwise. <br>\n",
    "<b> prev_cross </b> 1 if the previous event was a cross, 0 otherwise. <br>\n",
    "<b> prev_touch </b> 1 if the previous event was a touch, 0 otherwise. <br>\n",
    "<b> prev_pass </b> 1 if the previous event was a pass, 0 otherwise. <br>\n",
    "<b> prev_smart_pass </b> 1 if the previous event was a smart pass, 0 otherwise. <br>\n",
    "<b> free_kick </b> 1 if the event shot was a free kick, 0 otherwise. <br>\n",
    "<b> prev_duel </b> 1 if the previous event was a duel, 0 otherwise. <br> <br> </font>\n",
    "\n"
   ]
  },
  {
   "cell_type": "markdown",
   "metadata": {},
   "source": [
    "### Fitting an Initial Random Forest Model"
   ]
  },
  {
   "cell_type": "markdown",
   "metadata": {},
   "source": [
    "<font color='black'> One of the most important concepts of machine learning is to ensure that your model is able to predict well on data that it has never seen before. Thus, in order to build and then test our model, we split our data into a training set which will be used to build the model, and a testing set that is not used  to build the model, but  which we use to evaluate the model's predictions  </font>"
   ]
  },
  {
   "cell_type": "code",
   "execution_count": 5,
   "metadata": {},
   "outputs": [],
   "source": [
    "x_train, x_test, y_train, y_test = train_test_split(x, y, test_size=0.2, random_state=42)"
   ]
  },
  {
   "cell_type": "markdown",
   "metadata": {},
   "source": [
    "<font color='black'> Now, we will build a Random Forest model using the sklearn implementation of the model. However, first we ought to take a look at what a Random Forest is, and how it works. There are tons of resources available on the internet to help explain this better, but I'll just give a brief overview. </font>"
   ]
  },
  {
   "cell_type": "markdown",
   "metadata": {},
   "source": [
    "<font color='black'> Random Forest is an example of a \"bagging\" algorithm, which means it fits a number of independent decision trees, and then averages the predictions across the decision trees. Each individual decision tree uses a random subset of the data, and at each node of the tree splits based on certain features that improve the accuracy of the model. </font>"
   ]
  },
  {
   "cell_type": "markdown",
   "metadata": {},
   "source": [
    "<font> The first model we will build will be the default sklearn implementation of Random Forest. We will build it on the training set and then evaluate on the testing set. As a brief note, ``sklearn`` is a Python package that contains many tools for working with predictive machine learning models. Sklearn functions will aid with the vast majority of the work we do throughout this series.  </font>"
   ]
  },
  {
   "cell_type": "markdown",
   "metadata": {},
   "source": [
    "Another note is that every model we fit will include a `random_state` that we set equal to 42. This has no impact on the performanace of the model, but ensures that the results will be identical every time the specific model is run, both on my computer and yours."
   ]
  },
  {
   "cell_type": "code",
   "execution_count": 6,
   "metadata": {},
   "outputs": [],
   "source": [
    "naive_rf_model=RandomForestClassifier(random_state=42)"
   ]
  },
  {
   "cell_type": "code",
   "execution_count": 7,
   "metadata": {},
   "outputs": [
    {
     "data": {
      "text/plain": [
       "RandomForestClassifier(bootstrap=True, ccp_alpha=0.0, class_weight=None,\n",
       "                       criterion='gini', max_depth=None, max_features='auto',\n",
       "                       max_leaf_nodes=None, max_samples=None,\n",
       "                       min_impurity_decrease=0.0, min_impurity_split=None,\n",
       "                       min_samples_leaf=1, min_samples_split=2,\n",
       "                       min_weight_fraction_leaf=0.0, n_estimators=100,\n",
       "                       n_jobs=None, oob_score=False, random_state=42, verbose=0,\n",
       "                       warm_start=False)"
      ]
     },
     "execution_count": 7,
     "metadata": {},
     "output_type": "execute_result"
    }
   ],
   "source": [
    "naive_rf_model.fit(x_train, y_train)"
   ]
  },
  {
   "cell_type": "markdown",
   "metadata": {},
   "source": [
    "We now need to evaluate the performance of our model. To do that, we will examine the log-loss and ROC-AUC score on both the training set and the testing set. For more information on these two metrics, please refer to @clekraus and David Sumpter's work on this matter, as they explain this in detail."
   ]
  },
  {
   "cell_type": "code",
   "execution_count": 8,
   "metadata": {},
   "outputs": [
    {
     "name": "stdout",
     "output_type": "stream",
     "text": [
      "The log loss of our model on the training set is : 0.1373\n",
      "The ROC AUC of our model on the training set is : 0.969\n"
     ]
    }
   ],
   "source": [
    "train_y_hat=naive_rf_model.predict_proba(x_train)\n",
    "naive_train_log_loss=log_loss(y_train, train_y_hat[:,1])\n",
    "naive_train_roc_auc=roc_auc_score(y_train, train_y_hat[:,1])\n",
    "print('The log loss of our model on the training set is : ' +str(round(naive_train_log_loss, 4)))\n",
    "print('The ROC AUC of our model on the training set is : ' +str(round(naive_train_roc_auc, 3)))\n",
    "\n"
   ]
  },
  {
   "cell_type": "markdown",
   "metadata": {},
   "source": [
    "Note that for now, these metrics are pretty meaningless as there is nothing to compare them to. It is unclear what a log-loss of 0.1422 means, but will be useful when comparing two models  to one another."
   ]
  },
  {
   "cell_type": "markdown",
   "metadata": {},
   "source": [
    "Let's take a look at these  metrics on the test set, to see how our model performs on new data"
   ]
  },
  {
   "cell_type": "code",
   "execution_count": 9,
   "metadata": {},
   "outputs": [
    {
     "name": "stdout",
     "output_type": "stream",
     "text": [
      "The log loss of our model on the test set is : 0.876\n",
      "The ROC AUC of our model on the test set is : 0.695\n"
     ]
    }
   ],
   "source": [
    "test_y_hat=naive_rf_model.predict_proba(x_test)\n",
    "naive_test_log_loss=log_loss(y_test, test_y_hat[:,1])\n",
    "naive_test_roc_auc=roc_auc_score(y_test, test_y_hat[:,1])\n",
    "print('The log loss of our model on the test set is : ' +str(round(naive_test_log_loss, 4)))\n",
    "print('The ROC AUC of our model on the test set is : ' +str(round(naive_test_roc_auc, 3)))\n"
   ]
  },
  {
   "cell_type": "markdown",
   "metadata": {},
   "source": [
    "Well, this is a problem! Our model performs really well on the training set, but terribly on our test set, which means that the model does not predict well on new data. Overfitting is a classic problem in machine learning, and we'll spend the rest of this notebook learning how to avoid this issue."
   ]
  },
  {
   "cell_type": "markdown",
   "metadata": {},
   "source": [
    "Another tool we have is a  plot of the ROC/AUC curve. Fortunately, sklearn already has an implementation of that, so we'll just use that and  compare the ROC/AUC between our models on the training  set and the test set"
   ]
  },
  {
   "cell_type": "code",
   "execution_count": 10,
   "metadata": {},
   "outputs": [],
   "source": [
    "train_fpr, train_tpr, train_thresholds = roc_curve(y_true=y_train, y_score=train_y_hat[:,1])\n",
    "test_fpr, test_tpr, test_thresholds = roc_curve(y_true=y_test, y_score=test_y_hat[:,1])"
   ]
  },
  {
   "cell_type": "code",
   "execution_count": 11,
   "metadata": {},
   "outputs": [
    {
     "data": {
      "image/png": "[encoded data removed]",
      "text/plain": [
       "<Figure size 432x288 with 1 Axes>"
      ]
     },
     "metadata": {
      "needs_background": "light"
     },
     "output_type": "display_data"
    }
   ],
   "source": [
    "plt.plot(train_fpr, train_tpr, label='Train ROC AUC')\n",
    "plt.plot(test_fpr, test_tpr, label='Test ROC AUC')\n",
    "plt.plot([0, 1], [0, 1], color = 'black', linewidth = 2, linestyle = '--')\n",
    "plt.xlabel('False Positive Rate')\n",
    "plt.ylabel('True Positive Rate')\n",
    "plt.legend()\n",
    "plt.title('ROC AUC Curve For Naive Random Forest Model On Train vs Test Set')\n",
    "plt.show()"
   ]
  },
  {
   "cell_type": "markdown",
   "metadata": {},
   "source": [
    "This hammers the point home further that this model performs very poorly on data it has not seen before. Thus, we need to dive deeper into what is going on."
   ]
  },
  {
   "cell_type": "markdown",
   "metadata": {},
   "source": [
    "###  Random Forest  Hyperparameters"
   ]
  },
  {
   "cell_type": "markdown",
   "metadata": {},
   "source": [
    "The ``naive_rf_model`` uses the default sklearn Random Forest implementation to build the model, so let's take a lot at that"
   ]
  },
  {
   "cell_type": "code",
   "execution_count": 12,
   "metadata": {},
   "outputs": [
    {
     "data": {
      "text/plain": [
       "RandomForestClassifier(bootstrap=True, ccp_alpha=0.0, class_weight=None,\n",
       "                       criterion='gini', max_depth=None, max_features='auto',\n",
       "                       max_leaf_nodes=None, max_samples=None,\n",
       "                       min_impurity_decrease=0.0, min_impurity_split=None,\n",
       "                       min_samples_leaf=1, min_samples_split=2,\n",
       "                       min_weight_fraction_leaf=0.0, n_estimators=100,\n",
       "                       n_jobs=None, oob_score=False, random_state=42, verbose=0,\n",
       "                       warm_start=False)"
      ]
     },
     "execution_count": 12,
     "metadata": {},
     "output_type": "execute_result"
    }
   ],
   "source": [
    "naive_rf_model"
   ]
  },
  {
   "cell_type": "markdown",
   "metadata": {},
   "source": [
    "Here, we see a series of values that are associated with this particular usage of the Random Forest. These values are known as ``hyperparameters`` that help the Random Forest model learn from the data. In this notebook, we will take a closer look at `n_estimators`, `max_depth`, `min_samples_leaf`, `min_samples_split`, `criterion`, and `max_features`. These parameters help with preventing overfitting, but still ensuring that the model learns from the training data."
   ]
  },
  {
   "cell_type": "markdown",
   "metadata": {},
   "source": [
    "There are a ton of resources online that will explain the function of these hyperparameters way better than I can, but I will give a brief explanation of them. <br> <br>\n",
    "`n_estimators`: The number of decision tress used to train the model. Increasing the number of trees will reduce the variance of your predictions as each tree is independent, but increase the amount of time it takes to train the model.  The sklearn default is 100. <br>\n",
    "`max_depth`: The maximum allowed depth of any individual decision tree. A greater value leads to the model having more splits and learning from the data, but also makes it prone to overfitting. The sklearn default is `None`, which means that the model will keep splitting if it sees the opportunity to improve the `gain`.\n",
    "`min_samples_leaf`: The minimum number of samples allowed to be in a leaf. The greater the valaue, the less the tree will split, which reduces overfitting but gives the model less opportunity to learn from the data. The sklearn default is 1. <br>\n",
    "`min_samples_split`: The minimum number of samples allowed to split a leaf into a new leaf. The greater the value, the less likely the tree will split further, which reduces overfitting but gives the model less opportunity to learn from the data. The sklearn default is 2. <br>\n",
    "`criterion`: The mathematical representation of the \"gain\" that is used to split nodes. Either `gini` or `entropy`. sklearn defaults to `gini`. <br>\n",
    "`max_features`: The maximum number of features allowed to use when determining how to split a node. The sklearn default is `auto`, which represents the square  root of the total number of features. The greater the value, the more precise but more prone t overfitting"
   ]
  },
  {
   "cell_type": "markdown",
   "metadata": {},
   "source": [
    "As you can see, every default `sklearn` parameter (except `n_estimators`) takes on a value that leads to the most extreme overfitting of the data. Thus, you must be really careful when fitting an sklearn (or any machine/deep learning model) to ensure that the hyperparameters are what you want them to be, otherwise your model will perform poorly and you might not understand why."
   ]
  },
  {
   "cell_type": "markdown",
   "metadata": {},
   "source": [
    "### Cross Validation  and  Hyper Parameter Tuning"
   ]
  },
  {
   "cell_type": "markdown",
   "metadata": {},
   "source": [
    "Now, we will go through the process of determining the optimal values of these 6 parameters. There are 3 very common approaches, `RandomSearch`, `GridSearch` and Bayesian methods. @clekraus mentions this in his notebook, but skips over some of the details on the tuning in order to showcasae the results. Thus, I figured this was a good opportunity to explain how to come to the optimal set of hyperparameters.  The optimal parameters will be found using a common machine learning methodology known as `cross_validation`."
   ]
  },
  {
   "cell_type": "markdown",
   "metadata": {},
   "source": [
    "Cross validation is a method to ensure that we find the optimal set of parameters to ensure that our model fits the data as well as possible, and is capable of generalizing to new data. The most common form of cross validation is `KFold`. In `KFold`, we split our data into `K` different folds (naturally). We then fit the model `K` times with the relevant hyperparameters. In each run of the model, we use `K-1` folds for training, and then test on the fold that isn't used for training. Thus, we are able to see how our model performs on data it hasn't seen before."
   ]
  },
  {
   "cell_type": "markdown",
   "metadata": {},
   "source": [
    "The reason why we fit this `K` times is to ensure that all datapoints are treated equally in training and testing. If we always train on the same data and test on the same data, then we are `overfitting to the test set`."
   ]
  },
  {
   "cell_type": "markdown",
   "metadata": {},
   "source": [
    "Now, let's take a look into the methods for determining hyperparameters, as well as their pros and cons. For each method, we determine a \"grid\" of values for each parameter that  we use to test. Then, each algorithm attempts to pick the best value for each hyparameter:"
   ]
  },
  {
   "cell_type": "markdown",
   "metadata": {},
   "source": [
    "<b> Random Search: </b> <br> <br>\n",
    "Description: The user sets a number of iterations to test the model, and then on each iteration the algorithm picks a random set of parameters from the grid (without replacement) and computes the loss metrics. The more iterations, the more likely you are to find the best parameters, but the longer the algorithm takes to run. <br>\n",
    "Pros: Fastest method out of them all, does a reasonably good job of finding close to the best parameters. Allows for parallelization (which allows you to try multiple sets of parameters at the same time). <br> \n",
    "Cons: Setting too few values can lead to suboptimal solutions. Unlikely to find the absolute best set of parameters."
   ]
  },
  {
   "cell_type": "markdown",
   "metadata": {},
   "source": [
    "<b> Grid Search: </b> <br> <br>\n",
    "Description: The algorithm tries every permutation of values from the grid and computes the loss metrics. <br>\n",
    "Pros: Grid search guarantees that you will find the \"optimal\" set of hyperparameters, as it tries every single possibility. Like Random Search, it also plays nicely with parallelization. <br>\n",
    "Cons: By far the slowest out of all the options as it tries every single combination. Thus, you must limit the number of parameters to tune/the number of values for each parameter or else the grid will become massive and you will never finish running your grid search."
   ]
  },
  {
   "cell_type": "markdown",
   "metadata": {},
   "source": [
    "<b> Bayesian Search: </b> <br> <br>\n",
    "Description: In Bayesian Search, the algorithm learns from results of the previous iterations to pick values that are more likely to produce optimal solutions  <br>\n",
    "Pros: Learns from previous iterations, so converges on the correct solution faster. <br>\n",
    "Cons: (Generally) doesn't play well with parallelization, so it takes much longer to find the solution. As with all Bayesian methods, there is a risk of converging on a local (rather than global) maximum.  <br>"
   ]
  },
  {
   "cell_type": "markdown",
   "metadata": {},
   "source": [
    "In this notebook, we will implement both Grid and Random Searches. We won't look at Bayesian because the code is more complicated and due to the lack of parallelization, it is quite slow. In addition, GridSearch is guaranteed to find a \"more optimal\" solution than Bayesian (as it tries every set of value), albeit in a lot more time."
   ]
  },
  {
   "cell_type": "markdown",
   "metadata": {},
   "source": [
    "We will evaluate the performance of these 2 methods on `speed` and `performance`, where `performance` is determined on how the model with the chosen hyperparameters performs on the held out test set (which is not used at all in the cross validation procedure). We use `%timeit` to time the algorithms to illustrate how long they take"
   ]
  },
  {
   "cell_type": "markdown",
   "metadata": {},
   "source": [
    "Initialize models:"
   ]
  },
  {
   "cell_type": "code",
   "execution_count": 13,
   "metadata": {},
   "outputs": [],
   "source": [
    "random_search_model = RandomForestClassifier(random_state=42)\n",
    "grid_search_model = RandomForestClassifier(random_state=42)"
   ]
  },
  {
   "cell_type": "markdown",
   "metadata": {},
   "source": [
    "Set up the cross validation folds"
   ]
  },
  {
   "cell_type": "code",
   "execution_count": 14,
   "metadata": {},
   "outputs": [],
   "source": [
    "cv_split = KFold(n_splits=5, random_state=42, shuffle=True)"
   ]
  },
  {
   "cell_type": "markdown",
   "metadata": {},
   "source": [
    "Set up the grid to pick hyperparameters from:"
   ]
  },
  {
   "cell_type": "code",
   "execution_count": 15,
   "metadata": {},
   "outputs": [],
   "source": [
    "rf_hyperparam_grid={\n",
    "    \"n_estimators\": [100, 500],\n",
    "    \"max_features\": ['auto', 7, 10, 15],\n",
    "    \"min_samples_leaf\": [1, 5, 20, 100],\n",
    "    \"min_samples_split\": [2, 10, 50, 250],\n",
    "    \"criterion\": [\"gini\", \"entropy\"],\n",
    "    \"max_depth\": [4, 6, 8, 10, None]\n",
    "}"
   ]
  },
  {
   "cell_type": "markdown",
   "metadata": {},
   "source": [
    "Initialize the Random Search:"
   ]
  },
  {
   "cell_type": "code",
   "execution_count": 16,
   "metadata": {},
   "outputs": [],
   "source": [
    "rf_random_search=RandomizedSearchCV(\n",
    "    estimator=random_search_model,\n",
    "    param_distributions=rf_hyperparam_grid,\n",
    "    n_iter=200,\n",
    "    scoring=\"neg_log_loss\",\n",
    "    refit=True,\n",
    "    return_train_score=True,\n",
    "    cv=cv_split,    \n",
    "    verbose=10,\n",
    "    n_jobs=-1,\n",
    "    random_state=42\n",
    ")"
   ]
  },
  {
   "cell_type": "markdown",
   "metadata": {},
   "source": [
    "Run the cross validation on the training set"
   ]
  },
  {
   "cell_type": "code",
   "execution_count": 17,
   "metadata": {},
   "outputs": [
    {
     "name": "stdout",
     "output_type": "stream",
     "text": [
      "Fitting 5 folds for each of 200 candidates, totalling 1000 fits\n"
     ]
    },
    {
     "name": "stderr",
     "output_type": "stream",
     "text": [
      "[Parallel(n_jobs=-1)]: Using backend LokyBackend with 12 concurrent workers.\n",
      "[Parallel(n_jobs=-1)]: Done   1 tasks      | elapsed:    8.4s\n",
      "[Parallel(n_jobs=-1)]: Done   8 tasks      | elapsed:   14.6s\n",
      "[Parallel(n_jobs=-1)]: Done  17 tasks      | elapsed:   19.3s\n",
      "[Parallel(n_jobs=-1)]: Done  26 tasks      | elapsed:   33.2s\n",
      "[Parallel(n_jobs=-1)]: Done  37 tasks      | elapsed:   52.1s\n",
      "[Parallel(n_jobs=-1)]: Done  48 tasks      | elapsed:   59.8s\n",
      "[Parallel(n_jobs=-1)]: Done  61 tasks      | elapsed:  1.1min\n",
      "[Parallel(n_jobs=-1)]: Done  74 tasks      | elapsed:  1.3min\n",
      "[Parallel(n_jobs=-1)]: Done  89 tasks      | elapsed:  1.7min\n",
      "[Parallel(n_jobs=-1)]: Done 104 tasks      | elapsed:  1.9min\n",
      "[Parallel(n_jobs=-1)]: Done 121 tasks      | elapsed:  2.3min\n",
      "[Parallel(n_jobs=-1)]: Done 138 tasks      | elapsed:  2.6min\n",
      "[Parallel(n_jobs=-1)]: Done 157 tasks      | elapsed:  2.8min\n",
      "[Parallel(n_jobs=-1)]: Done 176 tasks      | elapsed:  3.3min\n",
      "[Parallel(n_jobs=-1)]: Done 197 tasks      | elapsed:  3.6min\n",
      "[Parallel(n_jobs=-1)]: Done 218 tasks      | elapsed:  4.0min\n",
      "[Parallel(n_jobs=-1)]: Done 241 tasks      | elapsed:  4.6min\n",
      "[Parallel(n_jobs=-1)]: Done 264 tasks      | elapsed:  5.0min\n",
      "[Parallel(n_jobs=-1)]: Done 289 tasks      | elapsed:  5.6min\n",
      "[Parallel(n_jobs=-1)]: Done 314 tasks      | elapsed:  6.2min\n",
      "[Parallel(n_jobs=-1)]: Done 341 tasks      | elapsed:  6.6min\n",
      "[Parallel(n_jobs=-1)]: Done 368 tasks      | elapsed:  7.0min\n",
      "[Parallel(n_jobs=-1)]: Done 397 tasks      | elapsed:  7.4min\n",
      "[Parallel(n_jobs=-1)]: Done 426 tasks      | elapsed:  8.2min\n",
      "[Parallel(n_jobs=-1)]: Done 457 tasks      | elapsed:  9.2min\n",
      "[Parallel(n_jobs=-1)]: Done 488 tasks      | elapsed:  9.7min\n",
      "[Parallel(n_jobs=-1)]: Done 521 tasks      | elapsed: 11.2min\n",
      "[Parallel(n_jobs=-1)]: Done 554 tasks      | elapsed: 11.7min\n",
      "[Parallel(n_jobs=-1)]: Done 589 tasks      | elapsed: 12.5min\n",
      "[Parallel(n_jobs=-1)]: Done 624 tasks      | elapsed: 13.0min\n",
      "[Parallel(n_jobs=-1)]: Done 661 tasks      | elapsed: 14.0min\n",
      "[Parallel(n_jobs=-1)]: Done 698 tasks      | elapsed: 15.1min\n",
      "[Parallel(n_jobs=-1)]: Done 737 tasks      | elapsed: 16.3min\n",
      "[Parallel(n_jobs=-1)]: Done 776 tasks      | elapsed: 16.9min\n",
      "[Parallel(n_jobs=-1)]: Done 817 tasks      | elapsed: 18.0min\n",
      "[Parallel(n_jobs=-1)]: Done 858 tasks      | elapsed: 19.1min\n",
      "[Parallel(n_jobs=-1)]: Done 901 tasks      | elapsed: 19.8min\n",
      "[Parallel(n_jobs=-1)]: Done 944 tasks      | elapsed: 20.7min\n",
      "[Parallel(n_jobs=-1)]: Done 1000 out of 1000 | elapsed: 22.3min finished\n"
     ]
    },
    {
     "name": "stdout",
     "output_type": "stream",
     "text": [
      "CPU times: user 16.2 s, sys: 3.01 s, total: 19.3 s\n",
      "Wall time: 22min 27s\n"
     ]
    }
   ],
   "source": [
    "%time tuned_random_model = rf_random_search.fit(x_train, y_train)"
   ]
  },
  {
   "cell_type": "markdown",
   "metadata": {},
   "source": [
    "Print out the \"optimal\" hyperparameters:"
   ]
  },
  {
   "cell_type": "code",
   "execution_count": 18,
   "metadata": {},
   "outputs": [
    {
     "data": {
      "text/plain": [
       "{'n_estimators': 500,\n",
       " 'min_samples_split': 250,\n",
       " 'min_samples_leaf': 5,\n",
       " 'max_features': 7,\n",
       " 'max_depth': 8,\n",
       " 'criterion': 'gini'}"
      ]
     },
     "execution_count": 18,
     "metadata": {},
     "output_type": "execute_result"
    }
   ],
   "source": [
    "tuned_random_model.best_params_"
   ]
  },
  {
   "cell_type": "markdown",
   "metadata": {},
   "source": [
    "See how the model performs on the test  set:"
   ]
  },
  {
   "cell_type": "code",
   "execution_count": 19,
   "metadata": {},
   "outputs": [
    {
     "name": "stdout",
     "output_type": "stream",
     "text": [
      "The log loss of the model with Random Search is: 0.28049189107821393\n",
      "The ROC AUC score of the model with Random Search is: 0.7814659668626089\n"
     ]
    }
   ],
   "source": [
    "random_y_hat = tuned_random_model.predict_proba(x_test)\n",
    "print(\"The log loss of the model with Random Search is: \" + str(log_loss(y_test, random_y_hat)))\n",
    "print(\"The ROC AUC score of the model with Random Search is: \" +str(roc_auc_score(y_test, random_y_hat[:,1])))\n"
   ]
  },
  {
   "cell_type": "markdown",
   "metadata": {},
   "source": [
    "Let's do the same for Grid Search"
   ]
  },
  {
   "cell_type": "markdown",
   "metadata": {},
   "source": [
    "## This code takes forever to run, so please avoid running the next 4 cells unless you really want to:"
   ]
  },
  {
   "cell_type": "code",
   "execution_count": 20,
   "metadata": {},
   "outputs": [],
   "source": [
    "rf_grid_search=GridSearchCV(\n",
    "    estimator=grid_search_model,\n",
    "    param_grid=rf_hyperparam_grid,\n",
    "    scoring=\"neg_log_loss\",\n",
    "    refit=True,\n",
    "    return_train_score=True,\n",
    "    cv=cv_split,\n",
    "    verbose=10,\n",
    "    n_jobs=-1,\n",
    ")"
   ]
  },
  {
   "cell_type": "code",
   "execution_count": 21,
   "metadata": {},
   "outputs": [
    {
     "name": "stdout",
     "output_type": "stream",
     "text": [
      "Fitting 5 folds for each of 1280 candidates, totalling 6400 fits\n"
     ]
    },
    {
     "name": "stderr",
     "output_type": "stream",
     "text": [
      "[Parallel(n_jobs=-1)]: Using backend LokyBackend with 12 concurrent workers.\n",
      "[Parallel(n_jobs=-1)]: Done   1 tasks      | elapsed:    1.9s\n",
      "[Parallel(n_jobs=-1)]: Done   8 tasks      | elapsed:    4.0s\n",
      "[Parallel(n_jobs=-1)]: Done  17 tasks      | elapsed:   10.1s\n",
      "[Parallel(n_jobs=-1)]: Done  26 tasks      | elapsed:   12.3s\n",
      "[Parallel(n_jobs=-1)]: Done  37 tasks      | elapsed:   20.1s\n",
      "[Parallel(n_jobs=-1)]: Done  48 tasks      | elapsed:   24.2s\n",
      "[Parallel(n_jobs=-1)]: Done  61 tasks      | elapsed:   32.0s\n",
      "[Parallel(n_jobs=-1)]: Done  74 tasks      | elapsed:   38.3s\n",
      "[Parallel(n_jobs=-1)]: Done  89 tasks      | elapsed:   44.2s\n",
      "[Parallel(n_jobs=-1)]: Done 104 tasks      | elapsed:   54.0s\n",
      "[Parallel(n_jobs=-1)]: Done 121 tasks      | elapsed:  1.0min\n",
      "[Parallel(n_jobs=-1)]: Done 138 tasks      | elapsed:  1.1min\n",
      "[Parallel(n_jobs=-1)]: Done 157 tasks      | elapsed:  1.3min\n",
      "[Parallel(n_jobs=-1)]: Done 176 tasks      | elapsed:  1.5min\n",
      "[Parallel(n_jobs=-1)]: Done 197 tasks      | elapsed:  1.8min\n",
      "[Parallel(n_jobs=-1)]: Done 218 tasks      | elapsed:  2.0min\n",
      "[Parallel(n_jobs=-1)]: Done 241 tasks      | elapsed:  2.2min\n",
      "[Parallel(n_jobs=-1)]: Done 264 tasks      | elapsed:  2.5min\n",
      "[Parallel(n_jobs=-1)]: Done 289 tasks      | elapsed:  2.8min\n",
      "[Parallel(n_jobs=-1)]: Done 314 tasks      | elapsed:  3.1min\n",
      "[Parallel(n_jobs=-1)]: Done 341 tasks      | elapsed:  3.4min\n",
      "[Parallel(n_jobs=-1)]: Done 368 tasks      | elapsed:  3.7min\n",
      "[Parallel(n_jobs=-1)]: Done 397 tasks      | elapsed:  4.1min\n",
      "[Parallel(n_jobs=-1)]: Done 426 tasks      | elapsed:  4.5min\n",
      "[Parallel(n_jobs=-1)]: Done 457 tasks      | elapsed:  4.9min\n",
      "[Parallel(n_jobs=-1)]: Done 488 tasks      | elapsed:  5.4min\n",
      "[Parallel(n_jobs=-1)]: Done 521 tasks      | elapsed:  6.0min\n",
      "[Parallel(n_jobs=-1)]: Done 554 tasks      | elapsed:  6.6min\n",
      "[Parallel(n_jobs=-1)]: Done 589 tasks      | elapsed:  7.2min\n",
      "[Parallel(n_jobs=-1)]: Done 624 tasks      | elapsed:  7.8min\n",
      "[Parallel(n_jobs=-1)]: Done 661 tasks      | elapsed:  8.3min\n",
      "[Parallel(n_jobs=-1)]: Done 698 tasks      | elapsed:  8.7min\n",
      "[Parallel(n_jobs=-1)]: Done 737 tasks      | elapsed:  9.1min\n",
      "[Parallel(n_jobs=-1)]: Done 776 tasks      | elapsed:  9.6min\n",
      "[Parallel(n_jobs=-1)]: Done 817 tasks      | elapsed: 10.1min\n",
      "[Parallel(n_jobs=-1)]: Done 858 tasks      | elapsed: 10.7min\n",
      "[Parallel(n_jobs=-1)]: Done 901 tasks      | elapsed: 11.3min\n",
      "[Parallel(n_jobs=-1)]: Done 944 tasks      | elapsed: 12.0min\n",
      "[Parallel(n_jobs=-1)]: Done 989 tasks      | elapsed: 12.7min\n",
      "[Parallel(n_jobs=-1)]: Done 1034 tasks      | elapsed: 13.7min\n",
      "[Parallel(n_jobs=-1)]: Done 1081 tasks      | elapsed: 14.5min\n",
      "[Parallel(n_jobs=-1)]: Done 1128 tasks      | elapsed: 15.4min\n",
      "[Parallel(n_jobs=-1)]: Done 1177 tasks      | elapsed: 16.7min\n",
      "[Parallel(n_jobs=-1)]: Done 1226 tasks      | elapsed: 17.9min\n",
      "[Parallel(n_jobs=-1)]: Done 1277 tasks      | elapsed: 19.2min\n",
      "[Parallel(n_jobs=-1)]: Done 1328 tasks      | elapsed: 19.9min\n",
      "[Parallel(n_jobs=-1)]: Done 1381 tasks      | elapsed: 20.6min\n",
      "[Parallel(n_jobs=-1)]: Done 1434 tasks      | elapsed: 21.3min\n",
      "[Parallel(n_jobs=-1)]: Done 1489 tasks      | elapsed: 22.3min\n",
      "[Parallel(n_jobs=-1)]: Done 1544 tasks      | elapsed: 23.4min\n",
      "[Parallel(n_jobs=-1)]: Done 1601 tasks      | elapsed: 24.4min\n",
      "[Parallel(n_jobs=-1)]: Done 1658 tasks      | elapsed: 25.7min\n",
      "[Parallel(n_jobs=-1)]: Done 1717 tasks      | elapsed: 27.1min\n",
      "[Parallel(n_jobs=-1)]: Done 1776 tasks      | elapsed: 28.7min\n",
      "[Parallel(n_jobs=-1)]: Done 1837 tasks      | elapsed: 30.6min\n",
      "[Parallel(n_jobs=-1)]: Done 1898 tasks      | elapsed: 32.6min\n",
      "[Parallel(n_jobs=-1)]: Done 1961 tasks      | elapsed: 34.0min\n",
      "[Parallel(n_jobs=-1)]: Done 2024 tasks      | elapsed: 35.0min\n",
      "[Parallel(n_jobs=-1)]: Done 2089 tasks      | elapsed: 35.9min\n",
      "[Parallel(n_jobs=-1)]: Done 2154 tasks      | elapsed: 37.5min\n",
      "[Parallel(n_jobs=-1)]: Done 2221 tasks      | elapsed: 39.0min\n",
      "[Parallel(n_jobs=-1)]: Done 2288 tasks      | elapsed: 40.7min\n",
      "[Parallel(n_jobs=-1)]: Done 2357 tasks      | elapsed: 42.8min\n",
      "[Parallel(n_jobs=-1)]: Done 2426 tasks      | elapsed: 44.9min\n",
      "[Parallel(n_jobs=-1)]: Done 2497 tasks      | elapsed: 47.6min\n",
      "[Parallel(n_jobs=-1)]: Done 2568 tasks      | elapsed: 50.0min\n",
      "[Parallel(n_jobs=-1)]: Done 2641 tasks      | elapsed: 51.5min\n",
      "[Parallel(n_jobs=-1)]: Done 2714 tasks      | elapsed: 52.6min\n",
      "[Parallel(n_jobs=-1)]: Done 2789 tasks      | elapsed: 54.7min\n",
      "[Parallel(n_jobs=-1)]: Done 2864 tasks      | elapsed: 56.7min\n",
      "[Parallel(n_jobs=-1)]: Done 2941 tasks      | elapsed: 59.8min\n",
      "[Parallel(n_jobs=-1)]: Done 3018 tasks      | elapsed: 62.2min\n",
      "[Parallel(n_jobs=-1)]: Done 3097 tasks      | elapsed: 65.9min\n",
      "[Parallel(n_jobs=-1)]: Done 3176 tasks      | elapsed: 69.3min\n",
      "[Parallel(n_jobs=-1)]: Done 3257 tasks      | elapsed: 70.6min\n",
      "[Parallel(n_jobs=-1)]: Done 3338 tasks      | elapsed: 71.3min\n",
      "[Parallel(n_jobs=-1)]: Done 3421 tasks      | elapsed: 72.2min\n",
      "[Parallel(n_jobs=-1)]: Done 3504 tasks      | elapsed: 73.1min\n",
      "[Parallel(n_jobs=-1)]: Done 3589 tasks      | elapsed: 74.3min\n",
      "[Parallel(n_jobs=-1)]: Done 3674 tasks      | elapsed: 75.5min\n",
      "[Parallel(n_jobs=-1)]: Done 3761 tasks      | elapsed: 77.0min\n",
      "[Parallel(n_jobs=-1)]: Done 3848 tasks      | elapsed: 78.5min\n",
      "[Parallel(n_jobs=-1)]: Done 3937 tasks      | elapsed: 79.5min\n",
      "[Parallel(n_jobs=-1)]: Done 4026 tasks      | elapsed: 80.6min\n",
      "[Parallel(n_jobs=-1)]: Done 4117 tasks      | elapsed: 82.3min\n",
      "[Parallel(n_jobs=-1)]: Done 4208 tasks      | elapsed: 84.0min\n",
      "[Parallel(n_jobs=-1)]: Done 4301 tasks      | elapsed: 86.1min\n",
      "[Parallel(n_jobs=-1)]: Done 4394 tasks      | elapsed: 88.9min\n",
      "[Parallel(n_jobs=-1)]: Done 4489 tasks      | elapsed: 91.5min\n",
      "[Parallel(n_jobs=-1)]: Done 4584 tasks      | elapsed: 93.1min\n",
      "[Parallel(n_jobs=-1)]: Done 4681 tasks      | elapsed: 94.6min\n",
      "[Parallel(n_jobs=-1)]: Done 4778 tasks      | elapsed: 96.5min\n",
      "[Parallel(n_jobs=-1)]: Done 4877 tasks      | elapsed: 99.3min\n",
      "[Parallel(n_jobs=-1)]: Done 4976 tasks      | elapsed: 102.6min\n",
      "[Parallel(n_jobs=-1)]: Done 5077 tasks      | elapsed: 106.6min\n",
      "[Parallel(n_jobs=-1)]: Done 5178 tasks      | elapsed: 109.3min\n",
      "[Parallel(n_jobs=-1)]: Done 5281 tasks      | elapsed: 111.0min\n",
      "[Parallel(n_jobs=-1)]: Done 5384 tasks      | elapsed: 113.8min\n",
      "[Parallel(n_jobs=-1)]: Done 5489 tasks      | elapsed: 116.5min\n",
      "[Parallel(n_jobs=-1)]: Done 5594 tasks      | elapsed: 120.1min\n",
      "[Parallel(n_jobs=-1)]: Done 5701 tasks      | elapsed: 124.7min\n",
      "[Parallel(n_jobs=-1)]: Done 5808 tasks      | elapsed: 128.1min\n",
      "[Parallel(n_jobs=-1)]: Done 5917 tasks      | elapsed: 130.1min\n",
      "[Parallel(n_jobs=-1)]: Done 6026 tasks      | elapsed: 133.1min\n",
      "[Parallel(n_jobs=-1)]: Done 6137 tasks      | elapsed: 137.1min\n",
      "[Parallel(n_jobs=-1)]: Done 6248 tasks      | elapsed: 141.2min\n",
      "[Parallel(n_jobs=-1)]: Done 6361 tasks      | elapsed: 146.8min\n",
      "[Parallel(n_jobs=-1)]: Done 6400 out of 6400 | elapsed: 148.2min finished\n"
     ]
    },
    {
     "name": "stdout",
     "output_type": "stream",
     "text": [
      "CPU times: user 55.8 s, sys: 7.61 s, total: 1min 3s\n",
      "Wall time: 2h 28min 22s\n"
     ]
    }
   ],
   "source": [
    "%time tuned_grid_model = rf_grid_search.fit(x_train, y_train)"
   ]
  },
  {
   "cell_type": "code",
   "execution_count": 22,
   "metadata": {},
   "outputs": [
    {
     "data": {
      "text/plain": [
       "{'criterion': 'gini',\n",
       " 'max_depth': 8,\n",
       " 'max_features': 7,\n",
       " 'min_samples_leaf': 1,\n",
       " 'min_samples_split': 250,\n",
       " 'n_estimators': 500}"
      ]
     },
     "execution_count": 22,
     "metadata": {},
     "output_type": "execute_result"
    }
   ],
   "source": [
    "tuned_grid_model.best_params_"
   ]
  },
  {
   "cell_type": "code",
   "execution_count": 23,
   "metadata": {},
   "outputs": [
    {
     "name": "stdout",
     "output_type": "stream",
     "text": [
      "The log loss of the model with Grid Search is: 0.2804863243791734\n",
      "The ROC AUC score of the model with Grid Search is: 0.7814397059192428\n"
     ]
    }
   ],
   "source": [
    "grid_y_hat = tuned_grid_model.predict_proba(x_test)\n",
    "print(\"The log loss of the model with Grid Search is: \" + str(log_loss(y_test, grid_y_hat)))\n",
    "print(\"The ROC AUC score of the model with Grid Search is: \" +str(roc_auc_score(y_test, grid_y_hat[:,1])))"
   ]
  },
  {
   "cell_type": "markdown",
   "metadata": {},
   "source": [
    "We end up with almost identical parameters (only difference is min_samples_leaf), and we get ever so slightly better performance from the grid search"
   ]
  },
  {
   "cell_type": "markdown",
   "metadata": {},
   "source": [
    "Let's plot the ROC-AUC curves as well to compare this model to the naive model above"
   ]
  },
  {
   "cell_type": "code",
   "execution_count": 24,
   "metadata": {},
   "outputs": [],
   "source": [
    "random_fpr, random_tpr, random_thresholds = roc_curve(y_true=y_test, y_score=random_y_hat[:,1])\n",
    "grid_fpr, grid_tpr, grid_thresholds = roc_curve(y_true=y_test, y_score=grid_y_hat[:,1])"
   ]
  },
  {
   "cell_type": "code",
   "execution_count": 25,
   "metadata": {},
   "outputs": [
    {
     "data": {
      "image/png": "[encoded data removed]",
      "text/plain": [
       "<Figure size 432x288 with 1 Axes>"
      ]
     },
     "metadata": {
      "needs_background": "light"
     },
     "output_type": "display_data"
    }
   ],
   "source": [
    "plt.plot(random_fpr, random_tpr, label='Random Search ROC AUC')\n",
    "plt.plot(grid_fpr, grid_tpr, label='Grid Search ROC AUC')\n",
    "plt.plot(test_fpr, test_tpr, label='Original ROC AUC')\n",
    "plt.plot([0, 1], [0, 1], color = 'black', linewidth = 2, linestyle = '--')\n",
    "plt.xlabel('False Positive Rate')\n",
    "plt.ylabel('True Positive Rate')\n",
    "plt.legend()\n",
    "plt.title('ROC AUC Curve For Random Forest Model with Grid vs Random Search')\n",
    "plt.show()"
   ]
  },
  {
   "cell_type": "markdown",
   "metadata": {},
   "source": [
    "If we look at our original grid and our fitted hyper-parameters, we found that we reached the edge of the grid for min_samples_split. Thus, we can potentially improve our accuracy by shrinking the parameter grid and fine tuning the model with another Random Search"
   ]
  },
  {
   "cell_type": "code",
   "execution_count": 26,
   "metadata": {},
   "outputs": [],
   "source": [
    "better_rf_hyperparam_grid={\n",
    "    \"n_estimators\": [500],\n",
    "    \"max_features\": [5, 6, 7, 8, 9],\n",
    "    \"min_samples_leaf\": [1, 2, 5, 10, 15, 20],\n",
    "    \"min_samples_split\": [100, 200, 250, 300, 400],\n",
    "    \"criterion\": [\"gini\"],\n",
    "    \"max_depth\": [5, 6, 7, 8, 9]\n",
    "}"
   ]
  },
  {
   "cell_type": "code",
   "execution_count": 27,
   "metadata": {},
   "outputs": [],
   "source": [
    "better_random_search_model = RandomForestClassifier(random_state=42)"
   ]
  },
  {
   "cell_type": "code",
   "execution_count": 28,
   "metadata": {},
   "outputs": [],
   "source": [
    "better_rf_random_search=RandomizedSearchCV(\n",
    "    estimator=better_random_search_model,\n",
    "    param_distributions=better_rf_hyperparam_grid,\n",
    "    n_iter=250,\n",
    "    scoring=\"neg_log_loss\",\n",
    "    refit=True,\n",
    "    return_train_score=True,\n",
    "    cv=cv_split,    \n",
    "    verbose=10,\n",
    "    n_jobs=-1,\n",
    "    random_state=42\n",
    "\n",
    ")"
   ]
  },
  {
   "cell_type": "code",
   "execution_count": 29,
   "metadata": {},
   "outputs": [
    {
     "name": "stdout",
     "output_type": "stream",
     "text": [
      "Fitting 5 folds for each of 250 candidates, totalling 1250 fits\n"
     ]
    },
    {
     "name": "stderr",
     "output_type": "stream",
     "text": [
      "[Parallel(n_jobs=-1)]: Using backend LokyBackend with 12 concurrent workers.\n",
      "[Parallel(n_jobs=-1)]: Done   1 tasks      | elapsed:   19.8s\n",
      "[Parallel(n_jobs=-1)]: Done   8 tasks      | elapsed:   21.6s\n",
      "[Parallel(n_jobs=-1)]: Done  17 tasks      | elapsed:   40.8s\n",
      "[Parallel(n_jobs=-1)]: Done  26 tasks      | elapsed:   59.3s\n",
      "[Parallel(n_jobs=-1)]: Done  37 tasks      | elapsed:  1.2min\n",
      "[Parallel(n_jobs=-1)]: Done  48 tasks      | elapsed:  1.5min\n",
      "[Parallel(n_jobs=-1)]: Done  61 tasks      | elapsed:  1.9min\n",
      "[Parallel(n_jobs=-1)]: Done  74 tasks      | elapsed:  2.3min\n",
      "[Parallel(n_jobs=-1)]: Done  89 tasks      | elapsed:  2.7min\n",
      "[Parallel(n_jobs=-1)]: Done 104 tasks      | elapsed:  3.0min\n",
      "[Parallel(n_jobs=-1)]: Done 121 tasks      | elapsed:  3.4min\n",
      "[Parallel(n_jobs=-1)]: Done 138 tasks      | elapsed:  4.0min\n",
      "[Parallel(n_jobs=-1)]: Done 157 tasks      | elapsed:  4.4min\n",
      "[Parallel(n_jobs=-1)]: Done 176 tasks      | elapsed:  4.9min\n",
      "[Parallel(n_jobs=-1)]: Done 197 tasks      | elapsed:  5.4min\n",
      "[Parallel(n_jobs=-1)]: Done 218 tasks      | elapsed:  6.0min\n",
      "[Parallel(n_jobs=-1)]: Done 241 tasks      | elapsed:  6.7min\n",
      "[Parallel(n_jobs=-1)]: Done 264 tasks      | elapsed:  7.3min\n",
      "[Parallel(n_jobs=-1)]: Done 289 tasks      | elapsed:  7.9min\n",
      "[Parallel(n_jobs=-1)]: Done 314 tasks      | elapsed:  8.7min\n",
      "[Parallel(n_jobs=-1)]: Done 341 tasks      | elapsed:  9.4min\n",
      "[Parallel(n_jobs=-1)]: Done 368 tasks      | elapsed: 10.2min\n",
      "[Parallel(n_jobs=-1)]: Done 397 tasks      | elapsed: 11.1min\n",
      "[Parallel(n_jobs=-1)]: Done 426 tasks      | elapsed: 11.8min\n",
      "[Parallel(n_jobs=-1)]: Done 457 tasks      | elapsed: 12.7min\n",
      "[Parallel(n_jobs=-1)]: Done 488 tasks      | elapsed: 13.6min\n",
      "[Parallel(n_jobs=-1)]: Done 521 tasks      | elapsed: 14.4min\n",
      "[Parallel(n_jobs=-1)]: Done 554 tasks      | elapsed: 15.4min\n",
      "[Parallel(n_jobs=-1)]: Done 589 tasks      | elapsed: 16.3min\n",
      "[Parallel(n_jobs=-1)]: Done 624 tasks      | elapsed: 17.3min\n",
      "[Parallel(n_jobs=-1)]: Done 661 tasks      | elapsed: 18.3min\n",
      "[Parallel(n_jobs=-1)]: Done 698 tasks      | elapsed: 19.3min\n",
      "[Parallel(n_jobs=-1)]: Done 737 tasks      | elapsed: 20.4min\n",
      "[Parallel(n_jobs=-1)]: Done 776 tasks      | elapsed: 21.4min\n",
      "[Parallel(n_jobs=-1)]: Done 817 tasks      | elapsed: 22.4min\n",
      "[Parallel(n_jobs=-1)]: Done 858 tasks      | elapsed: 23.4min\n",
      "[Parallel(n_jobs=-1)]: Done 901 tasks      | elapsed: 24.6min\n",
      "[Parallel(n_jobs=-1)]: Done 944 tasks      | elapsed: 25.8min\n",
      "[Parallel(n_jobs=-1)]: Done 989 tasks      | elapsed: 27.0min\n",
      "[Parallel(n_jobs=-1)]: Done 1034 tasks      | elapsed: 28.4min\n",
      "[Parallel(n_jobs=-1)]: Done 1081 tasks      | elapsed: 29.6min\n",
      "[Parallel(n_jobs=-1)]: Done 1128 tasks      | elapsed: 31.0min\n",
      "[Parallel(n_jobs=-1)]: Done 1177 tasks      | elapsed: 32.2min\n",
      "[Parallel(n_jobs=-1)]: Done 1226 tasks      | elapsed: 33.6min\n",
      "[Parallel(n_jobs=-1)]: Done 1250 out of 1250 | elapsed: 34.1min finished\n"
     ]
    },
    {
     "name": "stdout",
     "output_type": "stream",
     "text": [
      "CPU times: user 18.1 s, sys: 1.1 s, total: 19.2 s\n",
      "Wall time: 34min 16s\n"
     ]
    }
   ],
   "source": [
    "%time better_tuned_random_model = better_rf_random_search.fit(x_train, y_train)"
   ]
  },
  {
   "cell_type": "code",
   "execution_count": 30,
   "metadata": {},
   "outputs": [
    {
     "data": {
      "text/plain": [
       "{'n_estimators': 500,\n",
       " 'min_samples_split': 250,\n",
       " 'min_samples_leaf': 1,\n",
       " 'max_features': 8,\n",
       " 'max_depth': 8,\n",
       " 'criterion': 'gini'}"
      ]
     },
     "execution_count": 30,
     "metadata": {},
     "output_type": "execute_result"
    }
   ],
   "source": [
    "better_tuned_random_model.best_params_"
   ]
  },
  {
   "cell_type": "code",
   "execution_count": 31,
   "metadata": {},
   "outputs": [
    {
     "name": "stdout",
     "output_type": "stream",
     "text": [
      "The log loss of the model with Random Search is: 0.2805453345052492\n",
      "The ROC AUC score of the model with Random Search is: 0.7811849355731523\n"
     ]
    }
   ],
   "source": [
    "better_random_y_hat = better_tuned_random_model.predict_proba(x_test)\n",
    "print(\"The log loss of the model with Random Search is: \" + str(log_loss(y_test, better_random_y_hat)))\n",
    "print(\"The ROC AUC score of the model with Random Search is: \" +str(roc_auc_score(y_test, better_random_y_hat[:,1])))"
   ]
  },
  {
   "cell_type": "markdown",
   "metadata": {},
   "source": [
    "We  improve  our log loss  ever  so slightly. However, it appears as though we are getting diminishing marginal returns"
   ]
  },
  {
   "cell_type": "markdown",
   "metadata": {},
   "source": [
    "#### Partial Dependence Plots For Hyperparameters"
   ]
  },
  {
   "cell_type": "markdown",
   "metadata": {},
   "source": [
    "Finally, let's take a look at how our accuracy changes as we change each of these parameters on both the training and testing set, to understand more fully how these parameters impact overfitting. In addition, this will help us show how close the Random Search came to determining the \"optimal parameters\" on a held out dataset (not the test set). To do this, we will create a \"validation set\" that is a subset of the original training set, so that we are not \"overfitting\" to our held out test set."
   ]
  },
  {
   "cell_type": "code",
   "execution_count": 32,
   "metadata": {},
   "outputs": [],
   "source": [
    "x_train_2, x_val, y_train_2, y_val = train_test_split(x_train, y_train, test_size=0.25, random_state=42)"
   ]
  },
  {
   "cell_type": "code",
   "execution_count": 33,
   "metadata": {},
   "outputs": [],
   "source": [
    "initial_random_forest_model = RandomForestClassifier(n_estimators=500,\n",
    "                                                     min_samples_split=250,\n",
    "                                                     min_samples_leaf=5,\n",
    "                                                     max_features=7,\n",
    "                                                     max_depth=8,\n",
    "                                                     criterion='gini',\n",
    "                                                     n_jobs=-1)"
   ]
  },
  {
   "cell_type": "code",
   "execution_count": 34,
   "metadata": {},
   "outputs": [],
   "source": [
    "#n_estimators: 0-1000, increasing by 20 each time\n",
    "n_estimators_x_axis=np.linspace(20, 800, 40).astype(int)\n",
    "n_estimators_train_loss=[]\n",
    "n_estimators_test_loss=[]\n",
    "for estimators in n_estimators_x_axis:\n",
    "    model_to_test = initial_random_forest_model.set_params(**{\"n_estimators\": estimators})\n",
    "    model_to_test.fit(x_train_2, y_train_2)\n",
    "    train_predict = model_to_test.predict_proba(x_train_2)\n",
    "    test_predict = model_to_test.predict_proba(x_val)\n",
    "    n_estimators_train_loss.append(log_loss(y_train_2, train_predict[:,-1]))\n",
    "    n_estimators_test_loss.append(log_loss(y_val, test_predict[:,-1]))"
   ]
  },
  {
   "cell_type": "code",
   "execution_count": 35,
   "metadata": {},
   "outputs": [
    {
     "data": {
      "image/png": "[encoded data removed]",
      "text/plain": [
       "<Figure size 432x288 with 1 Axes>"
      ]
     },
     "metadata": {
      "needs_background": "light"
     },
     "output_type": "display_data"
    }
   ],
   "source": [
    "plt.plot(n_estimators_x_axis, n_estimators_test_loss,label='validation set')\n",
    "plt.plot(n_estimators_x_axis, n_estimators_train_loss,label='train set')\n",
    "plt.legend()\n",
    "plt.axvline(x=500, color='green', linestyle='--')\n",
    "plt.title('Train and Test Log Loss By Number of Estimators')\n",
    "plt.show()"
   ]
  },
  {
   "cell_type": "code",
   "execution_count": 36,
   "metadata": {},
   "outputs": [
    {
     "data": {
      "text/plain": [
       "RandomForestClassifier(bootstrap=True, ccp_alpha=0.0, class_weight=None,\n",
       "                       criterion='gini', max_depth=8, max_features=7,\n",
       "                       max_leaf_nodes=None, max_samples=None,\n",
       "                       min_impurity_decrease=0.0, min_impurity_split=None,\n",
       "                       min_samples_leaf=1, min_samples_split=250,\n",
       "                       min_weight_fraction_leaf=0.0, n_estimators=500,\n",
       "                       n_jobs=-1, oob_score=False, random_state=None, verbose=0,\n",
       "                       warm_start=False)"
      ]
     },
     "execution_count": 36,
     "metadata": {},
     "output_type": "execute_result"
    }
   ],
   "source": [
    "initial_random_forest_model.set_params(**{\"n_estimators\": 500})"
   ]
  },
  {
   "cell_type": "code",
   "execution_count": 37,
   "metadata": {},
   "outputs": [],
   "source": [
    "#Depth: #1-20\n",
    "max_depth_x_axis=np.linspace(1, 20, 20).astype(int)\n",
    "max_depth_train_loss=[]\n",
    "max_depth_test_loss=[]\n",
    "\n",
    "for depth in max_depth_x_axis:\n",
    "    model_to_test = initial_random_forest_model.set_params(**{\"max_depth\": depth})\n",
    "    model_to_test.fit(x_train_2, y_train_2)\n",
    "    train_predict = model_to_test.predict_proba(x_train_2)\n",
    "    test_predict = model_to_test.predict_proba(x_val)\n",
    "    max_depth_train_loss.append(log_loss(y_train_2, train_predict[:,-1]))\n",
    "    max_depth_test_loss.append(log_loss(y_val, test_predict[:,-1]))"
   ]
  },
  {
   "cell_type": "code",
   "execution_count": 38,
   "metadata": {},
   "outputs": [
    {
     "data": {
      "image/png": "[encoded data removed]",
      "text/plain": [
       "<Figure size 432x288 with 1 Axes>"
      ]
     },
     "metadata": {
      "needs_background": "light"
     },
     "output_type": "display_data"
    }
   ],
   "source": [
    "plt.plot(max_depth_x_axis, max_depth_test_loss,label='validation set')\n",
    "plt.plot(max_depth_x_axis, max_depth_train_loss,label='train set')\n",
    "plt.legend()\n",
    "plt.axvline(x=8, color='green', linestyle='--')\n",
    "plt.xticks(np.arange(21))\n",
    "plt.title('Train and Test Log Loss By Max Depth')\n",
    "plt.show()"
   ]
  },
  {
   "cell_type": "code",
   "execution_count": 39,
   "metadata": {},
   "outputs": [
    {
     "data": {
      "text/plain": [
       "RandomForestClassifier(bootstrap=True, ccp_alpha=0.0, class_weight=None,\n",
       "                       criterion='gini', max_depth=8, max_features=7,\n",
       "                       max_leaf_nodes=None, max_samples=None,\n",
       "                       min_impurity_decrease=0.0, min_impurity_split=None,\n",
       "                       min_samples_leaf=1, min_samples_split=250,\n",
       "                       min_weight_fraction_leaf=0.0, n_estimators=500,\n",
       "                       n_jobs=-1, oob_score=False, random_state=None, verbose=0,\n",
       "                       warm_start=False)"
      ]
     },
     "execution_count": 39,
     "metadata": {},
     "output_type": "execute_result"
    }
   ],
   "source": [
    "initial_random_forest_model.set_params(**{\"max_depth\": 8})"
   ]
  },
  {
   "cell_type": "code",
   "execution_count": 40,
   "metadata": {},
   "outputs": [],
   "source": [
    "#max_features: 0-18\n",
    "max_features_x_axis=np.linspace(1, 17, 17).astype(int)\n",
    "max_features_train_loss=[]\n",
    "max_features_test_loss=[]\n",
    "\n",
    "for features in max_features_x_axis:\n",
    "    model_to_test = initial_random_forest_model.set_params(**{\"max_features\": features})\n",
    "    model_to_test.fit(x_train_2, y_train_2)\n",
    "    train_predict = model_to_test.predict_proba(x_train_2)\n",
    "    test_predict = model_to_test.predict_proba(x_val)\n",
    "    max_features_train_loss.append(log_loss(y_train_2, train_predict[:,-1]))\n",
    "    max_features_test_loss.append(log_loss(y_val, test_predict[:,-1]))"
   ]
  },
  {
   "cell_type": "code",
   "execution_count": 41,
   "metadata": {},
   "outputs": [
    {
     "data": {
      "image/png": "[encoded data removed]",
      "text/plain": [
       "<Figure size 432x288 with 1 Axes>"
      ]
     },
     "metadata": {
      "needs_background": "light"
     },
     "output_type": "display_data"
    }
   ],
   "source": [
    "plt.plot(max_features_x_axis, max_features_test_loss,label='validation set')\n",
    "plt.plot(max_features_x_axis, max_features_train_loss,label='train set')\n",
    "plt.legend()\n",
    "plt.axvline(x=7, color='green', linestyle='--')\n",
    "plt.xticks(np.arange(19))\n",
    "plt.title('Train and Test Log Loss By Max Features')\n",
    "plt.show()"
   ]
  },
  {
   "cell_type": "code",
   "execution_count": 42,
   "metadata": {},
   "outputs": [
    {
     "data": {
      "text/plain": [
       "RandomForestClassifier(bootstrap=True, ccp_alpha=0.0, class_weight=None,\n",
       "                       criterion='gini', max_depth=8, max_features=7,\n",
       "                       max_leaf_nodes=None, max_samples=None,\n",
       "                       min_impurity_decrease=0.0, min_impurity_split=None,\n",
       "                       min_samples_leaf=1, min_samples_split=250,\n",
       "                       min_weight_fraction_leaf=0.0, n_estimators=500,\n",
       "                       n_jobs=-1, oob_score=False, random_state=None, verbose=0,\n",
       "                       warm_start=False)"
      ]
     },
     "execution_count": 42,
     "metadata": {},
     "output_type": "execute_result"
    }
   ],
   "source": [
    "initial_random_forest_model.set_params(**{\"max_features\": 7})"
   ]
  },
  {
   "cell_type": "code",
   "execution_count": 43,
   "metadata": {},
   "outputs": [],
   "source": [
    "#min_samples_leaf: 1-100, increase by 3:\n",
    "min_samples_leaf_x_axis=np.linspace(1, 100, 34).astype(int)\n",
    "min_samples_leaf_train_loss=[]\n",
    "min_samples_leaf_test_loss=[]\n",
    "\n",
    "for samples in min_samples_leaf_x_axis:\n",
    "    model_to_test = initial_random_forest_model.set_params(**{\"min_samples_leaf\": samples})\n",
    "    model_to_test.fit(x_train_2, y_train_2)\n",
    "    train_predict = model_to_test.predict_proba(x_train_2)\n",
    "    test_predict = model_to_test.predict_proba(x_val)\n",
    "    min_samples_leaf_train_loss.append(log_loss(y_train_2, train_predict[:,-1]))\n",
    "    min_samples_leaf_test_loss.append(log_loss(y_val, test_predict[:,-1]))"
   ]
  },
  {
   "cell_type": "code",
   "execution_count": 44,
   "metadata": {},
   "outputs": [
    {
     "data": {
      "image/png": "[encoded data removed]",
      "text/plain": [
       "<Figure size 432x288 with 1 Axes>"
      ]
     },
     "metadata": {
      "needs_background": "light"
     },
     "output_type": "display_data"
    }
   ],
   "source": [
    "plt.plot(min_samples_leaf_x_axis, min_samples_leaf_test_loss,label='validation set')\n",
    "plt.plot(min_samples_leaf_x_axis, min_samples_leaf_train_loss,label='train set')\n",
    "plt.legend()\n",
    "plt.axvline(x=1, color='green', linestyle='--')\n",
    "plt.title('Train and Test Log Loss By Min Samples Leaf')\n",
    "plt.show()"
   ]
  },
  {
   "cell_type": "markdown",
   "metadata": {},
   "source": [
    "It appears as though this parameter has little effect on the test set predictions of the model"
   ]
  },
  {
   "cell_type": "code",
   "execution_count": 45,
   "metadata": {},
   "outputs": [
    {
     "data": {
      "text/plain": [
       "RandomForestClassifier(bootstrap=True, ccp_alpha=0.0, class_weight=None,\n",
       "                       criterion='gini', max_depth=8, max_features=7,\n",
       "                       max_leaf_nodes=None, max_samples=None,\n",
       "                       min_impurity_decrease=0.0, min_impurity_split=None,\n",
       "                       min_samples_leaf=1, min_samples_split=250,\n",
       "                       min_weight_fraction_leaf=0.0, n_estimators=500,\n",
       "                       n_jobs=-1, oob_score=False, random_state=None, verbose=0,\n",
       "                       warm_start=False)"
      ]
     },
     "execution_count": 45,
     "metadata": {},
     "output_type": "execute_result"
    }
   ],
   "source": [
    "initial_random_forest_model.set_params(**{\"min_samples_leaf\": 1})"
   ]
  },
  {
   "cell_type": "code",
   "execution_count": 46,
   "metadata": {},
   "outputs": [],
   "source": [
    "#min_samples_split: 0-500, increasing by 20 each time\n",
    "min_samples_split_x_axis=np.linspace(25, 600, 25).astype(int)\n",
    "min_samples_split_train_loss=[]\n",
    "min_samples_split_test_loss=[]\n",
    "\n",
    "for samples in min_samples_split_x_axis:\n",
    "    model_to_test = initial_random_forest_model.set_params(**{\"min_samples_split\": samples})\n",
    "    model_to_test.fit(x_train_2, y_train_2)\n",
    "    train_predict = model_to_test.predict_proba(x_train_2)\n",
    "    test_predict = model_to_test.predict_proba(x_val)\n",
    "    min_samples_split_train_loss.append(log_loss(y_train_2, train_predict[:,-1]))\n",
    "    min_samples_split_test_loss.append(log_loss(y_val, test_predict[:,-1]))"
   ]
  },
  {
   "cell_type": "code",
   "execution_count": 47,
   "metadata": {},
   "outputs": [
    {
     "data": {
      "image/png": "[encoded data removed]",
      "text/plain": [
       "<Figure size 432x288 with 1 Axes>"
      ]
     },
     "metadata": {
      "needs_background": "light"
     },
     "output_type": "display_data"
    }
   ],
   "source": [
    "plt.plot(min_samples_split_x_axis, min_samples_split_test_loss,label='validation set')\n",
    "plt.plot(min_samples_split_x_axis, min_samples_split_train_loss,label='train set')\n",
    "plt.legend()\n",
    "plt.axvline(x=250, color='green', linestyle='--')\n",
    "plt.title('Train and Test Log Loss By Min Samples Split')\n",
    "plt.show()"
   ]
  },
  {
   "cell_type": "code",
   "execution_count": 48,
   "metadata": {},
   "outputs": [
    {
     "data": {
      "text/plain": [
       "RandomForestClassifier(bootstrap=True, ccp_alpha=0.0, class_weight=None,\n",
       "                       criterion='gini', max_depth=8, max_features=7,\n",
       "                       max_leaf_nodes=None, max_samples=None,\n",
       "                       min_impurity_decrease=0.0, min_impurity_split=None,\n",
       "                       min_samples_leaf=1, min_samples_split=250,\n",
       "                       min_weight_fraction_leaf=0.0, n_estimators=500,\n",
       "                       n_jobs=-1, oob_score=False, random_state=None, verbose=0,\n",
       "                       warm_start=False)"
      ]
     },
     "execution_count": 48,
     "metadata": {},
     "output_type": "execute_result"
    }
   ],
   "source": [
    "initial_random_forest_model.set_params(**{\"min_samples_split\": 250})"
   ]
  },
  {
   "cell_type": "code",
   "execution_count": 49,
   "metadata": {},
   "outputs": [],
   "source": [
    "final_rf_model=initial_random_forest_model"
   ]
  },
  {
   "cell_type": "code",
   "execution_count": 50,
   "metadata": {},
   "outputs": [
    {
     "data": {
      "text/plain": [
       "RandomForestClassifier(bootstrap=True, ccp_alpha=0.0, class_weight=None,\n",
       "                       criterion='gini', max_depth=8, max_features=7,\n",
       "                       max_leaf_nodes=None, max_samples=None,\n",
       "                       min_impurity_decrease=0.0, min_impurity_split=None,\n",
       "                       min_samples_leaf=1, min_samples_split=250,\n",
       "                       min_weight_fraction_leaf=0.0, n_estimators=500,\n",
       "                       n_jobs=-1, oob_score=False, random_state=None, verbose=0,\n",
       "                       warm_start=False)"
      ]
     },
     "execution_count": 50,
     "metadata": {},
     "output_type": "execute_result"
    }
   ],
   "source": [
    "final_rf_model.fit(x_train, y_train)"
   ]
  },
  {
   "cell_type": "markdown",
   "metadata": {},
   "source": [
    "### Permutation Importance For Feature Selection"
   ]
  },
  {
   "cell_type": "markdown",
   "metadata": {},
   "source": [
    "One of the main criticisms of tree based models as that it is relatively uninterpretable and that it is unclear how to determine which features are contributing to your model. ``sklearn`` has a built in feature importance attribute, but I would recommend against using it because it counts the number of splits on each variable. Thus, continuous variables feature more heavily as they have more variables to split on, while categorical variables can only split on 0/1, so the built in  method counts categorical features less. "
   ]
  },
  {
   "cell_type": "markdown",
   "metadata": {},
   "source": [
    "Another method for feature importance is by using Shap values, which @clekraus goes into detail on his notebook."
   ]
  },
  {
   "cell_type": "markdown",
   "metadata": {},
   "source": [
    "My favorite method for feature importance is permutation importance. The way permutation importance works is on each permutataion, it randomizes the values in columns, re-trains the model, and compares the acacuracy of the predictions between the model with some randomized columns and the original model. The more important a column is, the bigger the disparity between the results of the model with that column randomized and the actual model."
   ]
  },
  {
   "cell_type": "markdown",
   "metadata": {},
   "source": [
    "First, we will take a look at the feature importances on the training set. This is  helpful in seeing where the model saw places to split their decision tree."
   ]
  },
  {
   "cell_type": "code",
   "execution_count": 51,
   "metadata": {},
   "outputs": [
    {
     "name": "stdout",
     "output_type": "stream",
     "text": [
      "CPU times: user 5.64 s, sys: 339 ms, total: 5.98 s\n",
      "Wall time: 5min 20s\n"
     ]
    },
    {
     "data": {
      "image/png": "[encoded data removed]",
      "text/plain": [
       "<Figure size 432x288 with 1 Axes>"
      ]
     },
     "metadata": {
      "needs_background": "light"
     },
     "output_type": "display_data"
    }
   ],
   "source": [
    "%time  result = permutation_importance(final_rf_model, x_train_2, y_train_2, n_repeats=100, random_state=42, n_jobs=-1)\n",
    "sorted_idx = result.importances_mean.argsort()\n",
    "\n",
    "fig, ax = plt.subplots()\n",
    "ax.boxplot(result.importances[sorted_idx].T, vert=False, labels=x_train.columns[sorted_idx])\n",
    "ax.set_title(\"Random Forest Permutation Importances (Training Set)\")\n",
    "fig.tight_layout()\n",
    "plt.show()"
   ]
  },
  {
   "cell_type": "markdown",
   "metadata": {},
   "source": [
    "We find that the features that we expected to be criticial are important, notably Distance and angle. We also find that certain features that are perfectly correlated with other features (Y, left_foot  and  out_swinging) were not important in the model, so that is something to keep in mind."
   ]
  },
  {
   "cell_type": "markdown",
   "metadata": {},
   "source": [
    "However, we will also run this analysis on the validatoin set so that we know which features are overfit to the training set, as these features would feature prominently when permuted in sample, but hardly (or negatively) feature out of sample"
   ]
  },
  {
   "cell_type": "code",
   "execution_count": null,
   "metadata": {},
   "outputs": [],
   "source": [
    "%time  result = permutation_importance(final_rf_model, x_val, y_val, n_repeats=250, random_state=42, n_jobs=-1)\n",
    "sorted_idx = result.importances_mean.argsort()\n",
    "\n",
    "fig, ax = plt.subplots()\n",
    "ax.boxplot(result.importances[sorted_idx].T, vert=False, labels=x_train.columns[sorted_idx])\n",
    "ax.set_title(\"Random Forest Permutation Importances (Validation Set)\")\n",
    "fig.tight_layout()\n",
    "plt.show()"
   ]
  },
  {
   "cell_type": "markdown",
   "metadata": {},
   "source": [
    "We end up seeing here that many features have 0 (or event negative) effect on the validation set, including some variables that I would have expected to be very important (such as strong foot). This is a fascinating discovery, but also puts into question the quality of this methodology for feature importance.\n",
    "\n",
    "This is useful as we move to Logistic Regression, as we will compare this output to the \"traditional\" way of feature selecting as proposed by David Sumpter. We will improve this model during the Logistic regression notebook, taking into knowledge acquired from these plots and variables in the  logistic regression model."
   ]
  }
 ],
 "metadata": {
  "kernelspec": {
   "display_name": "Python 3",
   "language": "python",
   "name": "python3"
  },
  "language_info": {
   "codemirror_mode": {
    "name": "ipython",
    "version": 3
   },
   "file_extension": ".py",
   "mimetype": "text/x-python",
   "name": "python",
   "nbconvert_exporter": "python",
   "pygments_lexer": "ipython3",
   "version": "3.7.6"
  }
 },
 "nbformat": 4,
 "nbformat_minor": 4
}
