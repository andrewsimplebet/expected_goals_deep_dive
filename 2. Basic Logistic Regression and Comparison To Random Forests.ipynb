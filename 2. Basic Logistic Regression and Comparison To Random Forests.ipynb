{
 "cells": [
  {
   "cell_type": "markdown",
   "metadata": {},
   "source": [
    "##  Notebook 2: Building a Logistic Regression Model, Comparing Its Pros/Cons To Random Forests, And Why Using Traditional Data Sceince Tools Is Insufficient For Assessing Expected Goals Models"
   ]
  },
  {
   "cell_type": "markdown",
   "metadata": {},
   "source": [
    "Welcome to the 2nd notebook of my expected goals series! In this notebook, we will take a look at building a logistic regression model, with an emphasis on comparing strengths/weaknesses and paint points to a Random Forest. At the end, we will take a look at why the methodologies used in the first two notebooks are not sufficient to building a strong expected goals model, and preview what will come in the rest of the series."
   ]
  },
  {
   "cell_type": "markdown",
   "metadata": {},
   "source": [
    "For those that missed the 1st notebook, feel free to check it out  here: https://github.com/andrewsimplebet/expected_goals_deep_dive/blob/master/1.%20Random%20Forest%20Cross%20Validation%20And%20Hyperparameter%20Tuning.ipynb"
   ]
  },
  {
   "cell_type": "markdown",
   "metadata": {},
   "source": [
    "This notebook will not go nearly as in depth on building a strong logistic regression as @CleKraus, who touches on a lot of really important concepts when it comes to building a logistic regression model for expected goals. I will  mention a couple of these concepts during our abbreviated selection, but the process that @CleKraus went through will help inform some of the comparisons with the Random Forest built in Notebook 1"
   ]
  },
  {
   "cell_type": "markdown",
   "metadata": {},
   "source": [
    "@CleKraus' notebook: https://github.com/CleKraus/soccer_analytics/blob/master/notebooks/expected_goal_model_lr.ipynb"
   ]
  },
  {
   "cell_type": "markdown",
   "metadata": {},
   "source": [
    "Let's start by loading in our data, and performing the same train/test split that we did in the Random Forest model"
   ]
  },
  {
   "cell_type": "code",
   "execution_count": 1,
   "metadata": {},
   "outputs": [],
   "source": [
    "import pandas as pd\n",
    "import matplotlib.pyplot as plt\n",
    "from sklearn.model_selection import train_test_split\n",
    "from sklearn.metrics import log_loss, roc_auc_score, roc_curve\n",
    "from sklearn.ensemble import RandomForestClassifier\n",
    "from sklearn.linear_model import LogisticRegression\n",
    "import statsmodels.api as sm\n",
    "import statsmodels.formula.api as smf"
   ]
  },
  {
   "cell_type": "code",
   "execution_count": 2,
   "metadata": {},
   "outputs": [],
   "source": [
    "shots_model = pd.read_csv('shots_design_matrix.csv')\n",
    "shots_model = shots_model.drop(columns=['Unnamed: 0', 'firstName',  'lastName',  'label', 'venue', 'date', 'eventSec'])\n",
    "y = shots_model['Goal']\n",
    "x = shots_model.drop(['Goal'], axis=1)\n",
    "x_train, x_test, y_train, y_test = train_test_split(x, y, test_size=0.2, random_state=42)"
   ]
  },
  {
   "cell_type": "markdown",
   "metadata": {},
   "source": [
    "### Building a Logistic Regression Model For Expected Goals"
   ]
  },
  {
   "cell_type": "markdown",
   "metadata": {},
   "source": [
    "For our initial Logistic Regression model, we will use the StatsModels implementation of Logistic Regression, as David does in his #FoT videos (https://www.youtube.com/channel/UCUBFJYcag8j2rm_9HkrrA7w/videos). We choose StatsModels initially because it provides nice outputs of p values associated with each feature, which aids in feature selection"
   ]
  },
  {
   "cell_type": "markdown",
   "metadata": {},
   "source": [
    "Like we did for our Random Forest, let's fit a naive Logistic Regression model without playing with any parameters or features, to see how it performs:"
   ]
  },
  {
   "cell_type": "code",
   "execution_count": 3,
   "metadata": {},
   "outputs": [],
   "source": [
    "initial_logistic_regression = sm.GLM(endog=y_train,exog=x_train,data=shots_model, \n",
    "                                           family=sm.families.Binomial()).fit()\n"
   ]
  },
  {
   "cell_type": "markdown",
   "metadata": {},
   "source": [
    "Like like we did with the Random Forest, let's look at its train/test performance"
   ]
  },
  {
   "cell_type": "code",
   "execution_count": 4,
   "metadata": {},
   "outputs": [
    {
     "name": "stdout",
     "output_type": "stream",
     "text": [
      "The log loss of our model on the training set is : 0.2776\n",
      "The ROC AUC of our model on the training set is : 0.78\n"
     ]
    }
   ],
   "source": [
    "train_y_hat = initial_logistic_regression.predict(x_train)\n",
    "naive_train_log_loss = log_loss(y_train, train_y_hat)\n",
    "naive_train_roc_auc = roc_auc_score(y_train, train_y_hat)\n",
    "print('The log loss of our model on the training set is : ' +str(round(naive_train_log_loss, 4)))\n",
    "print('The ROC AUC of our model on the training set is : ' +str(round(naive_train_roc_auc, 3)))"
   ]
  },
  {
   "cell_type": "code",
   "execution_count": 5,
   "metadata": {},
   "outputs": [
    {
     "name": "stdout",
     "output_type": "stream",
     "text": [
      "The log loss of our model on the test set is : 0.2803\n",
      "The ROC AUC of our model on the test set is : 0.783\n"
     ]
    }
   ],
   "source": [
    "test_y_hat = initial_logistic_regression.predict(x_test)\n",
    "naive_test_log_loss = log_loss(y_test, test_y_hat)\n",
    "naive_test_roc_auc = roc_auc_score(y_test, test_y_hat)\n",
    "print('The log loss of our model on the test set is : ' +str(round(naive_test_log_loss, 4)))\n",
    "print('The ROC AUC of our model on the test set is : ' +str(round(naive_test_roc_auc, 3)))"
   ]
  },
  {
   "cell_type": "code",
   "execution_count": 6,
   "metadata": {},
   "outputs": [],
   "source": [
    "train_fpr, train_tpr, train_thresholds = roc_curve(y_true=y_train, y_score=train_y_hat)\n",
    "test_fpr, test_tpr, test_thresholds = roc_curve(y_true=y_test, y_score=test_y_hat)"
   ]
  },
  {
   "cell_type": "code",
   "execution_count": 7,
   "metadata": {},
   "outputs": [
    {
     "data": {
      "image/png": "[encoded data removed]",
      "text/plain": [
       "<Figure size 432x288 with 1 Axes>"
      ]
     },
     "metadata": {
      "needs_background": "light"
     },
     "output_type": "display_data"
    }
   ],
   "source": [
    "plt.plot(train_fpr, train_tpr, label = 'Train ROC AUC')\n",
    "plt.plot(test_fpr, test_tpr, label = 'Test ROC AUC')\n",
    "plt.plot([0, 1], [0, 1], color = 'black', linewidth = 2, linestyle = '--')\n",
    "plt.xlabel('False Positive Rate')\n",
    "plt.ylabel('True Positive Rate')\n",
    "plt.legend()\n",
    "plt.title('ROC AUC Curve For Naive Logistic Regression Model On Train vs Test Set')\n",
    "plt.show()"
   ]
  },
  {
   "cell_type": "markdown",
   "metadata": {},
   "source": [
    "This is awesome! We find that the training and testing metrics are not far off from one another, so we are not running the risk of overfitting to our training set. In addition, we find that the loss metrics out of sample are very close to the loss metrics produced by the Random Forest model in Notebook 1."
   ]
  },
  {
   "cell_type": "markdown",
   "metadata": {},
   "source": [
    "One of the advantages of logistic regression is that it's very easy to tell which features are important. To do this, we can simply look at the p values provided by the model However, we must be incredibly careful to consider the assumptions that underlie these p values"
   ]
  },
  {
   "cell_type": "code",
   "execution_count": 8,
   "metadata": {},
   "outputs": [
    {
     "name": "stdout",
     "output_type": "stream",
     "text": [
      "                 Generalized Linear Model Regression Results                  \n",
      "==============================================================================\n",
      "Dep. Variable:                   Goal   No. Observations:                36227\n",
      "Model:                            GLM   Df Residuals:                    36208\n",
      "Model Family:                Binomial   Df Model:                           18\n",
      "Link Function:                  logit   Scale:                          1.0000\n",
      "Method:                          IRLS   Log-Likelihood:                -10056.\n",
      "Date:                Fri, 15 May 2020   Deviance:                       20111.\n",
      "Time:                        00:05:59   Pearson chi2:                 6.48e+05\n",
      "No. Iterations:                     7                                         \n",
      "Covariance Type:            nonrobust                                         \n",
      "===================================================================================\n",
      "                      coef    std err          z      P>|z|      [0.025      0.975]\n",
      "-----------------------------------------------------------------------------------\n",
      "X                   0.0421      0.024      1.727      0.084      -0.006       0.090\n",
      "Y                  -0.0019      0.003     -0.646      0.518      -0.008       0.004\n",
      "side_of_field       0.0342      0.064      0.534      0.593      -0.091       0.160\n",
      "left_foot          -0.4029      0.117     -3.431      0.001      -0.633      -0.173\n",
      "right_foot         -0.5297      0.121     -4.388      0.000      -0.766      -0.293\n",
      "header             -1.6528      0.234     -7.049      0.000      -2.112      -1.193\n",
      "counter_attack      0.5896      0.072      8.220      0.000       0.449       0.730\n",
      "strong_foot         0.1973      0.056      3.517      0.000       0.087       0.307\n",
      "C                   0.0016      0.008      0.195      0.846      -0.015       0.018\n",
      "Distance           -0.1508      0.027     -5.570      0.000      -0.204      -0.098\n",
      "Angle               1.4958      0.114     13.091      0.000       1.272       1.720\n",
      "out_swinging       -0.4482      0.117     -3.821      0.000      -0.678      -0.218\n",
      "in_swinging        -0.4844      0.120     -4.040      0.000      -0.719      -0.249\n",
      "rebound             0.1417      0.158      0.899      0.368      -0.167       0.450\n",
      "prev_cross         -0.2772      0.068     -4.073      0.000      -0.411      -0.144\n",
      "prev_touch         -0.0690      0.085     -0.816      0.414      -0.235       0.097\n",
      "prev_pass          -0.0951      0.066     -1.443      0.149      -0.224       0.034\n",
      "prev_smart_pass     0.2813      0.087      3.243      0.001       0.111       0.451\n",
      "free_kick           0.7625      0.122      6.229      0.000       0.523       1.002\n",
      "prev_duel          -0.2767      0.062     -4.486      0.000      -0.398      -0.156\n",
      "===================================================================================\n"
     ]
    }
   ],
   "source": [
    "print(initial_logistic_regression.summary())"
   ]
  },
  {
   "cell_type": "markdown",
   "metadata": {},
   "source": [
    "From this we can see that almost all of our variables are statistically significant. The 6 variables that aren't significant (at least by the naive p value test) are Y, side of field, C, prev_cross, prev_pass and prev_duel. These aren't quite the same as the Random Forest, but there's a bit of overlap. However, let's look a little deeper"
   ]
  },
  {
   "cell_type": "markdown",
   "metadata": {},
   "source": [
    "One of the major assumptions of logistic regression is that the features are independent of each other. In this model,  that isn't quite the case. First, let's take a look at the pairwise correlations between variables"
   ]
  },
  {
   "cell_type": "code",
   "execution_count": 9,
   "metadata": {},
   "outputs": [
    {
     "data": {
      "text/html": [
       "<div>\n",
       "<style scoped>\n",
       "    .dataframe tbody tr th:only-of-type {\n",
       "        vertical-align: middle;\n",
       "    }\n",
       "\n",
       "    .dataframe tbody tr th {\n",
       "        vertical-align: top;\n",
       "    }\n",
       "\n",
       "    .dataframe thead th {\n",
       "        text-align: right;\n",
       "    }\n",
       "</style>\n",
       "<table border=\"1\" class=\"dataframe\">\n",
       "  <thead>\n",
       "    <tr style=\"text-align: right;\">\n",
       "      <th></th>\n",
       "      <th>X</th>\n",
       "      <th>Y</th>\n",
       "      <th>side_of_field</th>\n",
       "      <th>left_foot</th>\n",
       "      <th>right_foot</th>\n",
       "      <th>header</th>\n",
       "      <th>counter_attack</th>\n",
       "      <th>strong_foot</th>\n",
       "      <th>C</th>\n",
       "      <th>Distance</th>\n",
       "      <th>Angle</th>\n",
       "      <th>out_swinging</th>\n",
       "      <th>in_swinging</th>\n",
       "      <th>rebound</th>\n",
       "      <th>prev_cross</th>\n",
       "      <th>prev_touch</th>\n",
       "      <th>prev_pass</th>\n",
       "      <th>prev_smart_pass</th>\n",
       "      <th>free_kick</th>\n",
       "      <th>prev_duel</th>\n",
       "    </tr>\n",
       "  </thead>\n",
       "  <tbody>\n",
       "    <tr>\n",
       "      <th>X</th>\n",
       "      <td>1.000000</td>\n",
       "      <td>-0.011128</td>\n",
       "      <td>0.002720</td>\n",
       "      <td>0.082732</td>\n",
       "      <td>0.186053</td>\n",
       "      <td>-0.365134</td>\n",
       "      <td>-0.022532</td>\n",
       "      <td>0.326818</td>\n",
       "      <td>0.145191</td>\n",
       "      <td>0.955058</td>\n",
       "      <td>-0.598556</td>\n",
       "      <td>0.047176</td>\n",
       "      <td>0.221877</td>\n",
       "      <td>-0.066814</td>\n",
       "      <td>-0.276912</td>\n",
       "      <td>0.007502</td>\n",
       "      <td>0.262184</td>\n",
       "      <td>-0.133532</td>\n",
       "      <td>0.230940</td>\n",
       "      <td>-0.110923</td>\n",
       "    </tr>\n",
       "    <tr>\n",
       "      <th>Y</th>\n",
       "      <td>-0.011128</td>\n",
       "      <td>1.000000</td>\n",
       "      <td>-0.829888</td>\n",
       "      <td>-0.052021</td>\n",
       "      <td>0.042695</td>\n",
       "      <td>0.008735</td>\n",
       "      <td>0.001244</td>\n",
       "      <td>0.021040</td>\n",
       "      <td>-0.078803</td>\n",
       "      <td>-0.032940</td>\n",
       "      <td>0.035022</td>\n",
       "      <td>0.153475</td>\n",
       "      <td>-0.162634</td>\n",
       "      <td>0.007240</td>\n",
       "      <td>0.008920</td>\n",
       "      <td>0.012291</td>\n",
       "      <td>0.009052</td>\n",
       "      <td>0.018729</td>\n",
       "      <td>-0.013601</td>\n",
       "      <td>-0.026491</td>\n",
       "    </tr>\n",
       "    <tr>\n",
       "      <th>side_of_field</th>\n",
       "      <td>0.002720</td>\n",
       "      <td>-0.829888</td>\n",
       "      <td>1.000000</td>\n",
       "      <td>0.063379</td>\n",
       "      <td>-0.057101</td>\n",
       "      <td>-0.003610</td>\n",
       "      <td>-0.000291</td>\n",
       "      <td>-0.029055</td>\n",
       "      <td>0.079933</td>\n",
       "      <td>0.020817</td>\n",
       "      <td>-0.032532</td>\n",
       "      <td>-0.182455</td>\n",
       "      <td>0.188335</td>\n",
       "      <td>-0.002913</td>\n",
       "      <td>-0.011845</td>\n",
       "      <td>-0.001313</td>\n",
       "      <td>-0.008746</td>\n",
       "      <td>-0.017253</td>\n",
       "      <td>0.003323</td>\n",
       "      <td>0.021750</td>\n",
       "    </tr>\n",
       "    <tr>\n",
       "      <th>left_foot</th>\n",
       "      <td>0.082732</td>\n",
       "      <td>-0.052021</td>\n",
       "      <td>0.063379</td>\n",
       "      <td>1.000000</td>\n",
       "      <td>-0.724346</td>\n",
       "      <td>-0.301214</td>\n",
       "      <td>0.028796</td>\n",
       "      <td>-0.155623</td>\n",
       "      <td>0.100151</td>\n",
       "      <td>0.106176</td>\n",
       "      <td>-0.129563</td>\n",
       "      <td>0.147327</td>\n",
       "      <td>0.072718</td>\n",
       "      <td>0.005759</td>\n",
       "      <td>-0.097221</td>\n",
       "      <td>0.025930</td>\n",
       "      <td>0.044312</td>\n",
       "      <td>0.008548</td>\n",
       "      <td>0.026241</td>\n",
       "      <td>-0.014214</td>\n",
       "    </tr>\n",
       "    <tr>\n",
       "      <th>right_foot</th>\n",
       "      <td>0.186053</td>\n",
       "      <td>0.042695</td>\n",
       "      <td>-0.057101</td>\n",
       "      <td>-0.724346</td>\n",
       "      <td>1.000000</td>\n",
       "      <td>-0.439234</td>\n",
       "      <td>0.030632</td>\n",
       "      <td>0.579028</td>\n",
       "      <td>0.099753</td>\n",
       "      <td>0.204274</td>\n",
       "      <td>-0.191884</td>\n",
       "      <td>0.140855</td>\n",
       "      <td>0.181318</td>\n",
       "      <td>0.003739</td>\n",
       "      <td>-0.119583</td>\n",
       "      <td>0.031395</td>\n",
       "      <td>0.130112</td>\n",
       "      <td>0.049154</td>\n",
       "      <td>0.045118</td>\n",
       "      <td>-0.121433</td>\n",
       "    </tr>\n",
       "    <tr>\n",
       "      <th>header</th>\n",
       "      <td>-0.365134</td>\n",
       "      <td>0.008735</td>\n",
       "      <td>-0.003610</td>\n",
       "      <td>-0.301214</td>\n",
       "      <td>-0.439234</td>\n",
       "      <td>1.000000</td>\n",
       "      <td>-0.079889</td>\n",
       "      <td>-0.598066</td>\n",
       "      <td>-0.268470</td>\n",
       "      <td>-0.420884</td>\n",
       "      <td>0.434222</td>\n",
       "      <td>-0.386791</td>\n",
       "      <td>-0.345535</td>\n",
       "      <td>-0.012676</td>\n",
       "      <td>0.292080</td>\n",
       "      <td>-0.077211</td>\n",
       "      <td>-0.237697</td>\n",
       "      <td>-0.079124</td>\n",
       "      <td>-0.096596</td>\n",
       "      <td>0.186475</td>\n",
       "    </tr>\n",
       "    <tr>\n",
       "      <th>counter_attack</th>\n",
       "      <td>-0.022532</td>\n",
       "      <td>0.001244</td>\n",
       "      <td>-0.000291</td>\n",
       "      <td>0.028796</td>\n",
       "      <td>0.030632</td>\n",
       "      <td>-0.079889</td>\n",
       "      <td>1.000000</td>\n",
       "      <td>0.044337</td>\n",
       "      <td>0.035497</td>\n",
       "      <td>-0.010305</td>\n",
       "      <td>-0.037990</td>\n",
       "      <td>0.061479</td>\n",
       "      <td>-0.003512</td>\n",
       "      <td>-0.011383</td>\n",
       "      <td>-0.037122</td>\n",
       "      <td>-0.035346</td>\n",
       "      <td>0.027146</td>\n",
       "      <td>0.065114</td>\n",
       "      <td>-0.053325</td>\n",
       "      <td>0.016189</td>\n",
       "    </tr>\n",
       "    <tr>\n",
       "      <th>strong_foot</th>\n",
       "      <td>0.326818</td>\n",
       "      <td>0.021040</td>\n",
       "      <td>-0.029055</td>\n",
       "      <td>-0.155623</td>\n",
       "      <td>0.579028</td>\n",
       "      <td>-0.598066</td>\n",
       "      <td>0.044337</td>\n",
       "      <td>1.000000</td>\n",
       "      <td>0.203863</td>\n",
       "      <td>0.364393</td>\n",
       "      <td>-0.325161</td>\n",
       "      <td>0.210303</td>\n",
       "      <td>0.228046</td>\n",
       "      <td>-0.006529</td>\n",
       "      <td>-0.193032</td>\n",
       "      <td>0.034126</td>\n",
       "      <td>0.196487</td>\n",
       "      <td>0.035226</td>\n",
       "      <td>0.152909</td>\n",
       "      <td>-0.178973</td>\n",
       "    </tr>\n",
       "    <tr>\n",
       "      <th>C</th>\n",
       "      <td>0.145191</td>\n",
       "      <td>-0.078803</td>\n",
       "      <td>0.079933</td>\n",
       "      <td>0.100151</td>\n",
       "      <td>0.099753</td>\n",
       "      <td>-0.268470</td>\n",
       "      <td>0.035497</td>\n",
       "      <td>0.203863</td>\n",
       "      <td>1.000000</td>\n",
       "      <td>0.409503</td>\n",
       "      <td>-0.560243</td>\n",
       "      <td>0.078115</td>\n",
       "      <td>0.118946</td>\n",
       "      <td>-0.033444</td>\n",
       "      <td>-0.180259</td>\n",
       "      <td>-0.019317</td>\n",
       "      <td>0.055930</td>\n",
       "      <td>0.032245</td>\n",
       "      <td>0.115369</td>\n",
       "      <td>0.021693</td>\n",
       "    </tr>\n",
       "    <tr>\n",
       "      <th>Distance</th>\n",
       "      <td>0.955058</td>\n",
       "      <td>-0.032940</td>\n",
       "      <td>0.020817</td>\n",
       "      <td>0.106176</td>\n",
       "      <td>0.204274</td>\n",
       "      <td>-0.420884</td>\n",
       "      <td>-0.010305</td>\n",
       "      <td>0.364393</td>\n",
       "      <td>0.409503</td>\n",
       "      <td>1.000000</td>\n",
       "      <td>-0.731449</td>\n",
       "      <td>0.076738</td>\n",
       "      <td>0.233001</td>\n",
       "      <td>-0.070579</td>\n",
       "      <td>-0.310263</td>\n",
       "      <td>0.001958</td>\n",
       "      <td>0.256073</td>\n",
       "      <td>-0.108133</td>\n",
       "      <td>0.249823</td>\n",
       "      <td>-0.098185</td>\n",
       "    </tr>\n",
       "    <tr>\n",
       "      <th>Angle</th>\n",
       "      <td>-0.598556</td>\n",
       "      <td>0.035022</td>\n",
       "      <td>-0.032532</td>\n",
       "      <td>-0.129563</td>\n",
       "      <td>-0.191884</td>\n",
       "      <td>0.434222</td>\n",
       "      <td>-0.037990</td>\n",
       "      <td>-0.325161</td>\n",
       "      <td>-0.560243</td>\n",
       "      <td>-0.731449</td>\n",
       "      <td>1.000000</td>\n",
       "      <td>-0.136599</td>\n",
       "      <td>-0.181945</td>\n",
       "      <td>0.080604</td>\n",
       "      <td>0.293379</td>\n",
       "      <td>0.011928</td>\n",
       "      <td>-0.189971</td>\n",
       "      <td>0.007503</td>\n",
       "      <td>-0.158534</td>\n",
       "      <td>0.028006</td>\n",
       "    </tr>\n",
       "    <tr>\n",
       "      <th>out_swinging</th>\n",
       "      <td>0.047176</td>\n",
       "      <td>0.153475</td>\n",
       "      <td>-0.182455</td>\n",
       "      <td>0.147327</td>\n",
       "      <td>0.140855</td>\n",
       "      <td>-0.386791</td>\n",
       "      <td>0.061479</td>\n",
       "      <td>0.210303</td>\n",
       "      <td>0.078115</td>\n",
       "      <td>0.076738</td>\n",
       "      <td>-0.136599</td>\n",
       "      <td>1.000000</td>\n",
       "      <td>-0.731718</td>\n",
       "      <td>0.018318</td>\n",
       "      <td>-0.078296</td>\n",
       "      <td>0.041925</td>\n",
       "      <td>0.129500</td>\n",
       "      <td>0.116629</td>\n",
       "      <td>-0.074149</td>\n",
       "      <td>-0.160334</td>\n",
       "    </tr>\n",
       "    <tr>\n",
       "      <th>in_swinging</th>\n",
       "      <td>0.221877</td>\n",
       "      <td>-0.162634</td>\n",
       "      <td>0.188335</td>\n",
       "      <td>0.072718</td>\n",
       "      <td>0.181318</td>\n",
       "      <td>-0.345535</td>\n",
       "      <td>-0.003512</td>\n",
       "      <td>0.228046</td>\n",
       "      <td>0.118946</td>\n",
       "      <td>0.233001</td>\n",
       "      <td>-0.181945</td>\n",
       "      <td>-0.731718</td>\n",
       "      <td>1.000000</td>\n",
       "      <td>-0.009271</td>\n",
       "      <td>-0.136212</td>\n",
       "      <td>0.014406</td>\n",
       "      <td>0.043910</td>\n",
       "      <td>-0.060199</td>\n",
       "      <td>0.146852</td>\n",
       "      <td>0.025327</td>\n",
       "    </tr>\n",
       "    <tr>\n",
       "      <th>rebound</th>\n",
       "      <td>-0.066814</td>\n",
       "      <td>0.007240</td>\n",
       "      <td>-0.002913</td>\n",
       "      <td>0.005759</td>\n",
       "      <td>0.003739</td>\n",
       "      <td>-0.012676</td>\n",
       "      <td>-0.011383</td>\n",
       "      <td>-0.006529</td>\n",
       "      <td>-0.033444</td>\n",
       "      <td>-0.070579</td>\n",
       "      <td>0.080604</td>\n",
       "      <td>0.018318</td>\n",
       "      <td>-0.009271</td>\n",
       "      <td>1.000000</td>\n",
       "      <td>-0.033548</td>\n",
       "      <td>-0.023965</td>\n",
       "      <td>-0.052541</td>\n",
       "      <td>-0.018500</td>\n",
       "      <td>-0.020378</td>\n",
       "      <td>-0.061989</td>\n",
       "    </tr>\n",
       "    <tr>\n",
       "      <th>prev_cross</th>\n",
       "      <td>-0.276912</td>\n",
       "      <td>0.008920</td>\n",
       "      <td>-0.011845</td>\n",
       "      <td>-0.097221</td>\n",
       "      <td>-0.119583</td>\n",
       "      <td>0.292080</td>\n",
       "      <td>-0.037122</td>\n",
       "      <td>-0.193032</td>\n",
       "      <td>-0.180259</td>\n",
       "      <td>-0.310263</td>\n",
       "      <td>0.293379</td>\n",
       "      <td>-0.078296</td>\n",
       "      <td>-0.136212</td>\n",
       "      <td>-0.033548</td>\n",
       "      <td>1.000000</td>\n",
       "      <td>-0.099628</td>\n",
       "      <td>-0.218425</td>\n",
       "      <td>-0.076910</td>\n",
       "      <td>-0.084716</td>\n",
       "      <td>-0.257703</td>\n",
       "    </tr>\n",
       "    <tr>\n",
       "      <th>prev_touch</th>\n",
       "      <td>0.007502</td>\n",
       "      <td>0.012291</td>\n",
       "      <td>-0.001313</td>\n",
       "      <td>0.025930</td>\n",
       "      <td>0.031395</td>\n",
       "      <td>-0.077211</td>\n",
       "      <td>-0.035346</td>\n",
       "      <td>0.034126</td>\n",
       "      <td>-0.019317</td>\n",
       "      <td>0.001958</td>\n",
       "      <td>0.011928</td>\n",
       "      <td>0.041925</td>\n",
       "      <td>0.014406</td>\n",
       "      <td>-0.023965</td>\n",
       "      <td>-0.099628</td>\n",
       "      <td>1.000000</td>\n",
       "      <td>-0.156034</td>\n",
       "      <td>-0.054942</td>\n",
       "      <td>-0.060518</td>\n",
       "      <td>-0.184093</td>\n",
       "    </tr>\n",
       "    <tr>\n",
       "      <th>prev_pass</th>\n",
       "      <td>0.262184</td>\n",
       "      <td>0.009052</td>\n",
       "      <td>-0.008746</td>\n",
       "      <td>0.044312</td>\n",
       "      <td>0.130112</td>\n",
       "      <td>-0.237697</td>\n",
       "      <td>0.027146</td>\n",
       "      <td>0.196487</td>\n",
       "      <td>0.055930</td>\n",
       "      <td>0.256073</td>\n",
       "      <td>-0.189971</td>\n",
       "      <td>0.129500</td>\n",
       "      <td>0.043910</td>\n",
       "      <td>-0.052541</td>\n",
       "      <td>-0.218425</td>\n",
       "      <td>-0.156034</td>\n",
       "      <td>1.000000</td>\n",
       "      <td>-0.120454</td>\n",
       "      <td>-0.132680</td>\n",
       "      <td>-0.403605</td>\n",
       "    </tr>\n",
       "    <tr>\n",
       "      <th>prev_smart_pass</th>\n",
       "      <td>-0.133532</td>\n",
       "      <td>0.018729</td>\n",
       "      <td>-0.017253</td>\n",
       "      <td>0.008548</td>\n",
       "      <td>0.049154</td>\n",
       "      <td>-0.079124</td>\n",
       "      <td>0.065114</td>\n",
       "      <td>0.035226</td>\n",
       "      <td>0.032245</td>\n",
       "      <td>-0.108133</td>\n",
       "      <td>0.007503</td>\n",
       "      <td>0.116629</td>\n",
       "      <td>-0.060199</td>\n",
       "      <td>-0.018500</td>\n",
       "      <td>-0.076910</td>\n",
       "      <td>-0.054942</td>\n",
       "      <td>-0.120454</td>\n",
       "      <td>1.000000</td>\n",
       "      <td>-0.046718</td>\n",
       "      <td>-0.142115</td>\n",
       "    </tr>\n",
       "    <tr>\n",
       "      <th>free_kick</th>\n",
       "      <td>0.230940</td>\n",
       "      <td>-0.013601</td>\n",
       "      <td>0.003323</td>\n",
       "      <td>0.026241</td>\n",
       "      <td>0.045118</td>\n",
       "      <td>-0.096596</td>\n",
       "      <td>-0.053325</td>\n",
       "      <td>0.152909</td>\n",
       "      <td>0.115369</td>\n",
       "      <td>0.249823</td>\n",
       "      <td>-0.158534</td>\n",
       "      <td>-0.074149</td>\n",
       "      <td>0.146852</td>\n",
       "      <td>-0.020378</td>\n",
       "      <td>-0.084716</td>\n",
       "      <td>-0.060518</td>\n",
       "      <td>-0.132680</td>\n",
       "      <td>-0.046718</td>\n",
       "      <td>1.000000</td>\n",
       "      <td>-0.156539</td>\n",
       "    </tr>\n",
       "    <tr>\n",
       "      <th>prev_duel</th>\n",
       "      <td>-0.110923</td>\n",
       "      <td>-0.026491</td>\n",
       "      <td>0.021750</td>\n",
       "      <td>-0.014214</td>\n",
       "      <td>-0.121433</td>\n",
       "      <td>0.186475</td>\n",
       "      <td>0.016189</td>\n",
       "      <td>-0.178973</td>\n",
       "      <td>0.021693</td>\n",
       "      <td>-0.098185</td>\n",
       "      <td>0.028006</td>\n",
       "      <td>-0.160334</td>\n",
       "      <td>0.025327</td>\n",
       "      <td>-0.061989</td>\n",
       "      <td>-0.257703</td>\n",
       "      <td>-0.184093</td>\n",
       "      <td>-0.403605</td>\n",
       "      <td>-0.142115</td>\n",
       "      <td>-0.156539</td>\n",
       "      <td>1.000000</td>\n",
       "    </tr>\n",
       "  </tbody>\n",
       "</table>\n",
       "</div>"
      ],
      "text/plain": [
       "                        X         Y  side_of_field  left_foot  right_foot  \\\n",
       "X                1.000000 -0.011128       0.002720   0.082732    0.186053   \n",
       "Y               -0.011128  1.000000      -0.829888  -0.052021    0.042695   \n",
       "side_of_field    0.002720 -0.829888       1.000000   0.063379   -0.057101   \n",
       "left_foot        0.082732 -0.052021       0.063379   1.000000   -0.724346   \n",
       "right_foot       0.186053  0.042695      -0.057101  -0.724346    1.000000   \n",
       "header          -0.365134  0.008735      -0.003610  -0.301214   -0.439234   \n",
       "counter_attack  -0.022532  0.001244      -0.000291   0.028796    0.030632   \n",
       "strong_foot      0.326818  0.021040      -0.029055  -0.155623    0.579028   \n",
       "C                0.145191 -0.078803       0.079933   0.100151    0.099753   \n",
       "Distance         0.955058 -0.032940       0.020817   0.106176    0.204274   \n",
       "Angle           -0.598556  0.035022      -0.032532  -0.129563   -0.191884   \n",
       "out_swinging     0.047176  0.153475      -0.182455   0.147327    0.140855   \n",
       "in_swinging      0.221877 -0.162634       0.188335   0.072718    0.181318   \n",
       "rebound         -0.066814  0.007240      -0.002913   0.005759    0.003739   \n",
       "prev_cross      -0.276912  0.008920      -0.011845  -0.097221   -0.119583   \n",
       "prev_touch       0.007502  0.012291      -0.001313   0.025930    0.031395   \n",
       "prev_pass        0.262184  0.009052      -0.008746   0.044312    0.130112   \n",
       "prev_smart_pass -0.133532  0.018729      -0.017253   0.008548    0.049154   \n",
       "free_kick        0.230940 -0.013601       0.003323   0.026241    0.045118   \n",
       "prev_duel       -0.110923 -0.026491       0.021750  -0.014214   -0.121433   \n",
       "\n",
       "                   header  counter_attack  strong_foot         C  Distance  \\\n",
       "X               -0.365134       -0.022532     0.326818  0.145191  0.955058   \n",
       "Y                0.008735        0.001244     0.021040 -0.078803 -0.032940   \n",
       "side_of_field   -0.003610       -0.000291    -0.029055  0.079933  0.020817   \n",
       "left_foot       -0.301214        0.028796    -0.155623  0.100151  0.106176   \n",
       "right_foot      -0.439234        0.030632     0.579028  0.099753  0.204274   \n",
       "header           1.000000       -0.079889    -0.598066 -0.268470 -0.420884   \n",
       "counter_attack  -0.079889        1.000000     0.044337  0.035497 -0.010305   \n",
       "strong_foot     -0.598066        0.044337     1.000000  0.203863  0.364393   \n",
       "C               -0.268470        0.035497     0.203863  1.000000  0.409503   \n",
       "Distance        -0.420884       -0.010305     0.364393  0.409503  1.000000   \n",
       "Angle            0.434222       -0.037990    -0.325161 -0.560243 -0.731449   \n",
       "out_swinging    -0.386791        0.061479     0.210303  0.078115  0.076738   \n",
       "in_swinging     -0.345535       -0.003512     0.228046  0.118946  0.233001   \n",
       "rebound         -0.012676       -0.011383    -0.006529 -0.033444 -0.070579   \n",
       "prev_cross       0.292080       -0.037122    -0.193032 -0.180259 -0.310263   \n",
       "prev_touch      -0.077211       -0.035346     0.034126 -0.019317  0.001958   \n",
       "prev_pass       -0.237697        0.027146     0.196487  0.055930  0.256073   \n",
       "prev_smart_pass -0.079124        0.065114     0.035226  0.032245 -0.108133   \n",
       "free_kick       -0.096596       -0.053325     0.152909  0.115369  0.249823   \n",
       "prev_duel        0.186475        0.016189    -0.178973  0.021693 -0.098185   \n",
       "\n",
       "                    Angle  out_swinging  in_swinging   rebound  prev_cross  \\\n",
       "X               -0.598556      0.047176     0.221877 -0.066814   -0.276912   \n",
       "Y                0.035022      0.153475    -0.162634  0.007240    0.008920   \n",
       "side_of_field   -0.032532     -0.182455     0.188335 -0.002913   -0.011845   \n",
       "left_foot       -0.129563      0.147327     0.072718  0.005759   -0.097221   \n",
       "right_foot      -0.191884      0.140855     0.181318  0.003739   -0.119583   \n",
       "header           0.434222     -0.386791    -0.345535 -0.012676    0.292080   \n",
       "counter_attack  -0.037990      0.061479    -0.003512 -0.011383   -0.037122   \n",
       "strong_foot     -0.325161      0.210303     0.228046 -0.006529   -0.193032   \n",
       "C               -0.560243      0.078115     0.118946 -0.033444   -0.180259   \n",
       "Distance        -0.731449      0.076738     0.233001 -0.070579   -0.310263   \n",
       "Angle            1.000000     -0.136599    -0.181945  0.080604    0.293379   \n",
       "out_swinging    -0.136599      1.000000    -0.731718  0.018318   -0.078296   \n",
       "in_swinging     -0.181945     -0.731718     1.000000 -0.009271   -0.136212   \n",
       "rebound          0.080604      0.018318    -0.009271  1.000000   -0.033548   \n",
       "prev_cross       0.293379     -0.078296    -0.136212 -0.033548    1.000000   \n",
       "prev_touch       0.011928      0.041925     0.014406 -0.023965   -0.099628   \n",
       "prev_pass       -0.189971      0.129500     0.043910 -0.052541   -0.218425   \n",
       "prev_smart_pass  0.007503      0.116629    -0.060199 -0.018500   -0.076910   \n",
       "free_kick       -0.158534     -0.074149     0.146852 -0.020378   -0.084716   \n",
       "prev_duel        0.028006     -0.160334     0.025327 -0.061989   -0.257703   \n",
       "\n",
       "                 prev_touch  prev_pass  prev_smart_pass  free_kick  prev_duel  \n",
       "X                  0.007502   0.262184        -0.133532   0.230940  -0.110923  \n",
       "Y                  0.012291   0.009052         0.018729  -0.013601  -0.026491  \n",
       "side_of_field     -0.001313  -0.008746        -0.017253   0.003323   0.021750  \n",
       "left_foot          0.025930   0.044312         0.008548   0.026241  -0.014214  \n",
       "right_foot         0.031395   0.130112         0.049154   0.045118  -0.121433  \n",
       "header            -0.077211  -0.237697        -0.079124  -0.096596   0.186475  \n",
       "counter_attack    -0.035346   0.027146         0.065114  -0.053325   0.016189  \n",
       "strong_foot        0.034126   0.196487         0.035226   0.152909  -0.178973  \n",
       "C                 -0.019317   0.055930         0.032245   0.115369   0.021693  \n",
       "Distance           0.001958   0.256073        -0.108133   0.249823  -0.098185  \n",
       "Angle              0.011928  -0.189971         0.007503  -0.158534   0.028006  \n",
       "out_swinging       0.041925   0.129500         0.116629  -0.074149  -0.160334  \n",
       "in_swinging        0.014406   0.043910        -0.060199   0.146852   0.025327  \n",
       "rebound           -0.023965  -0.052541        -0.018500  -0.020378  -0.061989  \n",
       "prev_cross        -0.099628  -0.218425        -0.076910  -0.084716  -0.257703  \n",
       "prev_touch         1.000000  -0.156034        -0.054942  -0.060518  -0.184093  \n",
       "prev_pass         -0.156034   1.000000        -0.120454  -0.132680  -0.403605  \n",
       "prev_smart_pass   -0.054942  -0.120454         1.000000  -0.046718  -0.142115  \n",
       "free_kick         -0.060518  -0.132680        -0.046718   1.000000  -0.156539  \n",
       "prev_duel         -0.184093  -0.403605        -0.142115  -0.156539   1.000000  "
      ]
     },
     "execution_count": 9,
     "metadata": {},
     "output_type": "execute_result"
    }
   ],
   "source": [
    "x_train.corr()"
   ]
  },
  {
   "cell_type": "markdown",
   "metadata": {},
   "source": [
    "This table might be a bit big and unwieldy, but we can pick out some variables that are insanely correlated: ``X/C``, ``Y/side of field``, ``left_foot``/``right_foot``, ``Distance/Angle``, and ``in_swinging/out_swinging``, ``Angle/X``. "
   ]
  },
  {
   "cell_type": "markdown",
   "metadata": {},
   "source": [
    "This makes sense, as all of these variables are derived from one another. For example ``in_swinging/outswinging`` are linear combinations  of ``right_foot``, ``left_foot`` and ``side_of_field``, while ``header``, ``left_foot`` and ``right_foot`` are also linear combinations of one another. In addition, ``Distance`` is directly derived from ``X`` and ``Y``, ``C`` is directly derived from ``Y``, and ``Angle`` is also derived from some of these variables. Thus, we must be really  careful when determining what features to remove to remove collinearity."
   ]
  },
  {
   "cell_type": "markdown",
   "metadata": {},
   "source": [
    "**To be honest, I am not sure if my following steps are correct, so please take this with a grain  of salt. However, this process will help illustrate some important points when we compare the pros/cons of logistic regression  to Random Forest**"
   ]
  },
  {
   "cell_type": "markdown",
   "metadata": {},
   "source": [
    "**If you have suggestions for a better process, please reach out to me on Twitter @andrew_puopolo or by email puopolo4@gmail.com**"
   ]
  },
  {
   "cell_type": "markdown",
   "metadata": {},
   "source": [
    "Anyways, looking at the output from the previous logistic regression, we can safely remove Y, left_foot (due to being linearly dependent on right_foot and header). We leave C in due to the fact that it was originally dependent  on ``Y`` and ``side of field``.  We will also drop  ``side of field`` as the effect from that has been covered by the features  ``in_swinging`` and ``out_swinging``"
   ]
  },
  {
   "cell_type": "code",
   "execution_count": 10,
   "metadata": {},
   "outputs": [],
   "source": [
    "second_x_train = x_train.drop(columns=['Y', 'side_of_field', 'left_foot','prev_touch', 'prev_pass'])\n",
    "second_x_test = x_test.drop(columns=['Y', 'side_of_field', 'left_foot','prev_touch', 'prev_pass'])"
   ]
  },
  {
   "cell_type": "code",
   "execution_count": 11,
   "metadata": {},
   "outputs": [
    {
     "name": "stdout",
     "output_type": "stream",
     "text": [
      "                 Generalized Linear Model Regression Results                  \n",
      "==============================================================================\n",
      "Dep. Variable:                   Goal   No. Observations:                36227\n",
      "Model:                            GLM   Df Residuals:                    36212\n",
      "Model Family:                Binomial   Df Model:                           14\n",
      "Link Function:                  logit   Scale:                          1.0000\n",
      "Method:                          IRLS   Log-Likelihood:                -10058.\n",
      "Date:                Fri, 15 May 2020   Deviance:                       20117.\n",
      "Time:                        00:06:01   Pearson chi2:                 6.95e+05\n",
      "No. Iterations:                     7                                         \n",
      "Covariance Type:            nonrobust                                         \n",
      "===================================================================================\n",
      "                      coef    std err          z      P>|z|      [0.025      0.975]\n",
      "-----------------------------------------------------------------------------------\n",
      "X                   0.0414      0.024      1.708      0.088      -0.006       0.089\n",
      "right_foot         -0.1374      0.048     -2.845      0.004      -0.232      -0.043\n",
      "header             -1.7785      0.149    -11.923      0.000      -2.071      -1.486\n",
      "counter_attack      0.5871      0.072      8.204      0.000       0.447       0.727\n",
      "strong_foot         0.1920      0.056      3.427      0.001       0.082       0.302\n",
      "C                   0.0022      0.008      0.260      0.795      -0.014       0.019\n",
      "Distance           -0.1508      0.027     -5.593      0.000      -0.204      -0.098\n",
      "Angle               1.4980      0.114     13.125      0.000       1.274       1.722\n",
      "out_swinging       -0.9786      0.147     -6.670      0.000      -1.266      -0.691\n",
      "in_swinging        -0.9997      0.150     -6.656      0.000      -1.294      -0.705\n",
      "rebound             0.1959      0.153      1.283      0.200      -0.103       0.495\n",
      "prev_cross         -0.2238      0.056     -3.963      0.000      -0.334      -0.113\n",
      "prev_smart_pass     0.3364      0.077      4.356      0.000       0.185       0.488\n",
      "free_kick           0.8222      0.114      7.192      0.000       0.598       1.046\n",
      "prev_duel          -0.2223      0.048     -4.620      0.000      -0.317      -0.128\n",
      "===================================================================================\n"
     ]
    }
   ],
   "source": [
    "second_logistic_regression= sm.GLM(endog=y_train,exog=second_x_train,data=shots_model, \n",
    "                                           family=sm.families.Binomial()).fit()\n",
    "print(second_logistic_regression.summary())"
   ]
  },
  {
   "cell_type": "code",
   "execution_count": 12,
   "metadata": {},
   "outputs": [
    {
     "name": "stdout",
     "output_type": "stream",
     "text": [
      "0.2801969161504281\n",
      "0.7831233842883496\n"
     ]
    }
   ],
   "source": [
    "y_hat = second_logistic_regression.predict(second_x_test)\n",
    "print(log_loss(y_test, y_hat))\n",
    "print(roc_auc_score(y_test, y_hat))"
   ]
  },
  {
   "cell_type": "markdown",
   "metadata": {},
   "source": [
    "Well that was cool! We reduced the complexity of our model while generating similar performance on a held out dataset. Now, we find that all features (except C) are statistically significant."
   ]
  },
  {
   "cell_type": "markdown",
   "metadata": {},
   "source": [
    "Now, we must consider interactions between variables. One of the main components of generalied linear models is that the  features  are assumed  to be linear on the  scale of the link function (in the case of logistic regression, that's the logit  scale). For example, our current model assumes that as the ball gets further from the goal, the impact (on the logit scale) scales in the same way. That's not a realistic assumption, so we need to hand craft some features in order to account for these interactions between various variables."
   ]
  },
  {
   "cell_type": "markdown",
   "metadata": {},
   "source": [
    "In addition, since Logistic Regression is often favored for being interpretable (more on that later), we will focus on constructing features that make sense for interpretataion, and attempt to isolate and quantify the effects of features"
   ]
  },
  {
   "cell_type": "markdown",
   "metadata": {},
   "source": [
    "In the following cells, we will construct some interaction variables for our models:"
   ]
  },
  {
   "cell_type": "code",
   "execution_count": 13,
   "metadata": {},
   "outputs": [],
   "source": [
    "third_x_train = second_x_train.drop(columns=['C', 'X'])\n",
    "third_x_test = second_x_test.drop(columns=['C', 'X'])"
   ]
  },
  {
   "cell_type": "code",
   "execution_count": 14,
   "metadata": {},
   "outputs": [],
   "source": [
    "third_x_train['header_distance'] = third_x_train['header']*third_x_train['Distance']\n",
    "third_x_train['strong_distance'] = third_x_train['strong_foot']*third_x_train['Distance']\n",
    "third_x_train['header_angle'] = third_x_train['header']*third_x_train['Angle']\n",
    "third_x_train['strong_angle'] = third_x_train['strong_foot']*third_x_train['Angle']\n",
    "third_x_train['in_swinging_angle'] = third_x_train['in_swinging']*third_x_train['Angle']\n",
    "third_x_train['out_swinging_angle'] = third_x_train['out_swinging']*third_x_train['Angle']\n",
    "third_x_train['free_kick_angle'] = third_x_train['free_kick']*third_x_train['Angle']\n",
    "third_x_train['distance_angle'] = third_x_train['Distance']*third_x_train['Angle']\n",
    "third_x_train['duel_header'] = third_x_train['prev_duel']*third_x_train['header']\n",
    "third_x_train['distance_squared'] = third_x_train['Distance']*third_x_train['Distance']\n",
    "third_x_train['strong_distance_squared'] = third_x_train['distance_squared']*third_x_train['strong_foot']"
   ]
  },
  {
   "cell_type": "code",
   "execution_count": 15,
   "metadata": {},
   "outputs": [],
   "source": [
    "third_x_test['header_distance'] = third_x_test['header']*third_x_test['Distance']\n",
    "third_x_test['strong_distance'] = third_x_test['strong_foot']*third_x_test['Distance']\n",
    "third_x_test['header_angle'] = third_x_test['header']*third_x_test['Angle']\n",
    "third_x_test['strong_angle'] = third_x_test['strong_foot']*third_x_test['Angle']\n",
    "third_x_test['in_swinging_angle'] = third_x_test['in_swinging']*third_x_test['Angle']\n",
    "third_x_test['out_swinging_angle'] = third_x_test['out_swinging']*third_x_test['Angle']\n",
    "third_x_test['free_kick_angle'] = third_x_test['free_kick']*third_x_test['Angle']\n",
    "third_x_test['distance_angle'] = third_x_test['Distance']*third_x_test['Angle']\n",
    "third_x_test['duel_header'] = third_x_test['prev_duel']*third_x_test['header']\n",
    "third_x_test['distance_squared'] = third_x_test['Distance']*third_x_test['Distance']\n",
    "third_x_test['strong_distance_squared'] = third_x_test['distance_squared']*third_x_test['strong_foot']"
   ]
  },
  {
   "cell_type": "code",
   "execution_count": 16,
   "metadata": {},
   "outputs": [
    {
     "name": "stdout",
     "output_type": "stream",
     "text": [
      "                 Generalized Linear Model Regression Results                  \n",
      "==============================================================================\n",
      "Dep. Variable:                   Goal   No. Observations:                36227\n",
      "Model:                            GLM   Df Residuals:                    36204\n",
      "Model Family:                Binomial   Df Model:                           22\n",
      "Link Function:                  logit   Scale:                          1.0000\n",
      "Method:                          IRLS   Log-Likelihood:                -9995.0\n",
      "Date:                Fri, 15 May 2020   Deviance:                       19990.\n",
      "Time:                        00:06:02   Pearson chi2:                 3.68e+04\n",
      "No. Iterations:                     7                                         \n",
      "Covariance Type:            nonrobust                                         \n",
      "===========================================================================================\n",
      "                              coef    std err          z      P>|z|      [0.025      0.975]\n",
      "-------------------------------------------------------------------------------------------\n",
      "right_foot                 -0.1411      0.048     -2.912      0.004      -0.236      -0.046\n",
      "header                     -0.7065      0.394     -1.793      0.073      -1.479       0.066\n",
      "counter_attack              0.5858      0.072      8.143      0.000       0.445       0.727\n",
      "strong_foot                -0.5645      0.350     -1.615      0.106      -1.250       0.121\n",
      "Distance                   -0.2457      0.018    -13.787      0.000      -0.281      -0.211\n",
      "Angle                       0.4769      0.143      3.333      0.001       0.196       0.757\n",
      "out_swinging               -0.1359      0.301     -0.452      0.652      -0.726       0.454\n",
      "in_swinging                -0.1097      0.310     -0.353      0.724      -0.718       0.499\n",
      "rebound                     0.1420      0.153      0.927      0.354      -0.158       0.442\n",
      "prev_cross                 -0.3469      0.059     -5.872      0.000      -0.463      -0.231\n",
      "prev_smart_pass             0.3500      0.078      4.500      0.000       0.198       0.502\n",
      "free_kick                   1.4673      0.399      3.682      0.000       0.686       2.248\n",
      "prev_duel                  -0.0901      0.052     -1.722      0.085      -0.193       0.012\n",
      "header_distance            -0.0030      0.020     -0.152      0.879      -0.042       0.036\n",
      "strong_distance             0.0491      0.020      2.481      0.013       0.010       0.088\n",
      "header_angle                0.1762      0.180      0.979      0.328      -0.177       0.529\n",
      "strong_angle                0.4438      0.264      1.684      0.092      -0.073       0.960\n",
      "in_swinging_angle           0.0944      0.138      0.684      0.494      -0.176       0.365\n",
      "out_swinging_angle          0.2063      0.130      1.585      0.113      -0.049       0.461\n",
      "free_kick_angle            -2.3825      1.464     -1.627      0.104      -5.252       0.487\n",
      "distance_angle              0.1359      0.022      6.159      0.000       0.093       0.179\n",
      "duel_header                -0.6014      0.103     -5.827      0.000      -0.804      -0.399\n",
      "distance_squared            0.0024      0.000      9.559      0.000       0.002       0.003\n",
      "strong_distance_squared    -0.0006      0.000     -2.170      0.030      -0.001   -5.99e-05\n",
      "===========================================================================================\n"
     ]
    }
   ],
   "source": [
    "third_logistic_regression= sm.GLM(endog=y_train,exog=third_x_train,data=shots_model, \n",
    "                                  family=sm.families.Binomial()).fit()\n",
    "print(third_logistic_regression.summary())"
   ]
  },
  {
   "cell_type": "markdown",
   "metadata": {},
   "source": [
    "Well, we find that most of our variables are significant, but our prior of header distance didn't work,  so let's remove that from the  model"
   ]
  },
  {
   "cell_type": "markdown",
   "metadata": {},
   "source": [
    "The models we remove here come after playing around quite a bit with our model and seeing how it performs out of sample. We decided to remove both in swinging andout swinging because the coefficients above were almost identical,  which likely meant there some multicollinearity  at play"
   ]
  },
  {
   "cell_type": "markdown",
   "metadata": {},
   "source": [
    "Note: Other interactions were tried but found to be insignificant, so they were left out of this part of the analysis"
   ]
  },
  {
   "cell_type": "code",
   "execution_count": 17,
   "metadata": {},
   "outputs": [],
   "source": [
    "fourth_x_train = third_x_train.drop(columns=['header_distance', 'rebound', 'in_swinging', \n",
    "                                             'out_swinging', 'in_swinging_angle',\n",
    "                                             'out_swinging_angle', 'header_angle'])\n",
    "\n",
    "fourth_x_test = third_x_test.drop(columns=['header_distance', 'rebound', 'in_swinging', \n",
    "                                           'out_swinging', 'in_swinging_angle', \n",
    "                                           'out_swinging_angle', 'header_angle'])"
   ]
  },
  {
   "cell_type": "code",
   "execution_count": 18,
   "metadata": {},
   "outputs": [
    {
     "name": "stdout",
     "output_type": "stream",
     "text": [
      "                 Generalized Linear Model Regression Results                  \n",
      "==============================================================================\n",
      "Dep. Variable:                   Goal   No. Observations:                36227\n",
      "Model:                            GLM   Df Residuals:                    36210\n",
      "Model Family:                Binomial   Df Model:                           16\n",
      "Link Function:                  logit   Scale:                          1.0000\n",
      "Method:                          IRLS   Log-Likelihood:                -9996.1\n",
      "Date:                Fri, 15 May 2020   Deviance:                       19992.\n",
      "Time:                        00:06:02   Pearson chi2:                 3.69e+04\n",
      "No. Iterations:                     7                                         \n",
      "Covariance Type:            nonrobust                                         \n",
      "===========================================================================================\n",
      "                              coef    std err          z      P>|z|      [0.025      0.975]\n",
      "-------------------------------------------------------------------------------------------\n",
      "right_foot                 -0.1414      0.048     -2.920      0.004      -0.236      -0.046\n",
      "header                     -0.6097      0.081     -7.538      0.000      -0.768      -0.451\n",
      "counter_attack              0.5855      0.072      8.148      0.000       0.445       0.726\n",
      "strong_foot                -0.6623      0.198     -3.337      0.001      -1.051      -0.273\n",
      "Distance                   -0.2519      0.009    -27.288      0.000      -0.270      -0.234\n",
      "Angle                       0.5975      0.102      5.850      0.000       0.397       0.798\n",
      "prev_cross                 -0.3564      0.058     -6.133      0.000      -0.470      -0.242\n",
      "prev_smart_pass             0.3436      0.077      4.457      0.000       0.192       0.495\n",
      "free_kick                   1.4674      0.396      3.705      0.000       0.691       2.244\n",
      "prev_duel                  -0.0983      0.052     -1.905      0.057      -0.199       0.003\n",
      "strong_distance             0.0551      0.012      4.561      0.000       0.031       0.079\n",
      "strong_angle                0.4853      0.165      2.939      0.003       0.162       0.809\n",
      "free_kick_angle            -2.3901      1.459     -1.638      0.101      -5.250       0.470\n",
      "distance_angle              0.1328      0.021      6.251      0.000       0.091       0.174\n",
      "duel_header                -0.6012      0.103     -5.844      0.000      -0.803      -0.400\n",
      "distance_squared            0.0024      0.000     16.096      0.000       0.002       0.003\n",
      "strong_distance_squared    -0.0007      0.000     -3.266      0.001      -0.001      -0.000\n",
      "===========================================================================================\n"
     ]
    }
   ],
   "source": [
    "fourth_logistic_regression= sm.GLM(endog=y_train,exog=fourth_x_train,data=shots_model, \n",
    "                                           family=sm.families.Binomial()).fit()\n",
    "print(fourth_logistic_regression.summary())"
   ]
  },
  {
   "cell_type": "code",
   "execution_count": 19,
   "metadata": {},
   "outputs": [
    {
     "name": "stdout",
     "output_type": "stream",
     "text": [
      "0.2780954566668553\n",
      "0.786953668742806\n"
     ]
    }
   ],
   "source": [
    "y_hat = fourth_logistic_regression.predict(fourth_x_test)\n",
    "print(log_loss(y_test, y_hat))\n",
    "print(roc_auc_score(y_test, y_hat))"
   ]
  },
  {
   "cell_type": "markdown",
   "metadata": {},
   "source": [
    "And that's it for our Logistic regression model!"
   ]
  },
  {
   "cell_type": "markdown",
   "metadata": {},
   "source": [
    "Even if you read through all of this, I would still recommend reading @CleKraus' notebook on building a logistic regression, as that notebook is more complete and stresses different points of emphasis to this one, as well as doing a more thorough model evaluation process."
   ]
  },
  {
   "cell_type": "markdown",
   "metadata": {},
   "source": [
    "### Comparing  Logistic Regression  and Random Forest"
   ]
  },
  {
   "cell_type": "markdown",
   "metadata": {},
   "source": [
    "Now that we've gone through the process of comparing our logistic regression and Random Forest, it's time to compare the two models against each other. We will use the lessons leaarned from the first 2 notebooks to help guide this section"
   ]
  },
  {
   "cell_type": "markdown",
   "metadata": {},
   "source": [
    "#### Logistic Regression:"
   ]
  },
  {
   "cell_type": "markdown",
   "metadata": {},
   "source": [
    "<b> Pros: </b> <br> <br>\n",
    "1.) Super fast to run <br>\n",
    "2.) Easy to mathematically quanatify the impact that each feature has on the model <br>\n",
    "3.) Easier to identify which features matter <br>\n",
    "4.) Less prone to overfitting, and generally requires less data  <br>\n",
    "5.) Extrapolates well to data that  is outside the bounds of the training test"
   ]
  },
  {
   "cell_type": "markdown",
   "metadata": {},
   "source": [
    "<b> Cons: </b> <br> <br>\n",
    "1.) Assumes that features are linearly correlated (on the logit scale). <br>\n",
    "2.) Lots of effort into feature engineering required. Must hand calculate features and sometimes unclear what the correct decision is. <br>\n",
    "3.) Model coefficients can be uninterpretabale/misleading if multicollinearity present <br>\n",
    "4.) Sensitive to outliers"
   ]
  },
  {
   "cell_type": "markdown",
   "metadata": {},
   "source": [
    "#### Random Forest"
   ]
  },
  {
   "cell_type": "markdown",
   "metadata": {},
   "source": [
    "<b> Pros: </b> <br> <br>\n",
    "1.) Able to easily handle nonlinear interacations between variables, and better handles nonlinear decision surfaces <br>\n",
    "2.) Often has superior predictive performance with a large sample size<br>\n",
    "3.) Algorithm determines which features are important more easily  <br>\n",
    "4.) Less human input required to generate features <br>\n",
    "5.) Easier to handle categorical features <br>"
   ]
  },
  {
   "cell_type": "markdown",
   "metadata": {},
   "source": [
    "<b> Cons: </b> <br> <br>\n",
    "1.) Slow to tune optimal hyperparameters <br>\n",
    "2.) More prone to overfitting <br>\n",
    "3.) Due to decision tree nature, outliers in training set can lead to unintuitive decision surfaces (more on this in Notebook 4!).  <br>\n",
    "4.) Much more difficult to interpret impact of features on model output as well as the overall result (more on this in future Notebooks!) <br>\n",
    "5.) Does not extrapolate well to data that it outside the bounds of the training set\n"
   ]
  },
  {
   "cell_type": "markdown",
   "metadata": {},
   "source": [
    "### Comparing Random Forest And Logistic Regression  Based on Previously Used Metrics"
   ]
  },
  {
   "cell_type": "code",
   "execution_count": 20,
   "metadata": {},
   "outputs": [],
   "source": [
    "rf_model = RandomForestClassifier(n_estimators=500,\n",
    "                                  min_samples_split= 300,\n",
    "                                  min_samples_leaf= 1,\n",
    "                                  max_features= 8,\n",
    "                                  max_depth= 8,\n",
    "                                  criterion= 'gini',\n",
    "                                  n_jobs=-1).fit(x_train, y_train)\n",
    "\n",
    "rf_y_hat=rf_model.predict_proba(x_test)"
   ]
  },
  {
   "cell_type": "code",
   "execution_count": 21,
   "metadata": {},
   "outputs": [
    {
     "name": "stdout",
     "output_type": "stream",
     "text": [
      "The log loss of the Random Forest model on the test set is: 0.2781\n",
      "The ROC-AUC of score the Random Forest Model on the test set is: 0.7867\n"
     ]
    }
   ],
   "source": [
    "print(\"The log loss of the Random Forest model on the test set is: \" \\\n",
    "      +str(round(log_loss(y_test, rf_y_hat[:,-1]), 4)))\n",
    "print(\"The ROC-AUC of score the Random Forest Model on the test set is: \" \\\n",
    "      + str(round(roc_auc_score(y_test, rf_y_hat[:,-1]), 4)))"
   ]
  },
  {
   "cell_type": "markdown",
   "metadata": {},
   "source": [
    "Let's bring the code from the last logistic regression  down"
   ]
  },
  {
   "cell_type": "code",
   "execution_count": 22,
   "metadata": {},
   "outputs": [
    {
     "name": "stdout",
     "output_type": "stream",
     "text": [
      "The log loss of the Logistic Regression model on the test set is: 0.2781\n",
      "The ROC-AUC of the Logistic Regression model on the test set is: 0.787\n"
     ]
    }
   ],
   "source": [
    "logistic_y_hat = fourth_logistic_regression.predict(fourth_x_test)\n",
    "print(\"The log loss of the Logistic Regression model on the test set is: \" + \\\n",
    "      str(round(log_loss(y_test, logistic_y_hat), 4)))\n",
    "print(\"The ROC-AUC of the Logistic Regression model on the test set is: \" + \\\n",
    "      str(round(roc_auc_score(y_test, logistic_y_hat), 4)))"
   ]
  },
  {
   "cell_type": "markdown",
   "metadata": {},
   "source": [
    "These metrics are almost identical, with a slight edge to the Random Forest."
   ]
  },
  {
   "cell_type": "markdown",
   "metadata": {},
   "source": [
    "Let's also look at the ROC-AUC curves:"
   ]
  },
  {
   "cell_type": "code",
   "execution_count": 23,
   "metadata": {},
   "outputs": [],
   "source": [
    "rf_fpr, rf_tpr, rf_thresholds = roc_curve(y_true=y_test, y_score=rf_y_hat[:,-1])\n",
    "logreg_fpr, logreg_tpr, logreg_thresholds = roc_curve(y_true=y_test, y_score=logistic_y_hat)"
   ]
  },
  {
   "cell_type": "code",
   "execution_count": 24,
   "metadata": {},
   "outputs": [
    {
     "data": {
      "image/png": "[encoded data removed]",
      "text/plain": [
       "<Figure size 432x288 with 1 Axes>"
      ]
     },
     "metadata": {
      "needs_background": "light"
     },
     "output_type": "display_data"
    }
   ],
   "source": [
    "plt.plot(rf_fpr, rf_tpr, label='Random Forest ROC AUC')\n",
    "plt.plot(logreg_fpr, logreg_tpr, label='Logistic Regression ROC AUC')\n",
    "plt.plot([0, 1], [0, 1], color = 'black', linewidth = 2, linestyle = '--')\n",
    "plt.xlabel('False Positive Rate')\n",
    "plt.ylabel('True Positive Rate')\n",
    "plt.legend()\n",
    "plt.title('ROC AUC Curve For Logistic Regression vs Random Forest')\n",
    "plt.show()"
   ]
  },
  {
   "cell_type": "markdown",
   "metadata": {},
   "source": [
    "These curves are basically right on top of each other."
   ]
  },
  {
   "cell_type": "markdown",
   "metadata": {},
   "source": [
    "### Why Solely Using Data Science Loss Metrics To Evaluate/Choose A Model Is Insufficient and  Problematic"
   ]
  },
  {
   "cell_type": "markdown",
   "metadata": {},
   "source": [
    "After looking at the above comparison between the two models, one could resaonably come to one of the following two conclusions for model selection:"
   ]
  },
  {
   "cell_type": "markdown",
   "metadata": {},
   "source": [
    "#### Potential Takeaway 1: The Random Forest has better  log-loss  and ROC-AUC on a held out dataset, therefore we should pick the Random Forest"
   ]
  },
  {
   "cell_type": "markdown",
   "metadata": {},
   "source": [
    "#### Potential Takeaway 2: The results are basically the same, so let's pick the Logistic Regresion because it's simpler and trains much  faster, and  the features are more interpretable"
   ]
  },
  {
   "cell_type": "markdown",
   "metadata": {},
   "source": [
    "Let's think a bit more about  this:"
   ]
  },
  {
   "cell_type": "markdown",
   "metadata": {},
   "source": [
    "In the April 9th weekly Friends of Tracking series video, Laurie Shaw asked Liverpool data scientist Will Spearman what it means to \"improve a model\" and Will replied <b>\"I think the data scientist answer is your log loss goes down but I would almost never give that answer.\" \"We don't care about log-loss, we care about calibration and we care about the football interpretability of your results\"  </b>"
   ]
  },
  {
   "cell_type": "markdown",
   "metadata": {},
   "source": [
    "Link to video: https://www.youtube.com/watch?v=kHTq9cwdkGA&t=2707s (clip at around 56 minutes)"
   ]
  },
  {
   "cell_type": "markdown",
   "metadata": {},
   "source": [
    "Most machine learning models measure some sort of objective function, which is a mathematical output generated by the predictions and the true label. In the models we've fit so far, the objective function is the log-loss, and the model \"learns\" to optimize this quantity across all datapoints. The techniques we employed in the first two notebooks help us determine if the model is able to generalize to new data, and acheieve a satisfactory \"score\"  for this objective function on a held out data set."
   ]
  },
  {
   "cell_type": "markdown",
   "metadata": {},
   "source": [
    "Oftentimes optimizing an objective function is correlated but not directly related to what you hope to acheive with a model. Since we are optimizing an average quantity across a dataset, this could mean that the model is perfect in 99% of cases, but in 1% of cases is wildly off, which in theory could still optimize the global metric across all the datapoints."
   ]
  },
  {
   "cell_type": "markdown",
   "metadata": {},
   "source": [
    "As a data scientist in any industry, it is important to understand what the end goal of your work is (hint: unless it's Kaggle it's usually not optimizing log loss), and to develop tools and/or metrics to ensure successful delivery  and communication of key results"
   ]
  },
  {
   "cell_type": "markdown",
   "metadata": {},
   "source": [
    "As a soccer data scientist, your end goal is often to communicate key findings efficiently and effectively to a coach or player. Therefore, you need to be confident that your findings are accurate before presenting them. As Will Spearman said in the video linked above, \"you need to understand the ins and outs of your model, and understand where that model breaks down in  order to improve it.\""
   ]
  },
  {
   "cell_type": "markdown",
   "metadata": {},
   "source": [
    "Thus, you need to make sure that the specific output you are presenting is accurate/believable, otherwise you will lose credibility with the coach or player in the future."
   ]
  },
  {
   "cell_type": "markdown",
   "metadata": {},
   "source": [
    "To date, we have yet to build out anything that tests how accurate and understandable our models are. Therefore, we have no real way of knowing if the Random Forest or Logistic Regression is a better model for expected goals, despite employing quite a few sophisticated and well known data science techniques to build these models."
   ]
  },
  {
   "cell_type": "markdown",
   "metadata": {},
   "source": [
    "The purpose of the first 2 notebooks was to examine the strengths and weaknesses of these two model classes when trying to predict expected goals, which  will help  inform  us  when we test these models. In addition, the  notebooks help illustrate why traditional data science techniques are necessary but not sufficient to building an effective expected goals model."
   ]
  },
  {
   "cell_type": "markdown",
   "metadata": {},
   "source": [
    "In the rest of the series, we will focus on building tools to test and calibrate our models, and use these tools to find places where our model could be useful in presenting to a player or coach."
   ]
  }
 ],
 "metadata": {
  "kernelspec": {
   "display_name": "Python 3",
   "language": "python",
   "name": "python3"
  },
  "language_info": {
   "codemirror_mode": {
    "name": "ipython",
    "version": 3
   },
   "file_extension": ".py",
   "mimetype": "text/x-python",
   "name": "python",
   "nbconvert_exporter": "python",
   "pygments_lexer": "ipython3",
   "version": "3.7.6"
  }
 },
 "nbformat": 4,
 "nbformat_minor": 4
}
