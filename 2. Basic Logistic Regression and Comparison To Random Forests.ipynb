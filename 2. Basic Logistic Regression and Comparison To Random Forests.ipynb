{
 "cells": [
  {
   "cell_type": "markdown",
   "metadata": {},
   "source": [
    "##  Notebook 2: Building a Logistic Regression Model, Comparing Its Pros/Cons To Random Forests, And Why Using Traditional Data Sceince Tools Is Insufficient For Assessing Expected Goals Models"
   ]
  },
  {
   "cell_type": "markdown",
   "metadata": {},
   "source": [
    "Welcome to the 2nd notebook of my expected goals series! In this series, we will take a look at building a logistic regression model, with an emphasis on comparing strengths/weaknesses and paint points to a Random Forest. At the end, we will take a look at why the methodologies used in the first two notebooks are not sufficient to building a strong expected goals model, and preview what will come in the rest of the series."
   ]
  },
  {
   "cell_type": "markdown",
   "metadata": {},
   "source": [
    "For those that missed the 1st notebook, feel free to check it out  here: https://github.com/andrewsimplebet/expected_goals_deep_dive/blob/master/1.%20Random%20Forest%20Cross%20Validation%20And%20Hyperparameter%20Tuning.ipynb"
   ]
  },
  {
   "cell_type": "markdown",
   "metadata": {},
   "source": [
    "This notebook will not go nearly as in depth on building a strong logistic regression as @CleKraus, who touches on a lot of really important concepts when it comes to building a logistic regression model for expected goals. I will  mention a couple of these concepts during our abbreviated selection, but the process that @CleKraus went through will help inform some of the comparisons with the Random Forest built in Notebook 1"
   ]
  },
  {
   "cell_type": "markdown",
   "metadata": {},
   "source": [
    "@CleKraus' notebook: https://github.com/CleKraus/soccer_analytics/blob/master/notebooks/expected_goal_model_lr.ipynb"
   ]
  },
  {
   "cell_type": "markdown",
   "metadata": {},
   "source": [
    "Let's start by loading in our data, and performing the same train/test split that we did in the Random Forest model"
   ]
  },
  {
   "cell_type": "code",
   "execution_count": 1,
   "metadata": {},
   "outputs": [],
   "source": [
    "import pandas as pd\n",
    "import matplotlib.pyplot as plt\n",
    "from sklearn.model_selection import train_test_split\n",
    "from sklearn.metrics import log_loss, roc_auc_score, roc_curve\n",
    "from sklearn.ensemble import RandomForestClassifier\n",
    "from sklearn.linear_model import LogisticRegression\n",
    "import statsmodels.api as sm\n",
    "import statsmodels.formula.api as smf"
   ]
  },
  {
   "cell_type": "code",
   "execution_count": 2,
   "metadata": {},
   "outputs": [],
   "source": [
    "shots_model = pd.read_csv('shots_design_matrix.csv')\n",
    "shots_model = shots_model.drop(columns=['Unnamed: 0'])\n",
    "y = shots_model['Goal']\n",
    "x = shots_model.drop(['Goal'], axis=1)\n",
    "x_train, x_test, y_train, y_test = train_test_split(x, y, test_size=0.2, random_state=42)"
   ]
  },
  {
   "cell_type": "markdown",
   "metadata": {},
   "source": [
    "### Building a Logistic Regression Model For Expected Goals"
   ]
  },
  {
   "cell_type": "markdown",
   "metadata": {},
   "source": [
    "For our initial Logistic Regression model, we will use the StatsModels implementation of Logistic Regression, as David does in his #FoT videos (https://www.youtube.com/channel/UCUBFJYcag8j2rm_9HkrrA7w/videos). We choose StatsModels initially because it provides nice outputs of p values associated with each feature, which aids in feature selection"
   ]
  },
  {
   "cell_type": "markdown",
   "metadata": {},
   "source": [
    "Like we did for our Random Forest, let's fit a naive Logistic Regression model without playing with any parameters or features, to see how it performs:"
   ]
  },
  {
   "cell_type": "code",
   "execution_count": 3,
   "metadata": {},
   "outputs": [],
   "source": [
    "initial_logistic_regression = sm.GLM(endog=y_train,exog=x_train,data=shots_model, \n",
    "                                           family=sm.families.Binomial()).fit()\n"
   ]
  },
  {
   "cell_type": "markdown",
   "metadata": {},
   "source": [
    "Like like we did with the Random Forest, let's look at its train/test performance"
   ]
  },
  {
   "cell_type": "code",
   "execution_count": 4,
   "metadata": {},
   "outputs": [
    {
     "name": "stdout",
     "output_type": "stream",
     "text": [
      "The log loss of our model on the training set is : 0.2784\n",
      "The ROC AUC of our model on the training set is : 0.78\n"
     ]
    }
   ],
   "source": [
    "train_y_hat = initial_logistic_regression.predict(x_train)\n",
    "naive_train_log_loss = log_loss(y_train, train_y_hat)\n",
    "naive_train_roc_auc = roc_auc_score(y_train, train_y_hat)\n",
    "print('The log loss of our model on the training set is : ' +str(round(naive_train_log_loss, 4)))\n",
    "print('The ROC AUC of our model on the training set is : ' +str(round(naive_train_roc_auc, 3)))"
   ]
  },
  {
   "cell_type": "code",
   "execution_count": 5,
   "metadata": {},
   "outputs": [
    {
     "name": "stdout",
     "output_type": "stream",
     "text": [
      "The log loss of our model on the test set is : 0.2806\n",
      "The ROC AUC of our model on the test set is : 0.777\n"
     ]
    }
   ],
   "source": [
    "test_y_hat = initial_logistic_regression.predict(x_test)\n",
    "naive_test_log_loss = log_loss(y_test, test_y_hat)\n",
    "naive_test_roc_auc = roc_auc_score(y_test, test_y_hat)\n",
    "print('The log loss of our model on the test set is : ' +str(round(naive_test_log_loss, 4)))\n",
    "print('The ROC AUC of our model on the test set is : ' +str(round(naive_test_roc_auc, 3)))"
   ]
  },
  {
   "cell_type": "code",
   "execution_count": 6,
   "metadata": {},
   "outputs": [],
   "source": [
    "train_fpr, train_tpr, train_thresholds = roc_curve(y_true=y_train, y_score=train_y_hat)\n",
    "test_fpr, test_tpr, test_thresholds = roc_curve(y_true=y_test, y_score=test_y_hat)"
   ]
  },
  {
   "cell_type": "code",
   "execution_count": 7,
   "metadata": {},
   "outputs": [
    {
     "data": {
      "image/png": "[encoded data removed]",
      "text/plain": [
       "<Figure size 432x288 with 1 Axes>"
      ]
     },
     "metadata": {
      "needs_background": "light"
     },
     "output_type": "display_data"
    }
   ],
   "source": [
    "plt.plot(train_fpr, train_tpr, label = 'Train ROC AUC')\n",
    "plt.plot(test_fpr, test_tpr, label = 'Test ROC AUC')\n",
    "plt.plot([0, 1], [0, 1], color = 'black', linewidth = 2, linestyle = '--')\n",
    "plt.xlabel('False Positive Rate')\n",
    "plt.ylabel('True Positive Rate')\n",
    "plt.legend()\n",
    "plt.title('ROC AUC Curve For Naive Logistic Regression Model On Train vs Test Set')\n",
    "plt.show()"
   ]
  },
  {
   "cell_type": "markdown",
   "metadata": {},
   "source": [
    "This is awesome! We find that the training and testing metrics are not far off from one another, so we are not running the risk of overfitting to our training set. In addition, we find that the loss metrics out of sample are very close to the loss metrics produced by the Random Forest model in Notebook 1."
   ]
  },
  {
   "cell_type": "markdown",
   "metadata": {},
   "source": [
    "One of the advantages of logistic regression is that it's very easy to tell which features are important. To do this, we can simply look at the p values provided by the model However, we must be incredibly careful to consider the assumptions that underlie these p values"
   ]
  },
  {
   "cell_type": "code",
   "execution_count": 8,
   "metadata": {},
   "outputs": [
    {
     "name": "stdout",
     "output_type": "stream",
     "text": [
      "                 Generalized Linear Model Regression Results                  \n",
      "==============================================================================\n",
      "Dep. Variable:                   Goal   No. Observations:                36227\n",
      "Model:                            GLM   Df Residuals:                    36208\n",
      "Model Family:                Binomial   Df Model:                           18\n",
      "Link Function:                  logit   Scale:                          1.0000\n",
      "Method:                          IRLS   Log-Likelihood:                -10085.\n",
      "Date:                Wed, 13 May 2020   Deviance:                       20169.\n",
      "Time:                        02:21:37   Pearson chi2:                 5.40e+05\n",
      "No. Iterations:                     7                                         \n",
      "Covariance Type:            nonrobust                                         \n",
      "===================================================================================\n",
      "                      coef    std err          z      P>|z|      [0.025      0.975]\n",
      "-----------------------------------------------------------------------------------\n",
      "X                   0.0509      0.025      2.067      0.039       0.003       0.099\n",
      "Y                   0.0004      0.003      0.140      0.889      -0.005       0.006\n",
      "side_of_field       0.0705      0.064      1.106      0.269      -0.054       0.195\n",
      "left_foot          -0.5899      0.116     -5.070      0.000      -0.818      -0.362\n",
      "right_foot         -0.7245      0.120     -6.060      0.000      -0.959      -0.490\n",
      "header             -2.1028      0.231     -9.107      0.000      -2.555      -1.650\n",
      "counter_attack      0.6569      0.071      9.223      0.000       0.517       0.796\n",
      "strong_foot         0.1959      0.056      3.503      0.000       0.086       0.306\n",
      "C                   0.0062      0.009      0.724      0.469      -0.011       0.023\n",
      "Distance           -0.1583      0.027     -5.800      0.000      -0.212      -0.105\n",
      "Angle               1.5510      0.114     13.577      0.000       1.327       1.775\n",
      "out_swinging       -0.6232      0.116     -5.363      0.000      -0.851      -0.395\n",
      "in_swinging        -0.6912      0.119     -5.819      0.000      -0.924      -0.458\n",
      "rebound             0.3371      0.108      3.109      0.002       0.125       0.550\n",
      "prev_cross          0.0272      0.122      0.224      0.823      -0.211       0.265\n",
      "prev_touch          0.2351      0.107      2.193      0.028       0.025       0.445\n",
      "prev_pass           0.0838      0.060      1.400      0.162      -0.034       0.201\n",
      "prev_smart_pass     0.3305      0.145      2.283      0.022       0.047       0.614\n",
      "free_kick           0.9658      0.112      8.612      0.000       0.746       1.186\n",
      "prev_duel          -0.0254      0.060     -0.421      0.674      -0.144       0.093\n",
      "===================================================================================\n"
     ]
    }
   ],
   "source": [
    "print(initial_logistic_regression.summary())"
   ]
  },
  {
   "cell_type": "markdown",
   "metadata": {},
   "source": [
    "From this we can see that almost all of our variables are statistically significant. The 6 variables that aren't significant (at least by the naive p value test) are Y, side of field, C, prev_cross, prev_pass and prev_duel. These aren't quite the same as the Random Forest, but there's a bit of overlap. However, let's look a little deeper"
   ]
  },
  {
   "cell_type": "markdown",
   "metadata": {},
   "source": [
    "One of the major assumptions of logistic regression is that the features are independent of each other. In this model,  that isn't quite the case. First, let's take a look at the pairwise correlations between variables"
   ]
  },
  {
   "cell_type": "code",
   "execution_count": 9,
   "metadata": {},
   "outputs": [
    {
     "data": {
      "text/html": [
       "<div>\n",
       "<style scoped>\n",
       "    .dataframe tbody tr th:only-of-type {\n",
       "        vertical-align: middle;\n",
       "    }\n",
       "\n",
       "    .dataframe tbody tr th {\n",
       "        vertical-align: top;\n",
       "    }\n",
       "\n",
       "    .dataframe thead th {\n",
       "        text-align: right;\n",
       "    }\n",
       "</style>\n",
       "<table border=\"1\" class=\"dataframe\">\n",
       "  <thead>\n",
       "    <tr style=\"text-align: right;\">\n",
       "      <th></th>\n",
       "      <th>X</th>\n",
       "      <th>Y</th>\n",
       "      <th>side_of_field</th>\n",
       "      <th>left_foot</th>\n",
       "      <th>right_foot</th>\n",
       "      <th>header</th>\n",
       "      <th>counter_attack</th>\n",
       "      <th>strong_foot</th>\n",
       "      <th>C</th>\n",
       "      <th>Distance</th>\n",
       "      <th>Angle</th>\n",
       "      <th>out_swinging</th>\n",
       "      <th>in_swinging</th>\n",
       "      <th>rebound</th>\n",
       "      <th>prev_cross</th>\n",
       "      <th>prev_touch</th>\n",
       "      <th>prev_pass</th>\n",
       "      <th>prev_smart_pass</th>\n",
       "      <th>free_kick</th>\n",
       "      <th>prev_duel</th>\n",
       "    </tr>\n",
       "  </thead>\n",
       "  <tbody>\n",
       "    <tr>\n",
       "      <th>X</th>\n",
       "      <td>1.000000</td>\n",
       "      <td>-0.010241</td>\n",
       "      <td>0.002305</td>\n",
       "      <td>0.087108</td>\n",
       "      <td>0.182935</td>\n",
       "      <td>-0.365471</td>\n",
       "      <td>-0.022892</td>\n",
       "      <td>0.325759</td>\n",
       "      <td>0.149810</td>\n",
       "      <td>0.955117</td>\n",
       "      <td>-0.600353</td>\n",
       "      <td>0.048599</td>\n",
       "      <td>0.221427</td>\n",
       "      <td>-0.048486</td>\n",
       "      <td>0.014580</td>\n",
       "      <td>0.046853</td>\n",
       "      <td>0.096256</td>\n",
       "      <td>0.012697</td>\n",
       "      <td>0.228979</td>\n",
       "      <td>-0.118179</td>\n",
       "    </tr>\n",
       "    <tr>\n",
       "      <th>Y</th>\n",
       "      <td>-0.010241</td>\n",
       "      <td>1.000000</td>\n",
       "      <td>-0.828937</td>\n",
       "      <td>-0.055578</td>\n",
       "      <td>0.044470</td>\n",
       "      <td>0.010815</td>\n",
       "      <td>-0.000778</td>\n",
       "      <td>0.024581</td>\n",
       "      <td>-0.075965</td>\n",
       "      <td>-0.031066</td>\n",
       "      <td>0.035209</td>\n",
       "      <td>0.156380</td>\n",
       "      <td>-0.167178</td>\n",
       "      <td>0.002418</td>\n",
       "      <td>0.013620</td>\n",
       "      <td>0.000718</td>\n",
       "      <td>0.007298</td>\n",
       "      <td>0.002510</td>\n",
       "      <td>-0.008027</td>\n",
       "      <td>-0.020901</td>\n",
       "    </tr>\n",
       "    <tr>\n",
       "      <th>side_of_field</th>\n",
       "      <td>0.002305</td>\n",
       "      <td>-0.828937</td>\n",
       "      <td>1.000000</td>\n",
       "      <td>0.064889</td>\n",
       "      <td>-0.055396</td>\n",
       "      <td>-0.007832</td>\n",
       "      <td>-0.002254</td>\n",
       "      <td>-0.030422</td>\n",
       "      <td>0.082180</td>\n",
       "      <td>0.020827</td>\n",
       "      <td>-0.034519</td>\n",
       "      <td>-0.182498</td>\n",
       "      <td>0.191549</td>\n",
       "      <td>0.000077</td>\n",
       "      <td>-0.008312</td>\n",
       "      <td>0.000172</td>\n",
       "      <td>-0.010289</td>\n",
       "      <td>-0.000336</td>\n",
       "      <td>-0.001127</td>\n",
       "      <td>0.020381</td>\n",
       "    </tr>\n",
       "    <tr>\n",
       "      <th>left_foot</th>\n",
       "      <td>0.087108</td>\n",
       "      <td>-0.055578</td>\n",
       "      <td>0.064889</td>\n",
       "      <td>1.000000</td>\n",
       "      <td>-0.722702</td>\n",
       "      <td>-0.301425</td>\n",
       "      <td>0.029527</td>\n",
       "      <td>-0.153459</td>\n",
       "      <td>0.096643</td>\n",
       "      <td>0.109731</td>\n",
       "      <td>-0.129819</td>\n",
       "      <td>0.147633</td>\n",
       "      <td>0.073160</td>\n",
       "      <td>-0.001121</td>\n",
       "      <td>0.028410</td>\n",
       "      <td>0.013205</td>\n",
       "      <td>0.009337</td>\n",
       "      <td>0.008870</td>\n",
       "      <td>0.027279</td>\n",
       "      <td>-0.029434</td>\n",
       "    </tr>\n",
       "    <tr>\n",
       "      <th>right_foot</th>\n",
       "      <td>0.182935</td>\n",
       "      <td>0.044470</td>\n",
       "      <td>-0.055396</td>\n",
       "      <td>-0.722702</td>\n",
       "      <td>1.000000</td>\n",
       "      <td>-0.441174</td>\n",
       "      <td>0.030282</td>\n",
       "      <td>0.579641</td>\n",
       "      <td>0.105066</td>\n",
       "      <td>0.201891</td>\n",
       "      <td>-0.191048</td>\n",
       "      <td>0.142239</td>\n",
       "      <td>0.182233</td>\n",
       "      <td>0.010314</td>\n",
       "      <td>0.000136</td>\n",
       "      <td>0.020403</td>\n",
       "      <td>0.085517</td>\n",
       "      <td>0.012733</td>\n",
       "      <td>0.043995</td>\n",
       "      <td>-0.103511</td>\n",
       "    </tr>\n",
       "    <tr>\n",
       "      <th>header</th>\n",
       "      <td>-0.365471</td>\n",
       "      <td>0.010815</td>\n",
       "      <td>-0.007832</td>\n",
       "      <td>-0.301425</td>\n",
       "      <td>-0.441174</td>\n",
       "      <td>1.000000</td>\n",
       "      <td>-0.080114</td>\n",
       "      <td>-0.600388</td>\n",
       "      <td>-0.270428</td>\n",
       "      <td>-0.420997</td>\n",
       "      <td>0.432121</td>\n",
       "      <td>-0.387917</td>\n",
       "      <td>-0.346392</td>\n",
       "      <td>-0.012773</td>\n",
       "      <td>-0.037076</td>\n",
       "      <td>-0.045293</td>\n",
       "      <td>-0.130099</td>\n",
       "      <td>-0.029082</td>\n",
       "      <td>-0.096113</td>\n",
       "      <td>0.181017</td>\n",
       "    </tr>\n",
       "    <tr>\n",
       "      <th>counter_attack</th>\n",
       "      <td>-0.022892</td>\n",
       "      <td>-0.000778</td>\n",
       "      <td>-0.002254</td>\n",
       "      <td>0.029527</td>\n",
       "      <td>0.030282</td>\n",
       "      <td>-0.080114</td>\n",
       "      <td>1.000000</td>\n",
       "      <td>0.043046</td>\n",
       "      <td>0.032113</td>\n",
       "      <td>-0.011292</td>\n",
       "      <td>-0.038711</td>\n",
       "      <td>0.061184</td>\n",
       "      <td>-0.002891</td>\n",
       "      <td>-0.013458</td>\n",
       "      <td>-0.019292</td>\n",
       "      <td>0.008679</td>\n",
       "      <td>-0.047048</td>\n",
       "      <td>-0.008093</td>\n",
       "      <td>-0.052777</td>\n",
       "      <td>0.035263</td>\n",
       "    </tr>\n",
       "    <tr>\n",
       "      <th>strong_foot</th>\n",
       "      <td>0.325759</td>\n",
       "      <td>0.024581</td>\n",
       "      <td>-0.030422</td>\n",
       "      <td>-0.153459</td>\n",
       "      <td>0.579641</td>\n",
       "      <td>-0.600388</td>\n",
       "      <td>0.043046</td>\n",
       "      <td>1.000000</td>\n",
       "      <td>0.208651</td>\n",
       "      <td>0.364283</td>\n",
       "      <td>-0.325415</td>\n",
       "      <td>0.213255</td>\n",
       "      <td>0.227965</td>\n",
       "      <td>-0.006584</td>\n",
       "      <td>0.032475</td>\n",
       "      <td>0.027652</td>\n",
       "      <td>0.113637</td>\n",
       "      <td>0.024841</td>\n",
       "      <td>0.151135</td>\n",
       "      <td>-0.158216</td>\n",
       "    </tr>\n",
       "    <tr>\n",
       "      <th>C</th>\n",
       "      <td>0.149810</td>\n",
       "      <td>-0.075965</td>\n",
       "      <td>0.082180</td>\n",
       "      <td>0.096643</td>\n",
       "      <td>0.105066</td>\n",
       "      <td>-0.270428</td>\n",
       "      <td>0.032113</td>\n",
       "      <td>0.208651</td>\n",
       "      <td>1.000000</td>\n",
       "      <td>0.413691</td>\n",
       "      <td>-0.560360</td>\n",
       "      <td>0.083449</td>\n",
       "      <td>0.115511</td>\n",
       "      <td>-0.029378</td>\n",
       "      <td>0.053582</td>\n",
       "      <td>0.018705</td>\n",
       "      <td>-0.015797</td>\n",
       "      <td>0.003599</td>\n",
       "      <td>0.120914</td>\n",
       "      <td>0.001011</td>\n",
       "    </tr>\n",
       "    <tr>\n",
       "      <th>Distance</th>\n",
       "      <td>0.955117</td>\n",
       "      <td>-0.031066</td>\n",
       "      <td>0.020827</td>\n",
       "      <td>0.109731</td>\n",
       "      <td>0.201891</td>\n",
       "      <td>-0.420997</td>\n",
       "      <td>-0.011292</td>\n",
       "      <td>0.364283</td>\n",
       "      <td>0.413691</td>\n",
       "      <td>1.000000</td>\n",
       "      <td>-0.732390</td>\n",
       "      <td>0.079362</td>\n",
       "      <td>0.231273</td>\n",
       "      <td>-0.052392</td>\n",
       "      <td>0.030995</td>\n",
       "      <td>0.048548</td>\n",
       "      <td>0.083798</td>\n",
       "      <td>0.012307</td>\n",
       "      <td>0.249163</td>\n",
       "      <td>-0.109639</td>\n",
       "    </tr>\n",
       "    <tr>\n",
       "      <th>Angle</th>\n",
       "      <td>-0.600353</td>\n",
       "      <td>0.035209</td>\n",
       "      <td>-0.034519</td>\n",
       "      <td>-0.129819</td>\n",
       "      <td>-0.191048</td>\n",
       "      <td>0.432121</td>\n",
       "      <td>-0.038711</td>\n",
       "      <td>-0.325415</td>\n",
       "      <td>-0.560360</td>\n",
       "      <td>-0.732390</td>\n",
       "      <td>1.000000</td>\n",
       "      <td>-0.138474</td>\n",
       "      <td>-0.179356</td>\n",
       "      <td>0.053211</td>\n",
       "      <td>-0.037808</td>\n",
       "      <td>-0.026912</td>\n",
       "      <td>-0.048463</td>\n",
       "      <td>-0.008149</td>\n",
       "      <td>-0.158552</td>\n",
       "      <td>0.053809</td>\n",
       "    </tr>\n",
       "    <tr>\n",
       "      <th>out_swinging</th>\n",
       "      <td>0.048599</td>\n",
       "      <td>0.156380</td>\n",
       "      <td>-0.182498</td>\n",
       "      <td>0.147633</td>\n",
       "      <td>0.142239</td>\n",
       "      <td>-0.387917</td>\n",
       "      <td>0.061184</td>\n",
       "      <td>0.213255</td>\n",
       "      <td>0.083449</td>\n",
       "      <td>0.079362</td>\n",
       "      <td>-0.138474</td>\n",
       "      <td>1.000000</td>\n",
       "      <td>-0.730260</td>\n",
       "      <td>0.010556</td>\n",
       "      <td>0.010982</td>\n",
       "      <td>0.029171</td>\n",
       "      <td>0.100300</td>\n",
       "      <td>0.009284</td>\n",
       "      <td>-0.071178</td>\n",
       "      <td>-0.156869</td>\n",
       "    </tr>\n",
       "    <tr>\n",
       "      <th>in_swinging</th>\n",
       "      <td>0.221427</td>\n",
       "      <td>-0.167178</td>\n",
       "      <td>0.191549</td>\n",
       "      <td>0.073160</td>\n",
       "      <td>0.182233</td>\n",
       "      <td>-0.346392</td>\n",
       "      <td>-0.002891</td>\n",
       "      <td>0.227965</td>\n",
       "      <td>0.115511</td>\n",
       "      <td>0.231273</td>\n",
       "      <td>-0.179356</td>\n",
       "      <td>-0.730260</td>\n",
       "      <td>1.000000</td>\n",
       "      <td>-0.001277</td>\n",
       "      <td>0.016304</td>\n",
       "      <td>0.003881</td>\n",
       "      <td>-0.005654</td>\n",
       "      <td>0.012106</td>\n",
       "      <td>0.143684</td>\n",
       "      <td>0.025488</td>\n",
       "    </tr>\n",
       "    <tr>\n",
       "      <th>rebound</th>\n",
       "      <td>-0.048486</td>\n",
       "      <td>0.002418</td>\n",
       "      <td>0.000077</td>\n",
       "      <td>-0.001121</td>\n",
       "      <td>0.010314</td>\n",
       "      <td>-0.012773</td>\n",
       "      <td>-0.013458</td>\n",
       "      <td>-0.006584</td>\n",
       "      <td>-0.029378</td>\n",
       "      <td>-0.052392</td>\n",
       "      <td>0.053211</td>\n",
       "      <td>0.010556</td>\n",
       "      <td>-0.001277</td>\n",
       "      <td>1.000000</td>\n",
       "      <td>-0.030014</td>\n",
       "      <td>-0.033316</td>\n",
       "      <td>-0.126461</td>\n",
       "      <td>-0.020828</td>\n",
       "      <td>-0.010074</td>\n",
       "      <td>-0.127986</td>\n",
       "    </tr>\n",
       "    <tr>\n",
       "      <th>prev_cross</th>\n",
       "      <td>0.014580</td>\n",
       "      <td>0.013620</td>\n",
       "      <td>-0.008312</td>\n",
       "      <td>0.028410</td>\n",
       "      <td>0.000136</td>\n",
       "      <td>-0.037076</td>\n",
       "      <td>-0.019292</td>\n",
       "      <td>0.032475</td>\n",
       "      <td>0.053582</td>\n",
       "      <td>0.030995</td>\n",
       "      <td>-0.037808</td>\n",
       "      <td>0.010982</td>\n",
       "      <td>0.016304</td>\n",
       "      <td>-0.030014</td>\n",
       "      <td>1.000000</td>\n",
       "      <td>-0.037373</td>\n",
       "      <td>-0.141863</td>\n",
       "      <td>-0.023364</td>\n",
       "      <td>0.040820</td>\n",
       "      <td>-0.143574</td>\n",
       "    </tr>\n",
       "    <tr>\n",
       "      <th>prev_touch</th>\n",
       "      <td>0.046853</td>\n",
       "      <td>0.000718</td>\n",
       "      <td>0.000172</td>\n",
       "      <td>0.013205</td>\n",
       "      <td>0.020403</td>\n",
       "      <td>-0.045293</td>\n",
       "      <td>0.008679</td>\n",
       "      <td>0.027652</td>\n",
       "      <td>0.018705</td>\n",
       "      <td>0.048548</td>\n",
       "      <td>-0.026912</td>\n",
       "      <td>0.029171</td>\n",
       "      <td>0.003881</td>\n",
       "      <td>-0.033316</td>\n",
       "      <td>-0.037373</td>\n",
       "      <td>1.000000</td>\n",
       "      <td>-0.157470</td>\n",
       "      <td>-0.025935</td>\n",
       "      <td>-0.020089</td>\n",
       "      <td>-0.159369</td>\n",
       "    </tr>\n",
       "    <tr>\n",
       "      <th>prev_pass</th>\n",
       "      <td>0.096256</td>\n",
       "      <td>0.007298</td>\n",
       "      <td>-0.010289</td>\n",
       "      <td>0.009337</td>\n",
       "      <td>0.085517</td>\n",
       "      <td>-0.130099</td>\n",
       "      <td>-0.047048</td>\n",
       "      <td>0.113637</td>\n",
       "      <td>-0.015797</td>\n",
       "      <td>0.083798</td>\n",
       "      <td>-0.048463</td>\n",
       "      <td>0.100300</td>\n",
       "      <td>-0.005654</td>\n",
       "      <td>-0.126461</td>\n",
       "      <td>-0.141863</td>\n",
       "      <td>-0.157470</td>\n",
       "      <td>1.000000</td>\n",
       "      <td>-0.098445</td>\n",
       "      <td>0.031325</td>\n",
       "      <td>-0.604942</td>\n",
       "    </tr>\n",
       "    <tr>\n",
       "      <th>prev_smart_pass</th>\n",
       "      <td>0.012697</td>\n",
       "      <td>0.002510</td>\n",
       "      <td>-0.000336</td>\n",
       "      <td>0.008870</td>\n",
       "      <td>0.012733</td>\n",
       "      <td>-0.029082</td>\n",
       "      <td>-0.008093</td>\n",
       "      <td>0.024841</td>\n",
       "      <td>0.003599</td>\n",
       "      <td>0.012307</td>\n",
       "      <td>-0.008149</td>\n",
       "      <td>0.009284</td>\n",
       "      <td>0.012106</td>\n",
       "      <td>-0.020828</td>\n",
       "      <td>-0.023364</td>\n",
       "      <td>-0.025935</td>\n",
       "      <td>-0.098445</td>\n",
       "      <td>1.000000</td>\n",
       "      <td>0.010471</td>\n",
       "      <td>-0.099632</td>\n",
       "    </tr>\n",
       "    <tr>\n",
       "      <th>free_kick</th>\n",
       "      <td>0.228979</td>\n",
       "      <td>-0.008027</td>\n",
       "      <td>-0.001127</td>\n",
       "      <td>0.027279</td>\n",
       "      <td>0.043995</td>\n",
       "      <td>-0.096113</td>\n",
       "      <td>-0.052777</td>\n",
       "      <td>0.151135</td>\n",
       "      <td>0.120914</td>\n",
       "      <td>0.249163</td>\n",
       "      <td>-0.158552</td>\n",
       "      <td>-0.071178</td>\n",
       "      <td>0.143684</td>\n",
       "      <td>-0.010074</td>\n",
       "      <td>0.040820</td>\n",
       "      <td>-0.020089</td>\n",
       "      <td>0.031325</td>\n",
       "      <td>0.010471</td>\n",
       "      <td>1.000000</td>\n",
       "      <td>-0.042851</td>\n",
       "    </tr>\n",
       "    <tr>\n",
       "      <th>prev_duel</th>\n",
       "      <td>-0.118179</td>\n",
       "      <td>-0.020901</td>\n",
       "      <td>0.020381</td>\n",
       "      <td>-0.029434</td>\n",
       "      <td>-0.103511</td>\n",
       "      <td>0.181017</td>\n",
       "      <td>0.035263</td>\n",
       "      <td>-0.158216</td>\n",
       "      <td>0.001011</td>\n",
       "      <td>-0.109639</td>\n",
       "      <td>0.053809</td>\n",
       "      <td>-0.156869</td>\n",
       "      <td>0.025488</td>\n",
       "      <td>-0.127986</td>\n",
       "      <td>-0.143574</td>\n",
       "      <td>-0.159369</td>\n",
       "      <td>-0.604942</td>\n",
       "      <td>-0.099632</td>\n",
       "      <td>-0.042851</td>\n",
       "      <td>1.000000</td>\n",
       "    </tr>\n",
       "  </tbody>\n",
       "</table>\n",
       "</div>"
      ],
      "text/plain": [
       "                        X         Y  side_of_field  left_foot  right_foot  \\\n",
       "X                1.000000 -0.010241       0.002305   0.087108    0.182935   \n",
       "Y               -0.010241  1.000000      -0.828937  -0.055578    0.044470   \n",
       "side_of_field    0.002305 -0.828937       1.000000   0.064889   -0.055396   \n",
       "left_foot        0.087108 -0.055578       0.064889   1.000000   -0.722702   \n",
       "right_foot       0.182935  0.044470      -0.055396  -0.722702    1.000000   \n",
       "header          -0.365471  0.010815      -0.007832  -0.301425   -0.441174   \n",
       "counter_attack  -0.022892 -0.000778      -0.002254   0.029527    0.030282   \n",
       "strong_foot      0.325759  0.024581      -0.030422  -0.153459    0.579641   \n",
       "C                0.149810 -0.075965       0.082180   0.096643    0.105066   \n",
       "Distance         0.955117 -0.031066       0.020827   0.109731    0.201891   \n",
       "Angle           -0.600353  0.035209      -0.034519  -0.129819   -0.191048   \n",
       "out_swinging     0.048599  0.156380      -0.182498   0.147633    0.142239   \n",
       "in_swinging      0.221427 -0.167178       0.191549   0.073160    0.182233   \n",
       "rebound         -0.048486  0.002418       0.000077  -0.001121    0.010314   \n",
       "prev_cross       0.014580  0.013620      -0.008312   0.028410    0.000136   \n",
       "prev_touch       0.046853  0.000718       0.000172   0.013205    0.020403   \n",
       "prev_pass        0.096256  0.007298      -0.010289   0.009337    0.085517   \n",
       "prev_smart_pass  0.012697  0.002510      -0.000336   0.008870    0.012733   \n",
       "free_kick        0.228979 -0.008027      -0.001127   0.027279    0.043995   \n",
       "prev_duel       -0.118179 -0.020901       0.020381  -0.029434   -0.103511   \n",
       "\n",
       "                   header  counter_attack  strong_foot         C  Distance  \\\n",
       "X               -0.365471       -0.022892     0.325759  0.149810  0.955117   \n",
       "Y                0.010815       -0.000778     0.024581 -0.075965 -0.031066   \n",
       "side_of_field   -0.007832       -0.002254    -0.030422  0.082180  0.020827   \n",
       "left_foot       -0.301425        0.029527    -0.153459  0.096643  0.109731   \n",
       "right_foot      -0.441174        0.030282     0.579641  0.105066  0.201891   \n",
       "header           1.000000       -0.080114    -0.600388 -0.270428 -0.420997   \n",
       "counter_attack  -0.080114        1.000000     0.043046  0.032113 -0.011292   \n",
       "strong_foot     -0.600388        0.043046     1.000000  0.208651  0.364283   \n",
       "C               -0.270428        0.032113     0.208651  1.000000  0.413691   \n",
       "Distance        -0.420997       -0.011292     0.364283  0.413691  1.000000   \n",
       "Angle            0.432121       -0.038711    -0.325415 -0.560360 -0.732390   \n",
       "out_swinging    -0.387917        0.061184     0.213255  0.083449  0.079362   \n",
       "in_swinging     -0.346392       -0.002891     0.227965  0.115511  0.231273   \n",
       "rebound         -0.012773       -0.013458    -0.006584 -0.029378 -0.052392   \n",
       "prev_cross      -0.037076       -0.019292     0.032475  0.053582  0.030995   \n",
       "prev_touch      -0.045293        0.008679     0.027652  0.018705  0.048548   \n",
       "prev_pass       -0.130099       -0.047048     0.113637 -0.015797  0.083798   \n",
       "prev_smart_pass -0.029082       -0.008093     0.024841  0.003599  0.012307   \n",
       "free_kick       -0.096113       -0.052777     0.151135  0.120914  0.249163   \n",
       "prev_duel        0.181017        0.035263    -0.158216  0.001011 -0.109639   \n",
       "\n",
       "                    Angle  out_swinging  in_swinging   rebound  prev_cross  \\\n",
       "X               -0.600353      0.048599     0.221427 -0.048486    0.014580   \n",
       "Y                0.035209      0.156380    -0.167178  0.002418    0.013620   \n",
       "side_of_field   -0.034519     -0.182498     0.191549  0.000077   -0.008312   \n",
       "left_foot       -0.129819      0.147633     0.073160 -0.001121    0.028410   \n",
       "right_foot      -0.191048      0.142239     0.182233  0.010314    0.000136   \n",
       "header           0.432121     -0.387917    -0.346392 -0.012773   -0.037076   \n",
       "counter_attack  -0.038711      0.061184    -0.002891 -0.013458   -0.019292   \n",
       "strong_foot     -0.325415      0.213255     0.227965 -0.006584    0.032475   \n",
       "C               -0.560360      0.083449     0.115511 -0.029378    0.053582   \n",
       "Distance        -0.732390      0.079362     0.231273 -0.052392    0.030995   \n",
       "Angle            1.000000     -0.138474    -0.179356  0.053211   -0.037808   \n",
       "out_swinging    -0.138474      1.000000    -0.730260  0.010556    0.010982   \n",
       "in_swinging     -0.179356     -0.730260     1.000000 -0.001277    0.016304   \n",
       "rebound          0.053211      0.010556    -0.001277  1.000000   -0.030014   \n",
       "prev_cross      -0.037808      0.010982     0.016304 -0.030014    1.000000   \n",
       "prev_touch      -0.026912      0.029171     0.003881 -0.033316   -0.037373   \n",
       "prev_pass       -0.048463      0.100300    -0.005654 -0.126461   -0.141863   \n",
       "prev_smart_pass -0.008149      0.009284     0.012106 -0.020828   -0.023364   \n",
       "free_kick       -0.158552     -0.071178     0.143684 -0.010074    0.040820   \n",
       "prev_duel        0.053809     -0.156869     0.025488 -0.127986   -0.143574   \n",
       "\n",
       "                 prev_touch  prev_pass  prev_smart_pass  free_kick  prev_duel  \n",
       "X                  0.046853   0.096256         0.012697   0.228979  -0.118179  \n",
       "Y                  0.000718   0.007298         0.002510  -0.008027  -0.020901  \n",
       "side_of_field      0.000172  -0.010289        -0.000336  -0.001127   0.020381  \n",
       "left_foot          0.013205   0.009337         0.008870   0.027279  -0.029434  \n",
       "right_foot         0.020403   0.085517         0.012733   0.043995  -0.103511  \n",
       "header            -0.045293  -0.130099        -0.029082  -0.096113   0.181017  \n",
       "counter_attack     0.008679  -0.047048        -0.008093  -0.052777   0.035263  \n",
       "strong_foot        0.027652   0.113637         0.024841   0.151135  -0.158216  \n",
       "C                  0.018705  -0.015797         0.003599   0.120914   0.001011  \n",
       "Distance           0.048548   0.083798         0.012307   0.249163  -0.109639  \n",
       "Angle             -0.026912  -0.048463        -0.008149  -0.158552   0.053809  \n",
       "out_swinging       0.029171   0.100300         0.009284  -0.071178  -0.156869  \n",
       "in_swinging        0.003881  -0.005654         0.012106   0.143684   0.025488  \n",
       "rebound           -0.033316  -0.126461        -0.020828  -0.010074  -0.127986  \n",
       "prev_cross        -0.037373  -0.141863        -0.023364   0.040820  -0.143574  \n",
       "prev_touch         1.000000  -0.157470        -0.025935  -0.020089  -0.159369  \n",
       "prev_pass         -0.157470   1.000000        -0.098445   0.031325  -0.604942  \n",
       "prev_smart_pass   -0.025935  -0.098445         1.000000   0.010471  -0.099632  \n",
       "free_kick         -0.020089   0.031325         0.010471   1.000000  -0.042851  \n",
       "prev_duel         -0.159369  -0.604942        -0.099632  -0.042851   1.000000  "
      ]
     },
     "execution_count": 9,
     "metadata": {},
     "output_type": "execute_result"
    }
   ],
   "source": [
    "x_train.corr()"
   ]
  },
  {
   "cell_type": "markdown",
   "metadata": {},
   "source": [
    "This table might be a bit big and unwieldy, but we can pick out some variables that are insanely correlated: ``X/C``, ``Y/side of field``, ``left_foot``/``right_foot``, ``Distance/Angle``, and ``in_swinging/out_swinging``, ``Angle/X``. "
   ]
  },
  {
   "cell_type": "markdown",
   "metadata": {},
   "source": [
    "This makes sense, as all of these variables are derived from one another. For example ``in_swinging/outswinging`` are linear combinations  of ``right_foot``, ``left_foot`` and ``side_of_field``, while ``header``, ``left_foot`` and ``right_foot`` are also linear combinations of one another. In addition, ``Distance`` is directly derived from ``X`` and ``Y``, ``C`` is directly derived from ``Y``, and ``Angle`` is also derived from some of these variables. Thus, we must be really  careful when determining what features to remove to remove collinearity."
   ]
  },
  {
   "cell_type": "markdown",
   "metadata": {},
   "source": [
    "**To be honest, I am not sure if my following steps are correct, so please take this with a grain  of salt. However, this process will help illustrate some important points when we compare the pros/cons of logistic regression  to Random Forest**"
   ]
  },
  {
   "cell_type": "markdown",
   "metadata": {},
   "source": [
    "**If you have suggestions for a better process, please reach out to me on Twitter @andrew_puopolo or by email puopolo4@gmail.com**"
   ]
  },
  {
   "cell_type": "markdown",
   "metadata": {},
   "source": [
    "Anyways, looking at the output from the previous logistic regression, we can safely remove Y, left_foot (due to being linearly dependent on right_foot and header). We leave C in due to the fact that it was originally dependent  on ``Y`` and ``side of field``.  We will also drop  ``side of field`` as the effect from that has been covered by the features  ``in_swinging`` and ``out_swinging``"
   ]
  },
  {
   "cell_type": "code",
   "execution_count": 10,
   "metadata": {},
   "outputs": [],
   "source": [
    "second_x_train = x_train.drop(columns=['Y', 'side_of_field', 'left_foot','prev_cross', 'prev_duel'])\n",
    "second_x_test = x_test.drop(columns=['Y', 'side_of_field', 'left_foot','prev_cross', 'prev_duel'])"
   ]
  },
  {
   "cell_type": "code",
   "execution_count": 11,
   "metadata": {},
   "outputs": [
    {
     "name": "stdout",
     "output_type": "stream",
     "text": [
      "                 Generalized Linear Model Regression Results                  \n",
      "==============================================================================\n",
      "Dep. Variable:                   Goal   No. Observations:                36227\n",
      "Model:                            GLM   Df Residuals:                    36212\n",
      "Model Family:                Binomial   Df Model:                           14\n",
      "Link Function:                  logit   Scale:                          1.0000\n",
      "Method:                          IRLS   Log-Likelihood:                -10086.\n",
      "Date:                Wed, 13 May 2020   Deviance:                       20172.\n",
      "Time:                        02:21:39   Pearson chi2:                 5.71e+05\n",
      "No. Iterations:                     7                                         \n",
      "Covariance Type:            nonrobust                                         \n",
      "===================================================================================\n",
      "                      coef    std err          z      P>|z|      [0.025      0.975]\n",
      "-----------------------------------------------------------------------------------\n",
      "X                   0.0523      0.025      2.130      0.033       0.004       0.100\n",
      "right_foot         -0.1438      0.048     -2.987      0.003      -0.238      -0.049\n",
      "header             -2.0676      0.142    -14.612      0.000      -2.345      -1.790\n",
      "counter_attack      0.6552      0.071      9.205      0.000       0.516       0.795\n",
      "strong_foot         0.1947      0.056      3.487      0.000       0.085       0.304\n",
      "C                   0.0071      0.008      0.837      0.403      -0.010       0.024\n",
      "Distance           -0.1600      0.027     -5.881      0.000      -0.213      -0.107\n",
      "Angle               1.5511      0.114     13.592      0.000       1.327       1.775\n",
      "out_swinging       -1.1733      0.143     -8.183      0.000      -1.454      -0.892\n",
      "in_swinging        -1.2292      0.146     -8.393      0.000      -1.516      -0.942\n",
      "rebound             0.3545      0.099      3.578      0.000       0.160       0.549\n",
      "prev_touch          0.2512      0.098      2.569      0.010       0.060       0.443\n",
      "prev_pass           0.0999      0.041      2.455      0.014       0.020       0.180\n",
      "prev_smart_pass     0.3462      0.138      2.510      0.012       0.076       0.617\n",
      "free_kick           0.9642      0.112      8.604      0.000       0.745       1.184\n",
      "===================================================================================\n"
     ]
    }
   ],
   "source": [
    "second_logistic_regression= sm.GLM(endog=y_train,exog=second_x_train,data=shots_model, \n",
    "                                           family=sm.families.Binomial()).fit()\n",
    "print(second_logistic_regression.summary())"
   ]
  },
  {
   "cell_type": "code",
   "execution_count": 12,
   "metadata": {},
   "outputs": [
    {
     "name": "stdout",
     "output_type": "stream",
     "text": [
      "0.28063564937548807\n",
      "0.7770933337016719\n"
     ]
    }
   ],
   "source": [
    "y_hat = second_logistic_regression.predict(second_x_test)\n",
    "print(log_loss(y_test, y_hat))\n",
    "print(roc_auc_score(y_test, y_hat))"
   ]
  },
  {
   "cell_type": "markdown",
   "metadata": {},
   "source": [
    "Well that was cool! We reduced the complexity of our model while generating similar performance on a held out dataset. Now, we find that all features (except C) are statistically significant."
   ]
  },
  {
   "cell_type": "markdown",
   "metadata": {},
   "source": [
    "Now, we must consider interactions between variables. One of the main components of generalied linear models is that the  features  are assumed  to be linear on the  scale of the link function (in the case of logistic regression, that's the logit  scale). For example, our current model assumes that as the ball gets further from the goal, the impact (on the logit scale) scales in the same way. That's not a realistic assumption, so we need to hand craft some features in order to account for these interactions between various variables."
   ]
  },
  {
   "cell_type": "markdown",
   "metadata": {},
   "source": [
    "In addition, since Logistic Regression is often favored for being interpretable (more on that later), we will focus on constructing features that make sense for interpretataion, and attempt to isolate and quantify the effects of features"
   ]
  },
  {
   "cell_type": "markdown",
   "metadata": {},
   "source": [
    "In the following cells, we will construct some interaction variables for our models:"
   ]
  },
  {
   "cell_type": "code",
   "execution_count": 13,
   "metadata": {},
   "outputs": [],
   "source": [
    "third_x_train = second_x_train.drop(columns=['C'])\n",
    "third_x_test = second_x_test.drop(columns=['C'])"
   ]
  },
  {
   "cell_type": "code",
   "execution_count": 14,
   "metadata": {},
   "outputs": [],
   "source": [
    "third_x_train['header_distance'] = third_x_train['header']*third_x_train['Distance']\n",
    "third_x_train['strong_distance'] = third_x_train['strong_foot']*third_x_train['Distance']\n",
    "third_x_train['header_angle'] = third_x_train['header']*third_x_train['Angle']\n",
    "third_x_train['strong_angle'] = third_x_train['strong_foot']*third_x_train['Angle']\n",
    "third_x_train['in_swinging_angle'] = third_x_train['in_swinging']*third_x_train['Angle']\n",
    "third_x_train['out_swinging_angle'] = third_x_train['out_swinging']*third_x_train['Angle']\n",
    "third_x_train['free_kick_angle'] = third_x_train['free_kick']*third_x_train['Angle']"
   ]
  },
  {
   "cell_type": "code",
   "execution_count": 15,
   "metadata": {},
   "outputs": [],
   "source": [
    "third_x_test['header_distance'] = third_x_test['header']*third_x_test['Distance']\n",
    "third_x_test['strong_distance'] = third_x_test['strong_foot']*third_x_test['Distance']\n",
    "third_x_test['header_angle'] = third_x_test['header']*third_x_test['Angle']\n",
    "third_x_test['strong_angle'] = third_x_test['strong_foot']*third_x_test['Angle']\n",
    "third_x_test['in_swinging_angle'] = third_x_test['in_swinging']*third_x_test['Angle']\n",
    "third_x_test['out_swinging_angle'] = third_x_test['out_swinging']*third_x_test['Angle']\n",
    "third_x_test['free_kick_angle'] = third_x_test['free_kick']*third_x_test['Angle']"
   ]
  },
  {
   "cell_type": "code",
   "execution_count": 16,
   "metadata": {},
   "outputs": [
    {
     "name": "stdout",
     "output_type": "stream",
     "text": [
      "                 Generalized Linear Model Regression Results                  \n",
      "==============================================================================\n",
      "Dep. Variable:                   Goal   No. Observations:                36227\n",
      "Model:                            GLM   Df Residuals:                    36207\n",
      "Model Family:                Binomial   Df Model:                           19\n",
      "Link Function:                  logit   Scale:                          1.0000\n",
      "Method:                          IRLS   Log-Likelihood:                -10080.\n",
      "Date:                Wed, 13 May 2020   Deviance:                       20160.\n",
      "Time:                        02:21:40   Pearson chi2:                 1.19e+06\n",
      "No. Iterations:                     7                                         \n",
      "Covariance Type:            nonrobust                                         \n",
      "======================================================================================\n",
      "                         coef    std err          z      P>|z|      [0.025      0.975]\n",
      "--------------------------------------------------------------------------------------\n",
      "X                      0.0414      0.011      3.724      0.000       0.020       0.063\n",
      "right_foot            -0.1454      0.048     -3.020      0.003      -0.240      -0.051\n",
      "header                -1.7706      0.490     -3.616      0.000      -2.730      -0.811\n",
      "counter_attack         0.6580      0.071      9.227      0.000       0.518       0.798\n",
      "strong_foot           -0.3709      0.308     -1.204      0.229      -0.975       0.233\n",
      "Distance              -0.1716      0.018     -9.796      0.000      -0.206      -0.137\n",
      "Angle                  0.9546      0.138      6.923      0.000       0.684       1.225\n",
      "out_swinging          -0.6714      0.284     -2.366      0.018      -1.228      -0.115\n",
      "in_swinging           -0.6883      0.291     -2.365      0.018      -1.259      -0.118\n",
      "rebound                0.3476      0.099      3.507      0.000       0.153       0.542\n",
      "prev_touch             0.2487      0.098      2.542      0.011       0.057       0.440\n",
      "prev_pass              0.0972      0.041      2.389      0.017       0.017       0.177\n",
      "prev_smart_pass        0.3404      0.138      2.467      0.014       0.070       0.611\n",
      "free_kick              2.0307      0.432      4.697      0.000       1.183       2.878\n",
      "header_distance        0.0063      0.033      0.193      0.847      -0.058       0.071\n",
      "strong_distance        0.0272      0.014      2.009      0.045       0.001       0.054\n",
      "header_angle           0.4309      0.242      1.782      0.075      -0.043       0.905\n",
      "strong_angle           0.3657      0.257      1.421      0.155      -0.139       0.870\n",
      "in_swinging_angle      0.2243      0.156      1.434      0.151      -0.082       0.531\n",
      "out_swinging_angle     0.2994      0.148      2.029      0.043       0.010       0.589\n",
      "free_kick_angle       -4.2653      1.634     -2.610      0.009      -7.469      -1.062\n",
      "======================================================================================\n"
     ]
    }
   ],
   "source": [
    "third_logistic_regression= sm.GLM(endog=y_train,exog=third_x_train,data=shots_model, \n",
    "                                  family=sm.families.Binomial()).fit()\n",
    "print(third_logistic_regression.summary())"
   ]
  },
  {
   "cell_type": "markdown",
   "metadata": {},
   "source": [
    "Well, we find that most of our variables are significant, but our prior of header distance didn't work,  so let's remove that from the  model"
   ]
  },
  {
   "cell_type": "code",
   "execution_count": 17,
   "metadata": {},
   "outputs": [],
   "source": [
    "fourth_x_train = third_x_train.drop(columns=['header_distance'])\n",
    "fourth_x_test = third_x_test.drop(columns=['header_distance'])"
   ]
  },
  {
   "cell_type": "code",
   "execution_count": 29,
   "metadata": {},
   "outputs": [
    {
     "name": "stdout",
     "output_type": "stream",
     "text": [
      "                 Generalized Linear Model Regression Results                  \n",
      "==============================================================================\n",
      "Dep. Variable:                   Goal   No. Observations:                36227\n",
      "Model:                            GLM   Df Residuals:                    36208\n",
      "Model Family:                Binomial   Df Model:                           18\n",
      "Link Function:                  logit   Scale:                          1.0000\n",
      "Method:                          IRLS   Log-Likelihood:                -10080.\n",
      "Date:                Wed, 13 May 2020   Deviance:                       20160.\n",
      "Time:                        02:36:26   Pearson chi2:                 1.76e+06\n",
      "No. Iterations:                     7                                         \n",
      "Covariance Type:            nonrobust                                         \n",
      "======================================================================================\n",
      "                         coef    std err          z      P>|z|      [0.025      0.975]\n",
      "--------------------------------------------------------------------------------------\n",
      "X                      0.0415      0.011      3.731      0.000       0.020       0.063\n",
      "right_foot            -0.1454      0.048     -3.019      0.003      -0.240      -0.051\n",
      "header                -1.6861      0.220     -7.676      0.000      -2.117      -1.256\n",
      "counter_attack         0.6581      0.071      9.229      0.000       0.518       0.798\n",
      "strong_foot           -0.3525      0.293     -1.203      0.229      -0.927       0.222\n",
      "Distance              -0.1708      0.017    -10.050      0.000      -0.204      -0.138\n",
      "Angle                  0.9491      0.135      7.030      0.000       0.685       1.214\n",
      "out_swinging          -0.6892      0.268     -2.568      0.010      -1.215      -0.163\n",
      "in_swinging           -0.7067      0.275     -2.569      0.010      -1.246      -0.167\n",
      "rebound                0.3475      0.099      3.507      0.000       0.153       0.542\n",
      "prev_touch             0.2487      0.098      2.543      0.011       0.057       0.440\n",
      "prev_pass              0.0973      0.041      2.391      0.017       0.018       0.177\n",
      "prev_smart_pass        0.3404      0.138      2.468      0.014       0.070       0.611\n",
      "free_kick              2.0316      0.432      4.698      0.000       1.184       2.879\n",
      "strong_distance        0.0263      0.013      2.067      0.039       0.001       0.051\n",
      "header_angle           0.3909      0.125      3.121      0.002       0.145       0.636\n",
      "strong_angle           0.3535      0.250      1.416      0.157      -0.136       0.843\n",
      "in_swinging_angle      0.2418      0.128      1.896      0.058      -0.008       0.492\n",
      "out_swinging_angle     0.3164      0.118      2.671      0.008       0.084       0.549\n",
      "free_kick_angle       -4.2689      1.635     -2.612      0.009      -7.473      -1.065\n",
      "======================================================================================\n"
     ]
    }
   ],
   "source": [
    "fourth_logistic_regression= sm.GLM(endog=y_train,exog=fourth_x_train,data=shots_model, \n",
    "                                           family=sm.families.Binomial()).fit()\n",
    "print(fourth_logistic_regression.summary())"
   ]
  },
  {
   "cell_type": "code",
   "execution_count": 19,
   "metadata": {},
   "outputs": [
    {
     "name": "stdout",
     "output_type": "stream",
     "text": [
      "0.280296162451062\n",
      "0.7774905814692616\n"
     ]
    }
   ],
   "source": [
    "y_hat = fourth_logistic_regression.predict(fourth_x_test)\n",
    "print(log_loss(y_test, y_hat))\n",
    "print(roc_auc_score(y_test, y_hat))"
   ]
  },
  {
   "cell_type": "markdown",
   "metadata": {},
   "source": [
    "And that's it for our Logistic regression model!"
   ]
  },
  {
   "cell_type": "markdown",
   "metadata": {},
   "source": [
    "Even if you read through all of this, I would still recommend reading @CleKraus' notebook on building a logistic regression, as that notebook is more complete and stresses different points of emphasis to this one, as well as doing a more thorough model evaluation process."
   ]
  },
  {
   "cell_type": "markdown",
   "metadata": {},
   "source": [
    "### Comparing  Logistic Regression  and Random Forest"
   ]
  },
  {
   "cell_type": "markdown",
   "metadata": {},
   "source": [
    "Now that we've gone through the process of comparing our logistic regression and Random Forest, it's time to compare the two models against each other. We will use the lessons leaarned from the first 2 notebooks to help guide this section"
   ]
  },
  {
   "cell_type": "markdown",
   "metadata": {},
   "source": [
    "#### Logistic Regression:"
   ]
  },
  {
   "cell_type": "markdown",
   "metadata": {},
   "source": [
    "<b> Pros: </b> <br> <br>\n",
    "1.) Super fast to run <br>\n",
    "2.) Easy to mathematically quanatify the impact that each feature has on the model <br>\n",
    "3.) Easier to identify which features matter <br>\n",
    "4.) Less prone to overfitting, and generally requires less data  <br>\n",
    "5.) Extrapolates well to data that  is outside the bounds of the training test"
   ]
  },
  {
   "cell_type": "markdown",
   "metadata": {},
   "source": [
    "<b> Cons: </b> <br> <br>\n",
    "1.) Assumes that features are linearly correlated (on the logit scale). <br>\n",
    "2.) Lots of effort into feature engineering required. Must hand calculate features and sometimes unclear what the correct decision is. <br>\n",
    "3.) Model coefficients can be uninterpretabale/misleading if multicollinearity present <br>\n",
    "4.) Sensitive to outliers"
   ]
  },
  {
   "cell_type": "markdown",
   "metadata": {},
   "source": [
    "#### Random Forest"
   ]
  },
  {
   "cell_type": "markdown",
   "metadata": {},
   "source": [
    "<b> Pros: </b> <br> <br>\n",
    "1.) Able to easily handle nonlinear interacations between variables, and better handles nonlinear decision surfaces <br>\n",
    "2.) Often has superior predictive performance with a large sample size<br>\n",
    "3.) Algorithm determines which features are important more easily  <br>\n",
    "4.) Less human input required to generate features <br>\n",
    "5.) Easier to handle categorical features <br>"
   ]
  },
  {
   "cell_type": "markdown",
   "metadata": {},
   "source": [
    "<b> Cons: </b> <br> <br>\n",
    "1.) Slow to tune optimal hyperparameters <br>\n",
    "2.) More prone to overfitting <br>\n",
    "3.) Due to decision tree nature, outliers in training set can lead to unintuitive decision surfaces (more on this in Notebook 4!).  <br>\n",
    "4.) Much more difficult to interpret impact of features on model output as well as the overall result (more on this in future Notebooks!) <br>\n",
    "5.) Does not extrapolate well to data that it outside the bounds of the training set\n"
   ]
  },
  {
   "cell_type": "markdown",
   "metadata": {},
   "source": [
    "### Comparing Random Forest And Logistic Regression  Based on Previously Used Metrics"
   ]
  },
  {
   "cell_type": "code",
   "execution_count": 20,
   "metadata": {},
   "outputs": [],
   "source": [
    "rf_model = RandomForestClassifier(criterion='gini', max_depth=7, max_features=6, min_samples_leaf=20, \n",
    "                                  min_samples_split=300, n_estimators=500, n_jobs=-1, random_state=42)\n",
    "rf_model.fit(x_train, y_train)\n",
    "rf_y_hat=rf_model.predict_proba(x_test)"
   ]
  },
  {
   "cell_type": "code",
   "execution_count": 28,
   "metadata": {},
   "outputs": [
    {
     "name": "stdout",
     "output_type": "stream",
     "text": [
      "The log loss of the Random Forest model on the test set is: 0.2795\n",
      "The ROC-AUC of score the Random Forest Model on the test set is: 0.778\n"
     ]
    }
   ],
   "source": [
    "print(\"The log loss of the Random Forest model on the test set is: \" \\\n",
    "      +str(round(log_loss(y_test, rf_y_hat[:,-1]), 4)))\n",
    "print(\"The ROC-AUC of score the Random Forest Model on the test set is: \" \\\n",
    "      + str(round(roc_auc_score(y_test, rf_y_hat[:,-1]), 4)))"
   ]
  },
  {
   "cell_type": "markdown",
   "metadata": {},
   "source": [
    "Let's bring the code from the last logistic regression  down"
   ]
  },
  {
   "cell_type": "code",
   "execution_count": 27,
   "metadata": {},
   "outputs": [
    {
     "name": "stdout",
     "output_type": "stream",
     "text": [
      "The log loss of the Logistic Regression model on the test set is: 0.2803\n",
      "The ROC-AUC of the Logistic Regression model on the test set is: 0.7775\n"
     ]
    }
   ],
   "source": [
    "logistic_y_hat = fourth_logistic_regression.predict(fourth_x_test)\n",
    "print(\"The log loss of the Logistic Regression model on the test set is: \" + \\\n",
    "      str(round(log_loss(y_test, logistic_y_hat), 4)))\n",
    "print(\"The ROC-AUC of the Logistic Regression model on the test set is: \" + \\\n",
    "      str(round(roc_auc_score(y_test, logistic_y_hat), 4)))"
   ]
  },
  {
   "cell_type": "markdown",
   "metadata": {},
   "source": [
    "These metrics are almost identical, with a slight edge to the Random Forest."
   ]
  },
  {
   "cell_type": "markdown",
   "metadata": {},
   "source": [
    "Let's also look at the ROC-AUC curves:"
   ]
  },
  {
   "cell_type": "code",
   "execution_count": 23,
   "metadata": {},
   "outputs": [],
   "source": [
    "rf_fpr, rf_tpr, rf_thresholds = roc_curve(y_true=y_test, y_score=rf_y_hat[:,-1])\n",
    "logreg_fpr, logreg_tpr, logreg_thresholds = roc_curve(y_true=y_test, y_score=logistic_y_hat)"
   ]
  },
  {
   "cell_type": "code",
   "execution_count": 25,
   "metadata": {},
   "outputs": [
    {
     "data": {
      "image/png": "[encoded data removed]",
      "text/plain": [
       "<Figure size 432x288 with 1 Axes>"
      ]
     },
     "metadata": {
      "needs_background": "light"
     },
     "output_type": "display_data"
    }
   ],
   "source": [
    "plt.plot(rf_fpr, rf_tpr, label='Random Forest ROC AUC')\n",
    "plt.plot(logreg_fpr, logreg_tpr, label='Logistic Regression ROC AUC')\n",
    "plt.plot([0, 1], [0, 1], color = 'black', linewidth = 2, linestyle = '--')\n",
    "plt.xlabel('False Positive Rate')\n",
    "plt.ylabel('True Positive Rate')\n",
    "plt.legend()\n",
    "plt.title('ROC AUC Curve For Logistic Regression vs Random Forest')\n",
    "plt.show()"
   ]
  },
  {
   "cell_type": "markdown",
   "metadata": {},
   "source": [
    "These curves are basically right on top of each other."
   ]
  },
  {
   "cell_type": "markdown",
   "metadata": {},
   "source": [
    "### Why Solely Using Data Science Loss Metrics To Evaluate/Choose A Model Is Insufficient and  Problematic"
   ]
  },
  {
   "cell_type": "markdown",
   "metadata": {},
   "source": [
    "After looking at the above comparison between the two models, one could resaonably come to one of the following two conclusions for model selection:"
   ]
  },
  {
   "cell_type": "markdown",
   "metadata": {},
   "source": [
    "#### Potential Takeaway 1: The Random Forest has better  log-loss  and ROC-AUC on a held out dataset, therefore we should pick the Random Forest"
   ]
  },
  {
   "cell_type": "markdown",
   "metadata": {},
   "source": [
    "#### Potential Takeaway 2: The results are basically the same, so let's pick the Logistic Regresion because it's simpler and trains much  faster, and  the features are more interpretable"
   ]
  },
  {
   "cell_type": "markdown",
   "metadata": {},
   "source": [
    "Let's think a bit more about  this:"
   ]
  },
  {
   "attachments": {},
   "cell_type": "markdown",
   "metadata": {},
   "source": [
    "In the April 9th weekly Friends of Tracking series video, Laurie Shaw asked Liverpool data scientist Will Spearman what it means to \"improve a model\" and Will replied <b>\"I think the data scientist answer is your log loss goes down but I would almost never give that answer.\" \"We don't care about log-loss, we care about calibration and we care about the football interpretability of your results\"  </b>"
   ]
  },
  {
   "cell_type": "markdown",
   "metadata": {},
   "source": [
    "Link to video: https://www.youtube.com/watch?v=kHTq9cwdkGA&t=2707s (clip at around 56 minutes)"
   ]
  },
  {
   "cell_type": "markdown",
   "metadata": {},
   "source": [
    "Most machine learning models measure some sort of objective function, which is a mathematical output generated by the predictions and the true label. In the models we've fit so far, the objective function is the log-loss, and the model \"learns\" to optimize this quantity across all datapoints. The techniques we employed in the first two notebooks help us determine if the model is able to generalize to new data, and acheieve a satisfactory \"score\"  for this objective function on a held out data set."
   ]
  },
  {
   "cell_type": "markdown",
   "metadata": {},
   "source": [
    "Oftentimes optimizing an objective function is correlated but not directly related to what you hope to acheive with a model. Since we are optimizing an average quantity across a dataset, this could mean that the model is perfect in 99% of cases, but in 1% of cases is wildly off, which in theory could still optimize the global metric across all the datapoints."
   ]
  },
  {
   "cell_type": "markdown",
   "metadata": {},
   "source": [
    "As a data scientist in any industry, it is important to understand what the end goal of your work is (hint: unless it's Kaggle it's usually not optimizing log loss), and to develop tools and/or metrics to ensure successful delivery  and communication of key results"
   ]
  },
  {
   "cell_type": "markdown",
   "metadata": {},
   "source": [
    "As a soccer data scientist, your end goal is often to communicate key findings efficiently and effectively to a coach or player. Therefore, you need to be confident that your findings are accurate before presenting them. As Will Spearman said in the video linked above, \"you need to understand the ins and outs of your model, and understand where that model breaks down in  order to improve it.\""
   ]
  },
  {
   "cell_type": "markdown",
   "metadata": {},
   "source": [
    "Thus, you need to make sure that the specific output you are presenting is accurate/believable, otherwise you will lose credibility with the coach or player in the future."
   ]
  },
  {
   "cell_type": "markdown",
   "metadata": {},
   "source": [
    "To date, we have yet to build out anything that tests how accurate and understandable our models are. Therefore, we have no real way of knowing if the Random Forest or Logistic Regression is a better model for expected goals, despite employing quite a few sophisticated and well known data science techniques to build these models."
   ]
  },
  {
   "cell_type": "markdown",
   "metadata": {},
   "source": [
    "The purpose of the first 2 notebooks was to examine the strengths and weaknesses of these two model classes when trying to predict expected goals, which  will help  inform  us  when we test these models. In addition, the  notebooks help illustrate why traditional data science techniques are necessary but not sufficient to building an effective expected goals model."
   ]
  },
  {
   "cell_type": "markdown",
   "metadata": {},
   "source": [
    "In the rest of the series, we will focus on building tools to test and calibrate our models, and use these tools to find places where our model could be useful in presenting to a player or coach."
   ]
  }
 ],
 "metadata": {
  "kernelspec": {
   "display_name": "Python 3",
   "language": "python",
   "name": "python3"
  },
  "language_info": {
   "codemirror_mode": {
    "name": "ipython",
    "version": 3
   },
   "file_extension": ".py",
   "mimetype": "text/x-python",
   "name": "python",
   "nbconvert_exporter": "python",
   "pygments_lexer": "ipython3",
   "version": "3.7.6"
  }
 },
 "nbformat": 4,
 "nbformat_minor": 4
}
