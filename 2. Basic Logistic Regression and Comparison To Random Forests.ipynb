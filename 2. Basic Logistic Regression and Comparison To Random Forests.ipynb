{
 "cells": [
  {
   "cell_type": "markdown",
   "metadata": {},
   "source": [
    "##  Notebook 2: Building a Logistic Regression Model, Comparing Its Pros/Cons To Random Forests, And Why Using Traditional Data Sceince Tools Is Insufficient For Assessing Expected Goals Models"
   ]
  },
  {
   "cell_type": "markdown",
   "metadata": {},
   "source": [
    "Welcome to the 2nd notebook of my expected goals series! In this notebook, we will take a look at building a logistic regression model, with an emphasis on comparing strengths/weaknesses and paint points to a Random Forest. At the end, we will take a look at why the methodologies used in the first two notebooks are not sufficient to building a strong expected goals model, and preview what will come in the rest of the series."
   ]
  },
  {
   "cell_type": "markdown",
   "metadata": {},
   "source": [
    "For those that missed the 1st notebook, feel free to check it out  here: https://github.com/andrewsimplebet/expected_goals_deep_dive/blob/master/1.%20Random%20Forest%20Cross%20Validation%20And%20Hyperparameter%20Tuning.ipynb"
   ]
  },
  {
   "cell_type": "markdown",
   "metadata": {},
   "source": [
    "This notebook will not go nearly as in depth on building a strong logistic regression as @CleKraus, who touches on a lot of really important concepts when it comes to building a logistic regression model for expected goals. I will  mention a couple of these concepts during our abbreviated selection, but the process that @CleKraus went through will help inform some of the comparisons with the Random Forest built in Notebook 1"
   ]
  },
  {
   "cell_type": "markdown",
   "metadata": {},
   "source": [
    "@CleKraus' notebook: https://github.com/CleKraus/soccer_analytics/blob/master/notebooks/expected_goal_model_lr.ipynb"
   ]
  },
  {
   "cell_type": "markdown",
   "metadata": {},
   "source": [
    "Let's start by loading in our data, and performing the same train/test split that we did in the Random Forest model"
   ]
  },
  {
   "cell_type": "code",
   "execution_count": 1,
   "metadata": {},
   "outputs": [],
   "source": [
    "import pandas as pd\n",
    "import matplotlib.pyplot as plt\n",
    "from sklearn.model_selection import train_test_split\n",
    "from sklearn.metrics import log_loss, roc_auc_score, roc_curve\n",
    "from sklearn.ensemble import RandomForestClassifier\n",
    "from sklearn.linear_model import LogisticRegression\n",
    "import statsmodels.api as sm\n",
    "import statsmodels.formula.api as smf"
   ]
  },
  {
   "cell_type": "code",
   "execution_count": 2,
   "metadata": {},
   "outputs": [],
   "source": [
    "shots_model = pd.read_csv('shots_design_matrix.csv')\n",
    "shots_model=shots_model[shots_model['Distance'] < 75]\n",
    "shots_model = shots_model.drop(columns=['Unnamed: 0', 'firstName',  'lastName',  'label', 'venue', 'date', 'eventSec', 'matchPeriod'])\n",
    "y = shots_model['Goal']\n",
    "x = shots_model.drop(['Goal'], axis=1)\n",
    "x_train, x_test, y_train, y_test = train_test_split(x, y, test_size=0.2, random_state=42)"
   ]
  },
  {
   "cell_type": "markdown",
   "metadata": {},
   "source": [
    "### Building a Logistic Regression Model For Expected Goals"
   ]
  },
  {
   "cell_type": "markdown",
   "metadata": {},
   "source": [
    "For our initial Logistic Regression model, we will use the StatsModels implementation of Logistic Regression, as David does in his #FoT videos (https://www.youtube.com/channel/UCUBFJYcag8j2rm_9HkrrA7w/videos). We choose StatsModels initially because it provides nice outputs of p values associated with each feature, which aids in feature selection"
   ]
  },
  {
   "cell_type": "markdown",
   "metadata": {},
   "source": [
    "Like we did for our Random Forest, let's fit a naive Logistic Regression model without playing with any parameters or features, to see how it performs:"
   ]
  },
  {
   "cell_type": "code",
   "execution_count": 3,
   "metadata": {},
   "outputs": [],
   "source": [
    "initial_logistic_regression = sm.GLM(endog=y_train,exog=x_train,data=shots_model, \n",
    "                                           family=sm.families.Binomial()).fit()\n"
   ]
  },
  {
   "cell_type": "markdown",
   "metadata": {},
   "source": [
    "Like like we did with the Random Forest, let's look at its train/test performance"
   ]
  },
  {
   "cell_type": "code",
   "execution_count": 4,
   "metadata": {},
   "outputs": [
    {
     "name": "stdout",
     "output_type": "stream",
     "text": [
      "The log loss of our model on the training set is : 0.2766\n",
      "The ROC AUC of our model on the training set is : 0.781\n"
     ]
    }
   ],
   "source": [
    "train_y_hat = initial_logistic_regression.predict(x_train)\n",
    "naive_train_log_loss = log_loss(y_train, train_y_hat)\n",
    "naive_train_roc_auc = roc_auc_score(y_train, train_y_hat)\n",
    "print('The log loss of our model on the training set is : ' +str(round(naive_train_log_loss, 4)))\n",
    "print('The ROC AUC of our model on the training set is : ' +str(round(naive_train_roc_auc, 3)))"
   ]
  },
  {
   "cell_type": "code",
   "execution_count": 5,
   "metadata": {},
   "outputs": [
    {
     "name": "stdout",
     "output_type": "stream",
     "text": [
      "The log loss of our model on the test set is : 0.2808\n",
      "The ROC AUC of our model on the test set is : 0.781\n"
     ]
    }
   ],
   "source": [
    "test_y_hat = initial_logistic_regression.predict(x_test)\n",
    "naive_test_log_loss = log_loss(y_test, test_y_hat)\n",
    "naive_test_roc_auc = roc_auc_score(y_test, test_y_hat)\n",
    "print('The log loss of our model on the test set is : ' +str(round(naive_test_log_loss, 4)))\n",
    "print('The ROC AUC of our model on the test set is : ' +str(round(naive_test_roc_auc, 3)))"
   ]
  },
  {
   "cell_type": "code",
   "execution_count": 6,
   "metadata": {},
   "outputs": [],
   "source": [
    "train_fpr, train_tpr, train_thresholds = roc_curve(y_true=y_train, y_score=train_y_hat)\n",
    "test_fpr, test_tpr, test_thresholds = roc_curve(y_true=y_test, y_score=test_y_hat)"
   ]
  },
  {
   "cell_type": "code",
   "execution_count": 7,
   "metadata": {},
   "outputs": [
    {
     "data": {
      "image/png": "[encoded data removed]",
      "text/plain": [
       "<Figure size 432x288 with 1 Axes>"
      ]
     },
     "metadata": {
      "needs_background": "light"
     },
     "output_type": "display_data"
    }
   ],
   "source": [
    "plt.plot(train_fpr, train_tpr, label = 'Train ROC AUC')\n",
    "plt.plot(test_fpr, test_tpr, label = 'Test ROC AUC')\n",
    "plt.plot([0, 1], [0, 1], color = 'black', linewidth = 2, linestyle = '--')\n",
    "plt.xlabel('False Positive Rate')\n",
    "plt.ylabel('True Positive Rate')\n",
    "plt.legend()\n",
    "plt.title('ROC AUC Curve For Naive Logistic Regression Model On Train vs Test Set')\n",
    "plt.show()"
   ]
  },
  {
   "cell_type": "markdown",
   "metadata": {},
   "source": [
    "This is awesome! We find that the training and testing metrics are not far off from one another, so we are not running the risk of overfitting to our training set. In addition, we find that the loss metrics out of sample are very close to the loss metrics produced by the Random Forest model in Notebook 1."
   ]
  },
  {
   "cell_type": "markdown",
   "metadata": {},
   "source": [
    "One of the advantages of logistic regression is that it's very easy to tell which features are important. To do this, we can simply look at the p values provided by the model However, we must be incredibly careful to consider the assumptions that underlie these p values"
   ]
  },
  {
   "cell_type": "code",
   "execution_count": 8,
   "metadata": {},
   "outputs": [
    {
     "name": "stdout",
     "output_type": "stream",
     "text": [
      "                 Generalized Linear Model Regression Results                  \n",
      "==============================================================================\n",
      "Dep. Variable:                   Goal   No. Observations:                36207\n",
      "Model:                            GLM   Df Residuals:                    36188\n",
      "Model Family:                Binomial   Df Model:                           18\n",
      "Link Function:                  logit   Scale:                          1.0000\n",
      "Method:                          IRLS   Log-Likelihood:                -10015.\n",
      "Date:                Sat, 16 May 2020   Deviance:                       20030.\n",
      "Time:                        17:38:09   Pearson chi2:                 4.17e+04\n",
      "No. Iterations:                     7                                         \n",
      "Covariance Type:            nonrobust                                         \n",
      "===================================================================================\n",
      "                      coef    std err          z      P>|z|      [0.025      0.975]\n",
      "-----------------------------------------------------------------------------------\n",
      "X                   0.0702      0.025      2.835      0.005       0.022       0.119\n",
      "Y                  -0.0023      0.003     -0.801      0.423      -0.008       0.003\n",
      "side_of_field       0.0008      0.064      0.012      0.991      -0.125       0.127\n",
      "left_foot          -0.3469      0.118     -2.933      0.003      -0.579      -0.115\n",
      "right_foot         -0.4582      0.121     -3.772      0.000      -0.696      -0.220\n",
      "header             -1.5623      0.236     -6.609      0.000      -2.026      -1.099\n",
      "counter_attack      0.5888      0.072      8.232      0.000       0.449       0.729\n",
      "strong_foot         0.1773      0.056      3.175      0.001       0.068       0.287\n",
      "C                   0.0131      0.009      1.520      0.128      -0.004       0.030\n",
      "Distance           -0.1866      0.028     -6.769      0.000      -0.241      -0.133\n",
      "Angle               1.4274      0.116     12.327      0.000       1.200       1.654\n",
      "out_swinging       -0.4017      0.118     -3.396      0.001      -0.633      -0.170\n",
      "in_swinging        -0.4035      0.121     -3.346      0.001      -0.640      -0.167\n",
      "rebound             0.1988      0.155      1.281      0.200      -0.105       0.503\n",
      "prev_cross         -0.2229      0.068     -3.272      0.001      -0.356      -0.089\n",
      "prev_touch          0.0009      0.085      0.011      0.991      -0.166       0.168\n",
      "prev_pass          -0.0370      0.066     -0.560      0.576      -0.167       0.093\n",
      "prev_smart_pass     0.3506      0.087      4.034      0.000       0.180       0.521\n",
      "free_kick           0.9139      0.121      7.531      0.000       0.676       1.152\n",
      "prev_duel          -0.2605      0.062     -4.185      0.000      -0.382      -0.138\n",
      "===================================================================================\n"
     ]
    }
   ],
   "source": [
    "print(initial_logistic_regression.summary())"
   ]
  },
  {
   "cell_type": "markdown",
   "metadata": {},
   "source": [
    "From this we can see that almost all of our variables are statistically significant. The 6 variables that aren't significant (at least by the naive p value test) are Y, side of field, C, prev_cross, prev_pass and prev_duel. These aren't quite the same as the Random Forest, but there's a bit of overlap. However, let's look a little deeper"
   ]
  },
  {
   "cell_type": "markdown",
   "metadata": {},
   "source": [
    "One of the major assumptions of logistic regression is that the features are independent of each other. In this model,  that isn't quite the case. First, let's take a look at the pairwise correlations between variables"
   ]
  },
  {
   "cell_type": "code",
   "execution_count": 9,
   "metadata": {},
   "outputs": [
    {
     "data": {
      "text/html": [
       "<div>\n",
       "<style scoped>\n",
       "    .dataframe tbody tr th:only-of-type {\n",
       "        vertical-align: middle;\n",
       "    }\n",
       "\n",
       "    .dataframe tbody tr th {\n",
       "        vertical-align: top;\n",
       "    }\n",
       "\n",
       "    .dataframe thead th {\n",
       "        text-align: right;\n",
       "    }\n",
       "</style>\n",
       "<table border=\"1\" class=\"dataframe\">\n",
       "  <thead>\n",
       "    <tr style=\"text-align: right;\">\n",
       "      <th></th>\n",
       "      <th>X</th>\n",
       "      <th>Y</th>\n",
       "      <th>side_of_field</th>\n",
       "      <th>left_foot</th>\n",
       "      <th>right_foot</th>\n",
       "      <th>header</th>\n",
       "      <th>counter_attack</th>\n",
       "      <th>strong_foot</th>\n",
       "      <th>C</th>\n",
       "      <th>Distance</th>\n",
       "      <th>Angle</th>\n",
       "      <th>out_swinging</th>\n",
       "      <th>in_swinging</th>\n",
       "      <th>rebound</th>\n",
       "      <th>prev_cross</th>\n",
       "      <th>prev_touch</th>\n",
       "      <th>prev_pass</th>\n",
       "      <th>prev_smart_pass</th>\n",
       "      <th>free_kick</th>\n",
       "      <th>prev_duel</th>\n",
       "    </tr>\n",
       "  </thead>\n",
       "  <tbody>\n",
       "    <tr>\n",
       "      <th>X</th>\n",
       "      <td>1.000000</td>\n",
       "      <td>-0.015096</td>\n",
       "      <td>0.006353</td>\n",
       "      <td>0.089307</td>\n",
       "      <td>0.187432</td>\n",
       "      <td>-0.375670</td>\n",
       "      <td>-0.024322</td>\n",
       "      <td>0.330379</td>\n",
       "      <td>0.153824</td>\n",
       "      <td>0.953034</td>\n",
       "      <td>-0.609440</td>\n",
       "      <td>0.049536</td>\n",
       "      <td>0.227235</td>\n",
       "      <td>-0.068877</td>\n",
       "      <td>-0.284290</td>\n",
       "      <td>0.006184</td>\n",
       "      <td>0.266322</td>\n",
       "      <td>-0.135068</td>\n",
       "      <td>0.236231</td>\n",
       "      <td>-0.111657</td>\n",
       "    </tr>\n",
       "    <tr>\n",
       "      <th>Y</th>\n",
       "      <td>-0.015096</td>\n",
       "      <td>1.000000</td>\n",
       "      <td>-0.829921</td>\n",
       "      <td>-0.055751</td>\n",
       "      <td>0.046365</td>\n",
       "      <td>0.008501</td>\n",
       "      <td>-0.002728</td>\n",
       "      <td>0.022929</td>\n",
       "      <td>-0.075884</td>\n",
       "      <td>-0.036020</td>\n",
       "      <td>0.034063</td>\n",
       "      <td>0.155645</td>\n",
       "      <td>-0.164732</td>\n",
       "      <td>0.005452</td>\n",
       "      <td>0.005494</td>\n",
       "      <td>0.010798</td>\n",
       "      <td>0.007057</td>\n",
       "      <td>0.015306</td>\n",
       "      <td>-0.007076</td>\n",
       "      <td>-0.025974</td>\n",
       "    </tr>\n",
       "    <tr>\n",
       "      <th>side_of_field</th>\n",
       "      <td>0.006353</td>\n",
       "      <td>-0.829921</td>\n",
       "      <td>1.000000</td>\n",
       "      <td>0.065148</td>\n",
       "      <td>-0.056296</td>\n",
       "      <td>-0.007006</td>\n",
       "      <td>0.002261</td>\n",
       "      <td>-0.026792</td>\n",
       "      <td>0.080672</td>\n",
       "      <td>0.024846</td>\n",
       "      <td>-0.035815</td>\n",
       "      <td>-0.181900</td>\n",
       "      <td>0.190354</td>\n",
       "      <td>-0.001261</td>\n",
       "      <td>-0.007047</td>\n",
       "      <td>0.000233</td>\n",
       "      <td>-0.009272</td>\n",
       "      <td>-0.011155</td>\n",
       "      <td>0.001946</td>\n",
       "      <td>0.017873</td>\n",
       "    </tr>\n",
       "    <tr>\n",
       "      <th>left_foot</th>\n",
       "      <td>0.089307</td>\n",
       "      <td>-0.055751</td>\n",
       "      <td>0.065148</td>\n",
       "      <td>1.000000</td>\n",
       "      <td>-0.724425</td>\n",
       "      <td>-0.300801</td>\n",
       "      <td>0.029839</td>\n",
       "      <td>-0.153698</td>\n",
       "      <td>0.099475</td>\n",
       "      <td>0.112944</td>\n",
       "      <td>-0.133580</td>\n",
       "      <td>0.144678</td>\n",
       "      <td>0.075043</td>\n",
       "      <td>0.003837</td>\n",
       "      <td>-0.096352</td>\n",
       "      <td>0.031505</td>\n",
       "      <td>0.044416</td>\n",
       "      <td>0.016290</td>\n",
       "      <td>0.028573</td>\n",
       "      <td>-0.019779</td>\n",
       "    </tr>\n",
       "    <tr>\n",
       "      <th>right_foot</th>\n",
       "      <td>0.187432</td>\n",
       "      <td>0.046365</td>\n",
       "      <td>-0.056296</td>\n",
       "      <td>-0.724425</td>\n",
       "      <td>1.000000</td>\n",
       "      <td>-0.439520</td>\n",
       "      <td>0.029656</td>\n",
       "      <td>0.576729</td>\n",
       "      <td>0.104327</td>\n",
       "      <td>0.207054</td>\n",
       "      <td>-0.192116</td>\n",
       "      <td>0.143593</td>\n",
       "      <td>0.178677</td>\n",
       "      <td>0.004783</td>\n",
       "      <td>-0.121483</td>\n",
       "      <td>0.024992</td>\n",
       "      <td>0.129895</td>\n",
       "      <td>0.041736</td>\n",
       "      <td>0.043090</td>\n",
       "      <td>-0.116588</td>\n",
       "    </tr>\n",
       "    <tr>\n",
       "      <th>header</th>\n",
       "      <td>-0.375670</td>\n",
       "      <td>0.008501</td>\n",
       "      <td>-0.007006</td>\n",
       "      <td>-0.300801</td>\n",
       "      <td>-0.439520</td>\n",
       "      <td>1.000000</td>\n",
       "      <td>-0.079908</td>\n",
       "      <td>-0.597606</td>\n",
       "      <td>-0.273947</td>\n",
       "      <td>-0.433615</td>\n",
       "      <td>0.439838</td>\n",
       "      <td>-0.387170</td>\n",
       "      <td>-0.344972</td>\n",
       "      <td>-0.011617</td>\n",
       "      <td>0.293613</td>\n",
       "      <td>-0.075627</td>\n",
       "      <td>-0.237577</td>\n",
       "      <td>-0.078966</td>\n",
       "      <td>-0.096843</td>\n",
       "      <td>0.187066</td>\n",
       "    </tr>\n",
       "    <tr>\n",
       "      <th>counter_attack</th>\n",
       "      <td>-0.024322</td>\n",
       "      <td>-0.002728</td>\n",
       "      <td>0.002261</td>\n",
       "      <td>0.029839</td>\n",
       "      <td>0.029656</td>\n",
       "      <td>-0.079908</td>\n",
       "      <td>1.000000</td>\n",
       "      <td>0.040910</td>\n",
       "      <td>0.030556</td>\n",
       "      <td>-0.012878</td>\n",
       "      <td>-0.037812</td>\n",
       "      <td>0.062583</td>\n",
       "      <td>-0.004649</td>\n",
       "      <td>-0.010526</td>\n",
       "      <td>-0.037706</td>\n",
       "      <td>-0.033182</td>\n",
       "      <td>0.027255</td>\n",
       "      <td>0.063761</td>\n",
       "      <td>-0.053825</td>\n",
       "      <td>0.017646</td>\n",
       "    </tr>\n",
       "    <tr>\n",
       "      <th>strong_foot</th>\n",
       "      <td>0.330379</td>\n",
       "      <td>0.022929</td>\n",
       "      <td>-0.026792</td>\n",
       "      <td>-0.153698</td>\n",
       "      <td>0.576729</td>\n",
       "      <td>-0.597606</td>\n",
       "      <td>0.040910</td>\n",
       "      <td>1.000000</td>\n",
       "      <td>0.208713</td>\n",
       "      <td>0.370345</td>\n",
       "      <td>-0.326899</td>\n",
       "      <td>0.211775</td>\n",
       "      <td>0.226111</td>\n",
       "      <td>-0.007711</td>\n",
       "      <td>-0.193895</td>\n",
       "      <td>0.030970</td>\n",
       "      <td>0.195147</td>\n",
       "      <td>0.034980</td>\n",
       "      <td>0.153737</td>\n",
       "      <td>-0.177238</td>\n",
       "    </tr>\n",
       "    <tr>\n",
       "      <th>C</th>\n",
       "      <td>0.153824</td>\n",
       "      <td>-0.075884</td>\n",
       "      <td>0.080672</td>\n",
       "      <td>0.099475</td>\n",
       "      <td>0.104327</td>\n",
       "      <td>-0.273947</td>\n",
       "      <td>0.030556</td>\n",
       "      <td>0.208713</td>\n",
       "      <td>1.000000</td>\n",
       "      <td>0.423610</td>\n",
       "      <td>-0.564326</td>\n",
       "      <td>0.085671</td>\n",
       "      <td>0.115265</td>\n",
       "      <td>-0.037238</td>\n",
       "      <td>-0.180362</td>\n",
       "      <td>-0.013815</td>\n",
       "      <td>0.056503</td>\n",
       "      <td>0.032145</td>\n",
       "      <td>0.120330</td>\n",
       "      <td>0.016746</td>\n",
       "    </tr>\n",
       "    <tr>\n",
       "      <th>Distance</th>\n",
       "      <td>0.953034</td>\n",
       "      <td>-0.036020</td>\n",
       "      <td>0.024846</td>\n",
       "      <td>0.112944</td>\n",
       "      <td>0.207054</td>\n",
       "      <td>-0.433615</td>\n",
       "      <td>-0.012878</td>\n",
       "      <td>0.370345</td>\n",
       "      <td>0.423610</td>\n",
       "      <td>1.000000</td>\n",
       "      <td>-0.745186</td>\n",
       "      <td>0.081777</td>\n",
       "      <td>0.237242</td>\n",
       "      <td>-0.073858</td>\n",
       "      <td>-0.318095</td>\n",
       "      <td>0.002309</td>\n",
       "      <td>0.259532</td>\n",
       "      <td>-0.109401</td>\n",
       "      <td>0.256582</td>\n",
       "      <td>-0.099721</td>\n",
       "    </tr>\n",
       "    <tr>\n",
       "      <th>Angle</th>\n",
       "      <td>-0.609440</td>\n",
       "      <td>0.034063</td>\n",
       "      <td>-0.035815</td>\n",
       "      <td>-0.133580</td>\n",
       "      <td>-0.192116</td>\n",
       "      <td>0.439838</td>\n",
       "      <td>-0.037812</td>\n",
       "      <td>-0.326899</td>\n",
       "      <td>-0.564326</td>\n",
       "      <td>-0.745186</td>\n",
       "      <td>1.000000</td>\n",
       "      <td>-0.137435</td>\n",
       "      <td>-0.185181</td>\n",
       "      <td>0.082280</td>\n",
       "      <td>0.292369</td>\n",
       "      <td>0.007155</td>\n",
       "      <td>-0.187509</td>\n",
       "      <td>0.007142</td>\n",
       "      <td>-0.160938</td>\n",
       "      <td>0.031895</td>\n",
       "    </tr>\n",
       "    <tr>\n",
       "      <th>out_swinging</th>\n",
       "      <td>0.049536</td>\n",
       "      <td>0.155645</td>\n",
       "      <td>-0.181900</td>\n",
       "      <td>0.144678</td>\n",
       "      <td>0.143593</td>\n",
       "      <td>-0.387170</td>\n",
       "      <td>0.062583</td>\n",
       "      <td>0.211775</td>\n",
       "      <td>0.085671</td>\n",
       "      <td>0.081777</td>\n",
       "      <td>-0.137435</td>\n",
       "      <td>1.000000</td>\n",
       "      <td>-0.731846</td>\n",
       "      <td>0.018810</td>\n",
       "      <td>-0.080933</td>\n",
       "      <td>0.046614</td>\n",
       "      <td>0.129234</td>\n",
       "      <td>0.115461</td>\n",
       "      <td>-0.071490</td>\n",
       "      <td>-0.159118</td>\n",
       "    </tr>\n",
       "    <tr>\n",
       "      <th>in_swinging</th>\n",
       "      <td>0.227235</td>\n",
       "      <td>-0.164732</td>\n",
       "      <td>0.190354</td>\n",
       "      <td>0.075043</td>\n",
       "      <td>0.178677</td>\n",
       "      <td>-0.344972</td>\n",
       "      <td>-0.004649</td>\n",
       "      <td>0.226111</td>\n",
       "      <td>0.115265</td>\n",
       "      <td>0.237242</td>\n",
       "      <td>-0.185181</td>\n",
       "      <td>-0.731846</td>\n",
       "      <td>1.000000</td>\n",
       "      <td>-0.010562</td>\n",
       "      <td>-0.134623</td>\n",
       "      <td>0.008443</td>\n",
       "      <td>0.044035</td>\n",
       "      <td>-0.059176</td>\n",
       "      <td>0.144355</td>\n",
       "      <td>0.023721</td>\n",
       "    </tr>\n",
       "    <tr>\n",
       "      <th>rebound</th>\n",
       "      <td>-0.068877</td>\n",
       "      <td>0.005452</td>\n",
       "      <td>-0.001261</td>\n",
       "      <td>0.003837</td>\n",
       "      <td>0.004783</td>\n",
       "      <td>-0.011617</td>\n",
       "      <td>-0.010526</td>\n",
       "      <td>-0.007711</td>\n",
       "      <td>-0.037238</td>\n",
       "      <td>-0.073858</td>\n",
       "      <td>0.082280</td>\n",
       "      <td>0.018810</td>\n",
       "      <td>-0.010562</td>\n",
       "      <td>1.000000</td>\n",
       "      <td>-0.033942</td>\n",
       "      <td>-0.024022</td>\n",
       "      <td>-0.053136</td>\n",
       "      <td>-0.018524</td>\n",
       "      <td>-0.020656</td>\n",
       "      <td>-0.062509</td>\n",
       "    </tr>\n",
       "    <tr>\n",
       "      <th>prev_cross</th>\n",
       "      <td>-0.284290</td>\n",
       "      <td>0.005494</td>\n",
       "      <td>-0.007047</td>\n",
       "      <td>-0.096352</td>\n",
       "      <td>-0.121483</td>\n",
       "      <td>0.293613</td>\n",
       "      <td>-0.037706</td>\n",
       "      <td>-0.193895</td>\n",
       "      <td>-0.180362</td>\n",
       "      <td>-0.318095</td>\n",
       "      <td>0.292369</td>\n",
       "      <td>-0.080933</td>\n",
       "      <td>-0.134623</td>\n",
       "      <td>-0.033942</td>\n",
       "      <td>1.000000</td>\n",
       "      <td>-0.098920</td>\n",
       "      <td>-0.218806</td>\n",
       "      <td>-0.076278</td>\n",
       "      <td>-0.085059</td>\n",
       "      <td>-0.257403</td>\n",
       "    </tr>\n",
       "    <tr>\n",
       "      <th>prev_touch</th>\n",
       "      <td>0.006184</td>\n",
       "      <td>0.010798</td>\n",
       "      <td>0.000233</td>\n",
       "      <td>0.031505</td>\n",
       "      <td>0.024992</td>\n",
       "      <td>-0.075627</td>\n",
       "      <td>-0.033182</td>\n",
       "      <td>0.030970</td>\n",
       "      <td>-0.013815</td>\n",
       "      <td>0.002309</td>\n",
       "      <td>0.007155</td>\n",
       "      <td>0.046614</td>\n",
       "      <td>0.008443</td>\n",
       "      <td>-0.024022</td>\n",
       "      <td>-0.098920</td>\n",
       "      <td>1.000000</td>\n",
       "      <td>-0.154859</td>\n",
       "      <td>-0.053985</td>\n",
       "      <td>-0.060200</td>\n",
       "      <td>-0.182176</td>\n",
       "    </tr>\n",
       "    <tr>\n",
       "      <th>prev_pass</th>\n",
       "      <td>0.266322</td>\n",
       "      <td>0.007057</td>\n",
       "      <td>-0.009272</td>\n",
       "      <td>0.044416</td>\n",
       "      <td>0.129895</td>\n",
       "      <td>-0.237577</td>\n",
       "      <td>0.027255</td>\n",
       "      <td>0.195147</td>\n",
       "      <td>0.056503</td>\n",
       "      <td>0.259532</td>\n",
       "      <td>-0.187509</td>\n",
       "      <td>0.129234</td>\n",
       "      <td>0.044035</td>\n",
       "      <td>-0.053136</td>\n",
       "      <td>-0.218806</td>\n",
       "      <td>-0.154859</td>\n",
       "      <td>1.000000</td>\n",
       "      <td>-0.119413</td>\n",
       "      <td>-0.133160</td>\n",
       "      <td>-0.402965</td>\n",
       "    </tr>\n",
       "    <tr>\n",
       "      <th>prev_smart_pass</th>\n",
       "      <td>-0.135068</td>\n",
       "      <td>0.015306</td>\n",
       "      <td>-0.011155</td>\n",
       "      <td>0.016290</td>\n",
       "      <td>0.041736</td>\n",
       "      <td>-0.078966</td>\n",
       "      <td>0.063761</td>\n",
       "      <td>0.034980</td>\n",
       "      <td>0.032145</td>\n",
       "      <td>-0.109401</td>\n",
       "      <td>0.007142</td>\n",
       "      <td>0.115461</td>\n",
       "      <td>-0.059176</td>\n",
       "      <td>-0.018524</td>\n",
       "      <td>-0.076278</td>\n",
       "      <td>-0.053985</td>\n",
       "      <td>-0.119413</td>\n",
       "      <td>1.000000</td>\n",
       "      <td>-0.046421</td>\n",
       "      <td>-0.140477</td>\n",
       "    </tr>\n",
       "    <tr>\n",
       "      <th>free_kick</th>\n",
       "      <td>0.236231</td>\n",
       "      <td>-0.007076</td>\n",
       "      <td>0.001946</td>\n",
       "      <td>0.028573</td>\n",
       "      <td>0.043090</td>\n",
       "      <td>-0.096843</td>\n",
       "      <td>-0.053825</td>\n",
       "      <td>0.153737</td>\n",
       "      <td>0.120330</td>\n",
       "      <td>0.256582</td>\n",
       "      <td>-0.160938</td>\n",
       "      <td>-0.071490</td>\n",
       "      <td>0.144355</td>\n",
       "      <td>-0.020656</td>\n",
       "      <td>-0.085059</td>\n",
       "      <td>-0.060200</td>\n",
       "      <td>-0.133160</td>\n",
       "      <td>-0.046421</td>\n",
       "      <td>1.000000</td>\n",
       "      <td>-0.156649</td>\n",
       "    </tr>\n",
       "    <tr>\n",
       "      <th>prev_duel</th>\n",
       "      <td>-0.111657</td>\n",
       "      <td>-0.025974</td>\n",
       "      <td>0.017873</td>\n",
       "      <td>-0.019779</td>\n",
       "      <td>-0.116588</td>\n",
       "      <td>0.187066</td>\n",
       "      <td>0.017646</td>\n",
       "      <td>-0.177238</td>\n",
       "      <td>0.016746</td>\n",
       "      <td>-0.099721</td>\n",
       "      <td>0.031895</td>\n",
       "      <td>-0.159118</td>\n",
       "      <td>0.023721</td>\n",
       "      <td>-0.062509</td>\n",
       "      <td>-0.257403</td>\n",
       "      <td>-0.182176</td>\n",
       "      <td>-0.402965</td>\n",
       "      <td>-0.140477</td>\n",
       "      <td>-0.156649</td>\n",
       "      <td>1.000000</td>\n",
       "    </tr>\n",
       "  </tbody>\n",
       "</table>\n",
       "</div>"
      ],
      "text/plain": [
       "                        X         Y  side_of_field  left_foot  right_foot  \\\n",
       "X                1.000000 -0.015096       0.006353   0.089307    0.187432   \n",
       "Y               -0.015096  1.000000      -0.829921  -0.055751    0.046365   \n",
       "side_of_field    0.006353 -0.829921       1.000000   0.065148   -0.056296   \n",
       "left_foot        0.089307 -0.055751       0.065148   1.000000   -0.724425   \n",
       "right_foot       0.187432  0.046365      -0.056296  -0.724425    1.000000   \n",
       "header          -0.375670  0.008501      -0.007006  -0.300801   -0.439520   \n",
       "counter_attack  -0.024322 -0.002728       0.002261   0.029839    0.029656   \n",
       "strong_foot      0.330379  0.022929      -0.026792  -0.153698    0.576729   \n",
       "C                0.153824 -0.075884       0.080672   0.099475    0.104327   \n",
       "Distance         0.953034 -0.036020       0.024846   0.112944    0.207054   \n",
       "Angle           -0.609440  0.034063      -0.035815  -0.133580   -0.192116   \n",
       "out_swinging     0.049536  0.155645      -0.181900   0.144678    0.143593   \n",
       "in_swinging      0.227235 -0.164732       0.190354   0.075043    0.178677   \n",
       "rebound         -0.068877  0.005452      -0.001261   0.003837    0.004783   \n",
       "prev_cross      -0.284290  0.005494      -0.007047  -0.096352   -0.121483   \n",
       "prev_touch       0.006184  0.010798       0.000233   0.031505    0.024992   \n",
       "prev_pass        0.266322  0.007057      -0.009272   0.044416    0.129895   \n",
       "prev_smart_pass -0.135068  0.015306      -0.011155   0.016290    0.041736   \n",
       "free_kick        0.236231 -0.007076       0.001946   0.028573    0.043090   \n",
       "prev_duel       -0.111657 -0.025974       0.017873  -0.019779   -0.116588   \n",
       "\n",
       "                   header  counter_attack  strong_foot         C  Distance  \\\n",
       "X               -0.375670       -0.024322     0.330379  0.153824  0.953034   \n",
       "Y                0.008501       -0.002728     0.022929 -0.075884 -0.036020   \n",
       "side_of_field   -0.007006        0.002261    -0.026792  0.080672  0.024846   \n",
       "left_foot       -0.300801        0.029839    -0.153698  0.099475  0.112944   \n",
       "right_foot      -0.439520        0.029656     0.576729  0.104327  0.207054   \n",
       "header           1.000000       -0.079908    -0.597606 -0.273947 -0.433615   \n",
       "counter_attack  -0.079908        1.000000     0.040910  0.030556 -0.012878   \n",
       "strong_foot     -0.597606        0.040910     1.000000  0.208713  0.370345   \n",
       "C               -0.273947        0.030556     0.208713  1.000000  0.423610   \n",
       "Distance        -0.433615       -0.012878     0.370345  0.423610  1.000000   \n",
       "Angle            0.439838       -0.037812    -0.326899 -0.564326 -0.745186   \n",
       "out_swinging    -0.387170        0.062583     0.211775  0.085671  0.081777   \n",
       "in_swinging     -0.344972       -0.004649     0.226111  0.115265  0.237242   \n",
       "rebound         -0.011617       -0.010526    -0.007711 -0.037238 -0.073858   \n",
       "prev_cross       0.293613       -0.037706    -0.193895 -0.180362 -0.318095   \n",
       "prev_touch      -0.075627       -0.033182     0.030970 -0.013815  0.002309   \n",
       "prev_pass       -0.237577        0.027255     0.195147  0.056503  0.259532   \n",
       "prev_smart_pass -0.078966        0.063761     0.034980  0.032145 -0.109401   \n",
       "free_kick       -0.096843       -0.053825     0.153737  0.120330  0.256582   \n",
       "prev_duel        0.187066        0.017646    -0.177238  0.016746 -0.099721   \n",
       "\n",
       "                    Angle  out_swinging  in_swinging   rebound  prev_cross  \\\n",
       "X               -0.609440      0.049536     0.227235 -0.068877   -0.284290   \n",
       "Y                0.034063      0.155645    -0.164732  0.005452    0.005494   \n",
       "side_of_field   -0.035815     -0.181900     0.190354 -0.001261   -0.007047   \n",
       "left_foot       -0.133580      0.144678     0.075043  0.003837   -0.096352   \n",
       "right_foot      -0.192116      0.143593     0.178677  0.004783   -0.121483   \n",
       "header           0.439838     -0.387170    -0.344972 -0.011617    0.293613   \n",
       "counter_attack  -0.037812      0.062583    -0.004649 -0.010526   -0.037706   \n",
       "strong_foot     -0.326899      0.211775     0.226111 -0.007711   -0.193895   \n",
       "C               -0.564326      0.085671     0.115265 -0.037238   -0.180362   \n",
       "Distance        -0.745186      0.081777     0.237242 -0.073858   -0.318095   \n",
       "Angle            1.000000     -0.137435    -0.185181  0.082280    0.292369   \n",
       "out_swinging    -0.137435      1.000000    -0.731846  0.018810   -0.080933   \n",
       "in_swinging     -0.185181     -0.731846     1.000000 -0.010562   -0.134623   \n",
       "rebound          0.082280      0.018810    -0.010562  1.000000   -0.033942   \n",
       "prev_cross       0.292369     -0.080933    -0.134623 -0.033942    1.000000   \n",
       "prev_touch       0.007155      0.046614     0.008443 -0.024022   -0.098920   \n",
       "prev_pass       -0.187509      0.129234     0.044035 -0.053136   -0.218806   \n",
       "prev_smart_pass  0.007142      0.115461    -0.059176 -0.018524   -0.076278   \n",
       "free_kick       -0.160938     -0.071490     0.144355 -0.020656   -0.085059   \n",
       "prev_duel        0.031895     -0.159118     0.023721 -0.062509   -0.257403   \n",
       "\n",
       "                 prev_touch  prev_pass  prev_smart_pass  free_kick  prev_duel  \n",
       "X                  0.006184   0.266322        -0.135068   0.236231  -0.111657  \n",
       "Y                  0.010798   0.007057         0.015306  -0.007076  -0.025974  \n",
       "side_of_field      0.000233  -0.009272        -0.011155   0.001946   0.017873  \n",
       "left_foot          0.031505   0.044416         0.016290   0.028573  -0.019779  \n",
       "right_foot         0.024992   0.129895         0.041736   0.043090  -0.116588  \n",
       "header            -0.075627  -0.237577        -0.078966  -0.096843   0.187066  \n",
       "counter_attack    -0.033182   0.027255         0.063761  -0.053825   0.017646  \n",
       "strong_foot        0.030970   0.195147         0.034980   0.153737  -0.177238  \n",
       "C                 -0.013815   0.056503         0.032145   0.120330   0.016746  \n",
       "Distance           0.002309   0.259532        -0.109401   0.256582  -0.099721  \n",
       "Angle              0.007155  -0.187509         0.007142  -0.160938   0.031895  \n",
       "out_swinging       0.046614   0.129234         0.115461  -0.071490  -0.159118  \n",
       "in_swinging        0.008443   0.044035        -0.059176   0.144355   0.023721  \n",
       "rebound           -0.024022  -0.053136        -0.018524  -0.020656  -0.062509  \n",
       "prev_cross        -0.098920  -0.218806        -0.076278  -0.085059  -0.257403  \n",
       "prev_touch         1.000000  -0.154859        -0.053985  -0.060200  -0.182176  \n",
       "prev_pass         -0.154859   1.000000        -0.119413  -0.133160  -0.402965  \n",
       "prev_smart_pass   -0.053985  -0.119413         1.000000  -0.046421  -0.140477  \n",
       "free_kick         -0.060200  -0.133160        -0.046421   1.000000  -0.156649  \n",
       "prev_duel         -0.182176  -0.402965        -0.140477  -0.156649   1.000000  "
      ]
     },
     "execution_count": 9,
     "metadata": {},
     "output_type": "execute_result"
    }
   ],
   "source": [
    "x_train.corr()"
   ]
  },
  {
   "cell_type": "markdown",
   "metadata": {},
   "source": [
    "This table might be a bit big and unwieldy, but we can pick out some variables that are insanely correlated: ``X/C``, ``Y/side of field``, ``left_foot``/``right_foot``, ``Distance/Angle``, and ``in_swinging/out_swinging``, ``Angle/X``. "
   ]
  },
  {
   "cell_type": "markdown",
   "metadata": {},
   "source": [
    "This makes sense, as all of these variables are derived from one another. For example ``in_swinging/outswinging`` are linear combinations  of ``right_foot``, ``left_foot`` and ``side_of_field``, while ``header``, ``left_foot`` and ``right_foot`` are also linear combinations of one another. In addition, ``Distance`` is directly derived from ``X`` and ``Y``, ``C`` is directly derived from ``Y``, and ``Angle`` is also derived from some of these variables. Thus, we must be really  careful when determining what features to remove to remove collinearity."
   ]
  },
  {
   "cell_type": "markdown",
   "metadata": {},
   "source": [
    "**To be honest, I am not sure if my following steps are correct, so please take this with a grain  of salt. However, this process will help illustrate some important points when we compare the pros/cons of logistic regression  to Random Forest**"
   ]
  },
  {
   "cell_type": "markdown",
   "metadata": {},
   "source": [
    "**If you have suggestions for a better process, please reach out to me on Twitter @andrew_puopolo or by email puopolo4@gmail.com**"
   ]
  },
  {
   "cell_type": "markdown",
   "metadata": {},
   "source": [
    "Anyways, looking at the output from the previous logistic regression, we can safely remove Y, left_foot (due to being linearly dependent on right_foot and header). We leave C in due to the fact that it was originally dependent  on ``Y`` and ``side of field``.  We will also drop  ``side of field`` as the effect from that has been covered by the features  ``in_swinging`` and ``out_swinging``"
   ]
  },
  {
   "cell_type": "code",
   "execution_count": 10,
   "metadata": {},
   "outputs": [],
   "source": [
    "second_x_train = x_train.drop(columns=['Y', 'side_of_field', 'left_foot','prev_touch', 'prev_pass'])\n",
    "second_x_test = x_test.drop(columns=['Y', 'side_of_field', 'left_foot','prev_touch', 'prev_pass'])"
   ]
  },
  {
   "cell_type": "code",
   "execution_count": 11,
   "metadata": {},
   "outputs": [
    {
     "name": "stdout",
     "output_type": "stream",
     "text": [
      "                 Generalized Linear Model Regression Results                  \n",
      "==============================================================================\n",
      "Dep. Variable:                   Goal   No. Observations:                36207\n",
      "Model:                            GLM   Df Residuals:                    36192\n",
      "Model Family:                Binomial   Df Model:                           14\n",
      "Link Function:                  logit   Scale:                          1.0000\n",
      "Method:                          IRLS   Log-Likelihood:                -10016.\n",
      "Date:                Sat, 16 May 2020   Deviance:                       20032.\n",
      "Time:                        17:38:17   Pearson chi2:                 4.19e+04\n",
      "No. Iterations:                     7                                         \n",
      "Covariance Type:            nonrobust                                         \n",
      "===================================================================================\n",
      "                      coef    std err          z      P>|z|      [0.025      0.975]\n",
      "-----------------------------------------------------------------------------------\n",
      "X                   0.0693      0.025      2.808      0.005       0.021       0.118\n",
      "right_foot         -0.1185      0.048     -2.461      0.014      -0.213      -0.024\n",
      "header             -1.6934      0.151    -11.205      0.000      -1.990      -1.397\n",
      "counter_attack      0.5867      0.071      8.222      0.000       0.447       0.727\n",
      "strong_foot         0.1740      0.056      3.119      0.002       0.065       0.283\n",
      "C                   0.0132      0.009      1.539      0.124      -0.004       0.030\n",
      "Distance           -0.1859      0.027     -6.772      0.000      -0.240      -0.132\n",
      "Angle               1.4300      0.116     12.361      0.000       1.203       1.657\n",
      "out_swinging       -0.8791      0.149     -5.912      0.000      -1.171      -0.588\n",
      "in_swinging        -0.8708      0.152     -5.735      0.000      -1.168      -0.573\n",
      "rebound             0.2143      0.150      1.427      0.153      -0.080       0.509\n",
      "prev_cross         -0.2068      0.056     -3.679      0.000      -0.317      -0.097\n",
      "prev_smart_pass     0.3672      0.077      4.760      0.000       0.216       0.518\n",
      "free_kick           0.9320      0.113      8.254      0.000       0.711       1.153\n",
      "prev_duel          -0.2442      0.048     -5.049      0.000      -0.339      -0.149\n",
      "===================================================================================\n"
     ]
    }
   ],
   "source": [
    "second_logistic_regression= sm.GLM(endog=y_train,exog=second_x_train,data=shots_model, \n",
    "                                           family=sm.families.Binomial()).fit()\n",
    "print(second_logistic_regression.summary())"
   ]
  },
  {
   "cell_type": "code",
   "execution_count": 12,
   "metadata": {},
   "outputs": [
    {
     "name": "stdout",
     "output_type": "stream",
     "text": [
      "0.28084834029857497\n",
      "0.7806248980918616\n"
     ]
    }
   ],
   "source": [
    "y_hat = second_logistic_regression.predict(second_x_test)\n",
    "print(log_loss(y_test, y_hat))\n",
    "print(roc_auc_score(y_test, y_hat))"
   ]
  },
  {
   "cell_type": "markdown",
   "metadata": {},
   "source": [
    "Well that was cool! We reduced the complexity of our model while generating similar performance on a held out dataset. Now, we find that all features (except C) are statistically significant."
   ]
  },
  {
   "cell_type": "markdown",
   "metadata": {},
   "source": [
    "Now, we must consider interactions between variables. One of the main components of generalied linear models is that the  features  are assumed  to be linear on the  scale of the link function (in the case of logistic regression, that's the logit  scale). For example, our current model assumes that as the ball gets further from the goal, the impact (on the logit scale) scales in the same way. That's not a realistic assumption, so we need to hand craft some features in order to account for these interactions between various variables."
   ]
  },
  {
   "cell_type": "markdown",
   "metadata": {},
   "source": [
    "In addition, since Logistic Regression is often favored for being interpretable (more on that later), we will focus on constructing features that make sense for interpretataion, and attempt to isolate and quantify the effects of features"
   ]
  },
  {
   "cell_type": "markdown",
   "metadata": {},
   "source": [
    "In the following cells, we will construct some interaction variables for our models:"
   ]
  },
  {
   "cell_type": "code",
   "execution_count": 13,
   "metadata": {},
   "outputs": [],
   "source": [
    "third_x_train = second_x_train.drop(columns=['X', 'C'])\n",
    "third_x_test = second_x_test.drop(columns=['X', 'C'])"
   ]
  },
  {
   "cell_type": "code",
   "execution_count": 14,
   "metadata": {},
   "outputs": [],
   "source": [
    "third_x_train['header_distance'] = third_x_train['header']*third_x_train['Distance']\n",
    "third_x_train['strong_distance'] = third_x_train['strong_foot']*third_x_train['Distance']\n",
    "third_x_train['header_angle'] = third_x_train['header']*third_x_train['Angle']\n",
    "third_x_train['strong_angle'] = third_x_train['strong_foot']*third_x_train['Angle']\n",
    "third_x_train['in_swinging_angle'] = third_x_train['in_swinging']*third_x_train['Angle']\n",
    "third_x_train['out_swinging_angle'] = third_x_train['out_swinging']*third_x_train['Angle']\n",
    "third_x_train['free_kick_angle'] = third_x_train['free_kick']*third_x_train['Angle']\n",
    "third_x_train['distance_angle'] = third_x_train['Distance']*third_x_train['Angle']\n",
    "third_x_train['duel_header'] = third_x_train['prev_duel']*third_x_train['header']\n",
    "third_x_train['distance_squared'] = third_x_train['Distance']*third_x_train['Distance']\n",
    "third_x_train['strong_distance_squared'] = third_x_train['distance_squared']*third_x_train['strong_foot']"
   ]
  },
  {
   "cell_type": "code",
   "execution_count": 15,
   "metadata": {},
   "outputs": [],
   "source": [
    "third_x_test['header_distance'] = third_x_test['header']*third_x_test['Distance']\n",
    "third_x_test['strong_distance'] = third_x_test['strong_foot']*third_x_test['Distance']\n",
    "third_x_test['header_angle'] = third_x_test['header']*third_x_test['Angle']\n",
    "third_x_test['strong_angle'] = third_x_test['strong_foot']*third_x_test['Angle']\n",
    "third_x_test['in_swinging_angle'] = third_x_test['in_swinging']*third_x_test['Angle']\n",
    "third_x_test['out_swinging_angle'] = third_x_test['out_swinging']*third_x_test['Angle']\n",
    "third_x_test['free_kick_angle'] = third_x_test['free_kick']*third_x_test['Angle']\n",
    "third_x_test['distance_angle'] = third_x_test['Distance']*third_x_test['Angle']\n",
    "third_x_test['duel_header'] = third_x_test['prev_duel']*third_x_test['header']\n",
    "third_x_test['distance_squared'] = third_x_test['Distance']*third_x_test['Distance']\n",
    "third_x_test['strong_distance_squared'] = third_x_test['distance_squared']*third_x_test['strong_foot']"
   ]
  },
  {
   "cell_type": "code",
   "execution_count": 16,
   "metadata": {},
   "outputs": [
    {
     "name": "stdout",
     "output_type": "stream",
     "text": [
      "                 Generalized Linear Model Regression Results                  \n",
      "==============================================================================\n",
      "Dep. Variable:                   Goal   No. Observations:                36207\n",
      "Model:                            GLM   Df Residuals:                    36184\n",
      "Model Family:                Binomial   Df Model:                           22\n",
      "Link Function:                  logit   Scale:                          1.0000\n",
      "Method:                          IRLS   Log-Likelihood:                -9964.0\n",
      "Date:                Sat, 16 May 2020   Deviance:                       19928.\n",
      "Time:                        17:38:29   Pearson chi2:                 3.66e+04\n",
      "No. Iterations:                     8                                         \n",
      "Covariance Type:            nonrobust                                         \n",
      "===========================================================================================\n",
      "                              coef    std err          z      P>|z|      [0.025      0.975]\n",
      "-------------------------------------------------------------------------------------------\n",
      "right_foot                 -0.1217      0.048     -2.519      0.012      -0.216      -0.027\n",
      "header                      0.5312      0.476      1.116      0.265      -0.402       1.464\n",
      "counter_attack              0.5962      0.072      8.299      0.000       0.455       0.737\n",
      "strong_foot                -1.7837      0.430     -4.144      0.000      -2.627      -0.940\n",
      "Distance                   -0.3408      0.025    -13.605      0.000      -0.390      -0.292\n",
      "Angle                       0.0300      0.157      0.191      0.848      -0.277       0.337\n",
      "out_swinging                0.9214      0.341      2.698      0.007       0.252       1.591\n",
      "in_swinging                 0.9665      0.350      2.762      0.006       0.281       1.652\n",
      "rebound                     0.1659      0.151      1.098      0.272      -0.130       0.462\n",
      "prev_cross                 -0.3204      0.059     -5.429      0.000      -0.436      -0.205\n",
      "prev_smart_pass             0.4096      0.078      5.262      0.000       0.257       0.562\n",
      "free_kick                   1.6284      0.430      3.791      0.000       0.786       2.470\n",
      "prev_duel                  -0.0992      0.053     -1.883      0.060      -0.202       0.004\n",
      "header_distance            -0.0183      0.025     -0.723      0.470      -0.068       0.031\n",
      "strong_distance             0.1436      0.031      4.690      0.000       0.084       0.204\n",
      "header_angle               -0.0540      0.206     -0.262      0.793      -0.458       0.350\n",
      "strong_angle                1.0719      0.287      3.730      0.000       0.509       1.635\n",
      "in_swinging_angle          -0.0015      0.145     -0.010      0.992      -0.285       0.282\n",
      "out_swinging_angle          0.0855      0.136      0.628      0.530      -0.181       0.352\n",
      "free_kick_angle            -2.9567      1.626     -1.818      0.069      -6.144       0.231\n",
      "distance_angle              0.1467      0.023      6.369      0.000       0.102       0.192\n",
      "duel_header                -0.6068      0.104     -5.854      0.000      -0.810      -0.404\n",
      "distance_squared            0.0045      0.001      8.757      0.000       0.003       0.005\n",
      "strong_distance_squared    -0.0026      0.001     -3.978      0.000      -0.004      -0.001\n",
      "===========================================================================================\n"
     ]
    }
   ],
   "source": [
    "third_logistic_regression= sm.GLM(endog=y_train,exog=third_x_train,data=shots_model, \n",
    "                                  family=sm.families.Binomial()).fit()\n",
    "print(third_logistic_regression.summary())"
   ]
  },
  {
   "cell_type": "markdown",
   "metadata": {},
   "source": [
    "Well, we find that most of our variables are significant, but our prior of header distance didn't work,  so let's remove that from the  model"
   ]
  },
  {
   "cell_type": "markdown",
   "metadata": {},
   "source": [
    "The models we remove here come after playing around quite a bit with our model and seeing how it performs out of sample. We decided to remove both in swinging andout swinging because the coefficients above were almost identical,  which likely meant there some multicollinearity  at play"
   ]
  },
  {
   "cell_type": "markdown",
   "metadata": {},
   "source": [
    "Note: Other interactions were tried but found to be insignificant, so they were left out of this part of the analysis"
   ]
  },
  {
   "cell_type": "code",
   "execution_count": 17,
   "metadata": {},
   "outputs": [],
   "source": [
    "fourth_x_train = third_x_train.drop(columns=['header_distance', 'rebound', 'in_swinging', \n",
    "                                             'out_swinging', 'in_swinging_angle',\n",
    "                                             'out_swinging_angle', 'header_angle', 'prev_duel'])\n",
    "\n",
    "fourth_x_test = third_x_test.drop(columns=['header_distance', 'rebound', 'in_swinging', \n",
    "                                           'out_swinging', 'in_swinging_angle', \n",
    "                                           'out_swinging_angle', 'header_angle', 'prev_duel'])"
   ]
  },
  {
   "cell_type": "code",
   "execution_count": 18,
   "metadata": {},
   "outputs": [
    {
     "name": "stdout",
     "output_type": "stream",
     "text": [
      "                 Generalized Linear Model Regression Results                  \n",
      "==============================================================================\n",
      "Dep. Variable:                   Goal   No. Observations:                36207\n",
      "Model:                            GLM   Df Residuals:                    36191\n",
      "Model Family:                Binomial   Df Model:                           15\n",
      "Link Function:                  logit   Scale:                          1.0000\n",
      "Method:                          IRLS   Log-Likelihood:                -9971.0\n",
      "Date:                Sat, 16 May 2020   Deviance:                       19942.\n",
      "Time:                        17:38:32   Pearson chi2:                 3.64e+04\n",
      "No. Iterations:                     8                                         \n",
      "Covariance Type:            nonrobust                                         \n",
      "===========================================================================================\n",
      "                              coef    std err          z      P>|z|      [0.025      0.975]\n",
      "-------------------------------------------------------------------------------------------\n",
      "right_foot                 -0.1157      0.048     -2.395      0.017      -0.210      -0.021\n",
      "header                     -0.6030      0.082     -7.382      0.000      -0.763      -0.443\n",
      "counter_attack              0.5917      0.072      8.256      0.000       0.451       0.732\n",
      "strong_foot                -0.8952      0.268     -3.338      0.001      -1.421      -0.370\n",
      "Distance                   -0.2766      0.014    -20.012      0.000      -0.304      -0.250\n",
      "Angle                       0.5519      0.106      5.201      0.000       0.344       0.760\n",
      "prev_cross                 -0.2920      0.057     -5.131      0.000      -0.404      -0.180\n",
      "prev_smart_pass             0.4476      0.075      5.940      0.000       0.300       0.595\n",
      "free_kick                   1.7051      0.430      3.967      0.000       0.863       2.548\n",
      "strong_distance             0.0770      0.022      3.573      0.000       0.035       0.119\n",
      "strong_angle                0.6005      0.190      3.152      0.002       0.227       0.974\n",
      "free_kick_angle            -3.1074      1.634     -1.902      0.057      -6.309       0.094\n",
      "distance_angle              0.1531      0.023      6.668      0.000       0.108       0.198\n",
      "duel_header                -0.6896      0.094     -7.342      0.000      -0.874      -0.506\n",
      "distance_squared            0.0032      0.000      7.018      0.000       0.002       0.004\n",
      "strong_distance_squared    -0.0013      0.001     -2.159      0.031      -0.002      -0.000\n",
      "===========================================================================================\n"
     ]
    }
   ],
   "source": [
    "fourth_logistic_regression= sm.GLM(endog=y_train,exog=fourth_x_train,data=shots_model, \n",
    "                                           family=sm.families.Binomial()).fit()\n",
    "print(fourth_logistic_regression.summary())"
   ]
  },
  {
   "cell_type": "code",
   "execution_count": 19,
   "metadata": {},
   "outputs": [
    {
     "name": "stdout",
     "output_type": "stream",
     "text": [
      "0.27996743296311205\n",
      "0.7819871355346886\n"
     ]
    }
   ],
   "source": [
    "y_hat = fourth_logistic_regression.predict(fourth_x_test)\n",
    "print(log_loss(y_test, y_hat))\n",
    "print(roc_auc_score(y_test, y_hat))"
   ]
  },
  {
   "cell_type": "markdown",
   "metadata": {},
   "source": [
    "And that's it for our Logistic regression model!"
   ]
  },
  {
   "cell_type": "markdown",
   "metadata": {},
   "source": [
    "Even if you read through all of this, I would still recommend reading @CleKraus' notebook on building a logistic regression, as that notebook is more complete and stresses different points of emphasis to this one, as well as doing a more thorough model evaluation process."
   ]
  },
  {
   "cell_type": "markdown",
   "metadata": {},
   "source": [
    "### Comparing  Logistic Regression  and Random Forest"
   ]
  },
  {
   "cell_type": "markdown",
   "metadata": {},
   "source": [
    "Now that we've gone through the process of comparing our logistic regression and Random Forest, it's time to compare the two models against each other. We will use the lessons leaarned from the first 2 notebooks to help guide this section"
   ]
  },
  {
   "cell_type": "markdown",
   "metadata": {},
   "source": [
    "#### Logistic Regression:"
   ]
  },
  {
   "cell_type": "markdown",
   "metadata": {},
   "source": [
    "<b> Pros: </b> <br> <br>\n",
    "1.) Super fast to run <br>\n",
    "2.) Easy to mathematically quanatify the impact that each feature has on the model <br>\n",
    "3.) Easier to identify which features matter <br>\n",
    "4.) Less prone to overfitting, and generally requires less data  <br>\n",
    "5.) Extrapolates well to data that  is outside the bounds of the training test"
   ]
  },
  {
   "cell_type": "markdown",
   "metadata": {},
   "source": [
    "<b> Cons: </b> <br> <br>\n",
    "1.) Assumes that features are linearly correlated (on the logit scale). <br>\n",
    "2.) Lots of effort into feature engineering required. Must hand calculate features and sometimes unclear what the correct decision is. <br>\n",
    "3.) Model coefficients can be uninterpretabale/misleading if multicollinearity present <br>\n",
    "4.) Sensitive to outliers"
   ]
  },
  {
   "cell_type": "markdown",
   "metadata": {},
   "source": [
    "#### Random Forest"
   ]
  },
  {
   "cell_type": "markdown",
   "metadata": {},
   "source": [
    "<b> Pros: </b> <br> <br>\n",
    "1.) Able to easily handle nonlinear interacations between variables, and better handles nonlinear decision surfaces <br>\n",
    "2.) Often has superior predictive performance with a large sample size<br>\n",
    "3.) Algorithm determines which features are important more easily  <br>\n",
    "4.) Less human input required to generate features <br>\n",
    "5.) Easier to handle categorical features <br>"
   ]
  },
  {
   "cell_type": "markdown",
   "metadata": {},
   "source": [
    "<b> Cons: </b> <br> <br>\n",
    "1.) Slow to tune optimal hyperparameters <br>\n",
    "2.) More prone to overfitting <br>\n",
    "3.) Due to decision tree nature, outliers in training set can lead to unintuitive decision surfaces (more on this in Notebook 4!).  <br>\n",
    "4.) Much more difficult to interpret impact of features on model output as well as the overall result (more on this in future Notebooks!) <br>\n",
    "5.) Does not extrapolate well to data that it outside the bounds of the training set\n"
   ]
  },
  {
   "cell_type": "markdown",
   "metadata": {},
   "source": [
    "### Comparing Random Forest And Logistic Regression  Based on Previously Used Metrics"
   ]
  },
  {
   "cell_type": "code",
   "execution_count": 22,
   "metadata": {},
   "outputs": [],
   "source": [
    "rf_model = RandomForestClassifier(n_estimators=500,\n",
    "                                  min_samples_split= 250,\n",
    "                                  min_samples_leaf= 5,\n",
    "                                  max_features= 7,\n",
    "                                  max_depth= 8,\n",
    "                                  criterion= 'gini',\n",
    "                                  n_jobs=-1).fit(x_train, y_train)\n",
    "\n",
    "rf_y_hat=rf_model.predict_proba(x_test)"
   ]
  },
  {
   "cell_type": "code",
   "execution_count": 23,
   "metadata": {},
   "outputs": [
    {
     "name": "stdout",
     "output_type": "stream",
     "text": [
      "The log loss of the Random Forest model on the test set is: 0.2805\n",
      "The ROC-AUC of score the Random Forest Model on the test set is: 0.7817\n"
     ]
    }
   ],
   "source": [
    "print(\"The log loss of the Random Forest model on the test set is: \" \\\n",
    "      +str(round(log_loss(y_test, rf_y_hat[:,-1]), 4)))\n",
    "print(\"The ROC-AUC of score the Random Forest Model on the test set is: \" \\\n",
    "      + str(round(roc_auc_score(y_test, rf_y_hat[:,-1]), 4)))"
   ]
  },
  {
   "cell_type": "markdown",
   "metadata": {},
   "source": [
    "Let's bring the code from the last logistic regression  down"
   ]
  },
  {
   "cell_type": "code",
   "execution_count": 24,
   "metadata": {},
   "outputs": [
    {
     "name": "stdout",
     "output_type": "stream",
     "text": [
      "The log loss of the Logistic Regression model on the test set is: 0.28\n",
      "The ROC-AUC of the Logistic Regression model on the test set is: 0.782\n"
     ]
    }
   ],
   "source": [
    "logistic_y_hat = fourth_logistic_regression.predict(fourth_x_test)\n",
    "print(\"The log loss of the Logistic Regression model on the test set is: \" + \\\n",
    "      str(round(log_loss(y_test, logistic_y_hat), 4)))\n",
    "print(\"The ROC-AUC of the Logistic Regression model on the test set is: \" + \\\n",
    "      str(round(roc_auc_score(y_test, logistic_y_hat), 4)))"
   ]
  },
  {
   "cell_type": "markdown",
   "metadata": {},
   "source": [
    "These metrics are almost identical, with a slight edge to the Random Forest."
   ]
  },
  {
   "cell_type": "markdown",
   "metadata": {},
   "source": [
    "Let's also look at the ROC-AUC curves:"
   ]
  },
  {
   "cell_type": "code",
   "execution_count": 25,
   "metadata": {},
   "outputs": [],
   "source": [
    "rf_fpr, rf_tpr, rf_thresholds = roc_curve(y_true=y_test, y_score=rf_y_hat[:,-1])\n",
    "logreg_fpr, logreg_tpr, logreg_thresholds = roc_curve(y_true=y_test, y_score=logistic_y_hat)"
   ]
  },
  {
   "cell_type": "code",
   "execution_count": 26,
   "metadata": {},
   "outputs": [
    {
     "data": {
      "image/png": "[encoded data removed]",
      "text/plain": [
       "<Figure size 432x288 with 1 Axes>"
      ]
     },
     "metadata": {
      "needs_background": "light"
     },
     "output_type": "display_data"
    }
   ],
   "source": [
    "plt.plot(rf_fpr, rf_tpr, label='Random Forest ROC AUC')\n",
    "plt.plot(logreg_fpr, logreg_tpr, label='Logistic Regression ROC AUC')\n",
    "plt.plot([0, 1], [0, 1], color = 'black', linewidth = 2, linestyle = '--')\n",
    "plt.xlabel('False Positive Rate')\n",
    "plt.ylabel('True Positive Rate')\n",
    "plt.legend()\n",
    "plt.title('ROC AUC Curve For Logistic Regression vs Random Forest')\n",
    "plt.show()"
   ]
  },
  {
   "cell_type": "markdown",
   "metadata": {},
   "source": [
    "These curves are basically right on top of each other."
   ]
  },
  {
   "cell_type": "markdown",
   "metadata": {},
   "source": [
    "### Why Solely Using Data Science Loss Metrics To Evaluate/Choose A Model Is Insufficient and  Problematic"
   ]
  },
  {
   "cell_type": "markdown",
   "metadata": {},
   "source": [
    "After looking at the above comparison between the two models, one could resaonably come to one of the following two conclusions for model selection:"
   ]
  },
  {
   "cell_type": "markdown",
   "metadata": {},
   "source": [
    "#### Potential Takeaway 1: The Logistic Regression has better log-loss and ROC-AUC on a held out dataset, therefore we should pick the Logistic Regression"
   ]
  },
  {
   "cell_type": "markdown",
   "metadata": {},
   "source": [
    "#### Potential Takeaway 2: The results are basically the same, so let's pick the Logistic Regresion because it's simpler and trains much  faster, and  the features are more interpretable"
   ]
  },
  {
   "cell_type": "markdown",
   "metadata": {},
   "source": [
    "Let's think a bit more about  this:"
   ]
  },
  {
   "cell_type": "markdown",
   "metadata": {},
   "source": [
    "In the April 9th weekly Friends of Tracking series video, Laurie Shaw asked Liverpool data scientist Will Spearman what it means to \"improve a model\" and Will replied <b>\"I think the data scientist answer is your log loss goes down but I would almost never give that answer.\" \"We don't care about log-loss, we care about calibration and we care about the football interpretability of your results\"  </b>"
   ]
  },
  {
   "cell_type": "markdown",
   "metadata": {},
   "source": [
    "Link to video: https://www.youtube.com/watch?v=kHTq9cwdkGA&t=2707s (clip at around 56 minutes)"
   ]
  },
  {
   "cell_type": "markdown",
   "metadata": {},
   "source": [
    "Most machine learning models measure some sort of objective function, which is a mathematical output generated by the predictions and the true label. In the models we've fit so far, the objective function is the log-loss, and the model \"learns\" to optimize this quantity across all datapoints. The techniques we employed in the first two notebooks help us determine if the model is able to generalize to new data, and acheieve a satisfactory \"score\"  for this objective function on a held out data set."
   ]
  },
  {
   "cell_type": "markdown",
   "metadata": {},
   "source": [
    "Oftentimes optimizing an objective function is correlated but not directly related to what you hope to acheive with a model. Since we are optimizing an average quantity across a dataset, this could mean that the model is perfect in 99% of cases, but in 1% of cases is wildly off, which in theory could still optimize the global metric across all the datapoints."
   ]
  },
  {
   "cell_type": "markdown",
   "metadata": {},
   "source": [
    "As a data scientist in any industry, it is important to understand what the end goal of your work is (hint: unless it's Kaggle it's usually not optimizing log loss), and to develop tools and/or metrics to ensure successful delivery  and communication of key results"
   ]
  },
  {
   "cell_type": "markdown",
   "metadata": {},
   "source": [
    "As a soccer data scientist, your end goal is often to communicate key findings efficiently and effectively to a coach or player. Therefore, you need to be confident that your findings are accurate before presenting them. As Will Spearman said in the video linked above, \"you need to understand the ins and outs of your model, and understand where that model breaks down in  order to improve it.\""
   ]
  },
  {
   "cell_type": "markdown",
   "metadata": {},
   "source": [
    "Thus, you need to make sure that the specific output you are presenting is accurate/believable, otherwise you will lose credibility with the coach or player in the future."
   ]
  },
  {
   "cell_type": "markdown",
   "metadata": {},
   "source": [
    "To date, we have yet to build out anything that tests how accurate and understandable our models are. Therefore, we have no real way of knowing if the Random Forest or Logistic Regression is a better model for expected goals, despite employing quite a few sophisticated and well known data science techniques to build these models."
   ]
  },
  {
   "cell_type": "markdown",
   "metadata": {},
   "source": [
    "The purpose of the first 2 notebooks was to examine the strengths and weaknesses of these two model classes when trying to predict expected goals, which  will help  inform  us  when we test these models. In addition, the  notebooks help illustrate why traditional data science techniques are necessary but not sufficient to building an effective expected goals model."
   ]
  },
  {
   "cell_type": "markdown",
   "metadata": {},
   "source": [
    "In the rest of the series, we will focus on building tools to test and calibrate our models, and use these tools to find places where our model could be useful in presenting to a player or coach."
   ]
  }
 ],
 "metadata": {
  "kernelspec": {
   "display_name": "Python 3",
   "language": "python",
   "name": "python3"
  },
  "language_info": {
   "codemirror_mode": {
    "name": "ipython",
    "version": 3
   },
   "file_extension": ".py",
   "mimetype": "text/x-python",
   "name": "python",
   "nbconvert_exporter": "python",
   "pygments_lexer": "ipython3",
   "version": "3.7.6"
  }
 },
 "nbformat": 4,
 "nbformat_minor": 4
}
